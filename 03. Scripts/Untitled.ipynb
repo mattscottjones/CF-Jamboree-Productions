{
 "cells": [
  {
   "cell_type": "markdown",
   "id": "b2e77928",
   "metadata": {},
   "source": [
    "## 1. Importing Libraries"
   ]
  },
  {
   "cell_type": "code",
   "execution_count": 1,
   "id": "74001de0",
   "metadata": {},
   "outputs": [],
   "source": [
    "import pandas as pd\n",
    "import numpy as np\n",
    "import seaborn as sns\n",
    "import matplotlib\n",
    "import matplotlib.pyplot as plt\n",
    "import os"
   ]
  },
  {
   "cell_type": "markdown",
   "id": "93e9b0ce",
   "metadata": {},
   "source": [
    "## 2. Importing Data"
   ]
  },
  {
   "cell_type": "code",
   "execution_count": 2,
   "id": "8fd513a2",
   "metadata": {},
   "outputs": [],
   "source": [
    "# Set project folder as a string\n",
    "path = r'/Users/matthewjones/Documents/CareerFoundry/Data Immersion/Achievement 6/Jamboree Entertainment Analysis'"
   ]
  },
  {
   "cell_type": "code",
   "execution_count": 3,
   "id": "f7575d71",
   "metadata": {},
   "outputs": [
    {
     "name": "stderr",
     "output_type": "stream",
     "text": [
      "/var/folders/40/hn3x1h6s6vgb3bv80rtm46q80000gn/T/ipykernel_59048/2324360867.py:1: DtypeWarning: Columns (36) have mixed types. Specify dtype option on import or set low_memory=False.\n",
      "  df_movies = pd.read_csv(os.path.join(path, '02. Data', 'Prepared Data', 'clean_movies_clustered.csv'), index_col = False)\n"
     ]
    }
   ],
   "source": [
    "df_movies = pd.read_csv(os.path.join(path, '02. Data', 'Prepared Data', 'clean_movies_clustered.csv'), index_col = False)"
   ]
  },
  {
   "cell_type": "markdown",
   "id": "594b65d8",
   "metadata": {},
   "source": [
    "## 3. Checking the Data"
   ]
  },
  {
   "cell_type": "code",
   "execution_count": 4,
   "id": "e044015d",
   "metadata": {},
   "outputs": [
    {
     "data": {
      "text/plain": [
       "Index(['Unnamed: 0', 'id', 'title', 'vote_average', 'vote_count',\n",
       "       'release_date', 'revenue', 'runtime', 'budget', 'synopsis', 'genres',\n",
       "       'production_companies', 'production_countries', 'spoken_languages',\n",
       "       'original_language', 'action', 'adventure', 'animation', 'comedy',\n",
       "       'crime', 'documentary', 'drama', 'family', 'fantasy', 'history',\n",
       "       'horror', 'music', 'mystery', 'romance', 'science_fiction', 'tv_movie',\n",
       "       'thriller', 'war', 'western', 'runtime_category', 'budget_category',\n",
       "       'cluster'],\n",
       "      dtype='object')"
      ]
     },
     "execution_count": 4,
     "metadata": {},
     "output_type": "execute_result"
    }
   ],
   "source": [
    "df_movies.columns"
   ]
  },
  {
   "cell_type": "code",
   "execution_count": 5,
   "id": "9b9001b5",
   "metadata": {},
   "outputs": [],
   "source": [
    "# Drop the unnecessary column\n",
    "df_movies = df_movies.drop(['Unnamed: 0'], axis = 1)"
   ]
  },
  {
   "cell_type": "code",
   "execution_count": 6,
   "id": "57417475",
   "metadata": {},
   "outputs": [
    {
     "data": {
      "text/plain": [
       "(490711, 36)"
      ]
     },
     "execution_count": 6,
     "metadata": {},
     "output_type": "execute_result"
    }
   ],
   "source": [
    "df_movies.shape"
   ]
  },
  {
   "cell_type": "markdown",
   "id": "6408ffe4",
   "metadata": {},
   "source": [
    "## 4. Data Wrangling"
   ]
  },
  {
   "cell_type": "code",
   "execution_count": 7,
   "id": "5c036035",
   "metadata": {},
   "outputs": [],
   "source": [
    "# Subset the dataframe to include films with a budget, a revenue, and at least 150 votes\n",
    "df_voted_movies = df_movies.loc[(df_movies['budget'] > 0) & (df_movies['revenue'] > 0) & \n",
    "                                (df_movies['vote_count'] >= 150)]"
   ]
  },
  {
   "cell_type": "markdown",
   "id": "76d05fff",
   "metadata": {},
   "source": [
    "### Production Country"
   ]
  },
  {
   "cell_type": "code",
   "execution_count": 8,
   "id": "5b793012",
   "metadata": {},
   "outputs": [],
   "source": [
    "# Select only the production country data\n",
    "df_movies_by_country = df_voted_movies[['id', 'production_countries', 'revenue']]"
   ]
  },
  {
   "cell_type": "code",
   "execution_count": 9,
   "id": "570d6fc1",
   "metadata": {},
   "outputs": [
    {
     "name": "stderr",
     "output_type": "stream",
     "text": [
      "/var/folders/40/hn3x1h6s6vgb3bv80rtm46q80000gn/T/ipykernel_59048/2905672255.py:6: SettingWithCopyWarning: \n",
      "A value is trying to be set on a copy of a slice from a DataFrame.\n",
      "Try using .loc[row_indexer,col_indexer] = value instead\n",
      "\n",
      "See the caveats in the documentation: https://pandas.pydata.org/pandas-docs/stable/user_guide/indexing.html#returning-a-view-versus-a-copy\n",
      "  df_movies_by_country['production_countries'] = df_movies_by_country['production_countries'].apply(split_countries)\n"
     ]
    }
   ],
   "source": [
    "# Create a function to turn a string into a list\n",
    "def split_countries(x):\n",
    "    return x.split(', ')\n",
    "\n",
    "# Apply the function to every value in the 'production_countries' column\n",
    "df_movies_by_country['production_countries'] = df_movies_by_country['production_countries'].apply(split_countries)"
   ]
  },
  {
   "cell_type": "code",
   "execution_count": 25,
   "id": "c2c84abe",
   "metadata": {},
   "outputs": [],
   "source": [
    "# Use the explode function to create a new row for each element of each list\n",
    "tableau_countries = df_movies_by_country.explode('production_countries').reset_index(drop=True)"
   ]
  },
  {
   "cell_type": "code",
   "execution_count": 26,
   "id": "d6929fba",
   "metadata": {},
   "outputs": [
    {
     "data": {
      "text/html": [
       "<div>\n",
       "<style scoped>\n",
       "    .dataframe tbody tr th:only-of-type {\n",
       "        vertical-align: middle;\n",
       "    }\n",
       "\n",
       "    .dataframe tbody tr th {\n",
       "        vertical-align: top;\n",
       "    }\n",
       "\n",
       "    .dataframe thead th {\n",
       "        text-align: right;\n",
       "    }\n",
       "</style>\n",
       "<table border=\"1\" class=\"dataframe\">\n",
       "  <thead>\n",
       "    <tr style=\"text-align: right;\">\n",
       "      <th></th>\n",
       "      <th>id</th>\n",
       "      <th>production_countries</th>\n",
       "      <th>revenue</th>\n",
       "    </tr>\n",
       "  </thead>\n",
       "  <tbody>\n",
       "    <tr>\n",
       "      <th>0</th>\n",
       "      <td>27205</td>\n",
       "      <td>United Kingdom</td>\n",
       "      <td>8.255328e+08</td>\n",
       "    </tr>\n",
       "    <tr>\n",
       "      <th>1</th>\n",
       "      <td>27205</td>\n",
       "      <td>United States of America</td>\n",
       "      <td>8.255328e+08</td>\n",
       "    </tr>\n",
       "    <tr>\n",
       "      <th>2</th>\n",
       "      <td>157336</td>\n",
       "      <td>United Kingdom</td>\n",
       "      <td>7.017292e+08</td>\n",
       "    </tr>\n",
       "    <tr>\n",
       "      <th>3</th>\n",
       "      <td>157336</td>\n",
       "      <td>United States of America</td>\n",
       "      <td>7.017292e+08</td>\n",
       "    </tr>\n",
       "    <tr>\n",
       "      <th>4</th>\n",
       "      <td>155</td>\n",
       "      <td>United Kingdom</td>\n",
       "      <td>1.004558e+09</td>\n",
       "    </tr>\n",
       "    <tr>\n",
       "      <th>...</th>\n",
       "      <td>...</td>\n",
       "      <td>...</td>\n",
       "      <td>...</td>\n",
       "    </tr>\n",
       "    <tr>\n",
       "      <th>14231</th>\n",
       "      <td>21661</td>\n",
       "      <td>United States of America</td>\n",
       "      <td>1.022412e+07</td>\n",
       "    </tr>\n",
       "    <tr>\n",
       "      <th>14232</th>\n",
       "      <td>21612</td>\n",
       "      <td>United States of America</td>\n",
       "      <td>1.227324e+06</td>\n",
       "    </tr>\n",
       "    <tr>\n",
       "      <th>14233</th>\n",
       "      <td>374173</td>\n",
       "      <td>India</td>\n",
       "      <td>1.889792e+07</td>\n",
       "    </tr>\n",
       "    <tr>\n",
       "      <th>14234</th>\n",
       "      <td>85621</td>\n",
       "      <td>Czech Republic</td>\n",
       "      <td>6.638849e+06</td>\n",
       "    </tr>\n",
       "    <tr>\n",
       "      <th>14235</th>\n",
       "      <td>585257</td>\n",
       "      <td>Russia</td>\n",
       "      <td>1.291615e+07</td>\n",
       "    </tr>\n",
       "  </tbody>\n",
       "</table>\n",
       "<p>14236 rows × 3 columns</p>\n",
       "</div>"
      ],
      "text/plain": [
       "           id      production_countries       revenue\n",
       "0       27205            United Kingdom  8.255328e+08\n",
       "1       27205  United States of America  8.255328e+08\n",
       "2      157336            United Kingdom  7.017292e+08\n",
       "3      157336  United States of America  7.017292e+08\n",
       "4         155            United Kingdom  1.004558e+09\n",
       "...       ...                       ...           ...\n",
       "14231   21661  United States of America  1.022412e+07\n",
       "14232   21612  United States of America  1.227324e+06\n",
       "14233  374173                     India  1.889792e+07\n",
       "14234   85621            Czech Republic  6.638849e+06\n",
       "14235  585257                    Russia  1.291615e+07\n",
       "\n",
       "[14236 rows x 3 columns]"
      ]
     },
     "execution_count": 26,
     "metadata": {},
     "output_type": "execute_result"
    }
   ],
   "source": [
    "tableau_countries"
   ]
  },
  {
   "cell_type": "markdown",
   "id": "9f748bbc",
   "metadata": {},
   "source": [
    "### Genres"
   ]
  },
  {
   "cell_type": "code",
   "execution_count": 13,
   "id": "acf7ceae",
   "metadata": {},
   "outputs": [],
   "source": [
    "# Select only the production country data\n",
    "df_movies_by_genre = df_voted_movies[['id', 'genres', 'budget', 'revenue', 'release_date', 'cluster']]"
   ]
  },
  {
   "cell_type": "code",
   "execution_count": 14,
   "id": "97b0f439",
   "metadata": {},
   "outputs": [
    {
     "name": "stderr",
     "output_type": "stream",
     "text": [
      "/var/folders/40/hn3x1h6s6vgb3bv80rtm46q80000gn/T/ipykernel_59048/4275810118.py:6: SettingWithCopyWarning: \n",
      "A value is trying to be set on a copy of a slice from a DataFrame.\n",
      "Try using .loc[row_indexer,col_indexer] = value instead\n",
      "\n",
      "See the caveats in the documentation: https://pandas.pydata.org/pandas-docs/stable/user_guide/indexing.html#returning-a-view-versus-a-copy\n",
      "  df_movies_by_genre['genres'] = df_movies_by_genre['genres'].apply(split_genres)\n"
     ]
    }
   ],
   "source": [
    "# Create a function to turn a string into a list\n",
    "def split_genres(x):\n",
    "    return x.split(', ')\n",
    "\n",
    "# Apply the function to every value in the 'production_countries' column\n",
    "df_movies_by_genre['genres'] = df_movies_by_genre['genres'].apply(split_genres)"
   ]
  },
  {
   "cell_type": "code",
   "execution_count": 15,
   "id": "4b5883e0",
   "metadata": {},
   "outputs": [],
   "source": [
    "# Use the explode function to create a new row for each element of each list\n",
    "tableau_genre = df_movies_by_genre.explode('genres').reset_index(drop=True)"
   ]
  },
  {
   "cell_type": "code",
   "execution_count": 16,
   "id": "30234e3b",
   "metadata": {},
   "outputs": [
    {
     "data": {
      "text/html": [
       "<div>\n",
       "<style scoped>\n",
       "    .dataframe tbody tr th:only-of-type {\n",
       "        vertical-align: middle;\n",
       "    }\n",
       "\n",
       "    .dataframe tbody tr th {\n",
       "        vertical-align: top;\n",
       "    }\n",
       "\n",
       "    .dataframe thead th {\n",
       "        text-align: right;\n",
       "    }\n",
       "</style>\n",
       "<table border=\"1\" class=\"dataframe\">\n",
       "  <thead>\n",
       "    <tr style=\"text-align: right;\">\n",
       "      <th></th>\n",
       "      <th>id</th>\n",
       "      <th>genres</th>\n",
       "      <th>budget</th>\n",
       "      <th>revenue</th>\n",
       "      <th>release_date</th>\n",
       "      <th>cluster</th>\n",
       "    </tr>\n",
       "  </thead>\n",
       "  <tbody>\n",
       "    <tr>\n",
       "      <th>0</th>\n",
       "      <td>27205</td>\n",
       "      <td>Action</td>\n",
       "      <td>160000000.0</td>\n",
       "      <td>825532764.0</td>\n",
       "      <td>2010-07-15</td>\n",
       "      <td>Pink</td>\n",
       "    </tr>\n",
       "    <tr>\n",
       "      <th>1</th>\n",
       "      <td>27205</td>\n",
       "      <td>Science Fiction</td>\n",
       "      <td>160000000.0</td>\n",
       "      <td>825532764.0</td>\n",
       "      <td>2010-07-15</td>\n",
       "      <td>Pink</td>\n",
       "    </tr>\n",
       "    <tr>\n",
       "      <th>2</th>\n",
       "      <td>27205</td>\n",
       "      <td>Adventure</td>\n",
       "      <td>160000000.0</td>\n",
       "      <td>825532764.0</td>\n",
       "      <td>2010-07-15</td>\n",
       "      <td>Pink</td>\n",
       "    </tr>\n",
       "    <tr>\n",
       "      <th>3</th>\n",
       "      <td>157336</td>\n",
       "      <td>Adventure</td>\n",
       "      <td>165000000.0</td>\n",
       "      <td>701729206.0</td>\n",
       "      <td>2014-11-05</td>\n",
       "      <td>Pink</td>\n",
       "    </tr>\n",
       "    <tr>\n",
       "      <th>4</th>\n",
       "      <td>157336</td>\n",
       "      <td>Drama</td>\n",
       "      <td>165000000.0</td>\n",
       "      <td>701729206.0</td>\n",
       "      <td>2014-11-05</td>\n",
       "      <td>Pink</td>\n",
       "    </tr>\n",
       "    <tr>\n",
       "      <th>...</th>\n",
       "      <td>...</td>\n",
       "      <td>...</td>\n",
       "      <td>...</td>\n",
       "      <td>...</td>\n",
       "      <td>...</td>\n",
       "      <td>...</td>\n",
       "    </tr>\n",
       "    <tr>\n",
       "      <th>24432</th>\n",
       "      <td>374173</td>\n",
       "      <td>Comedy</td>\n",
       "      <td>3577143.0</td>\n",
       "      <td>18897918.0</td>\n",
       "      <td>2016-03-18</td>\n",
       "      <td>Grape</td>\n",
       "    </tr>\n",
       "    <tr>\n",
       "      <th>24433</th>\n",
       "      <td>85621</td>\n",
       "      <td>Comedy</td>\n",
       "      <td>1130710.0</td>\n",
       "      <td>6638849.0</td>\n",
       "      <td>2011-08-25</td>\n",
       "      <td>Pink</td>\n",
       "    </tr>\n",
       "    <tr>\n",
       "      <th>24434</th>\n",
       "      <td>85621</td>\n",
       "      <td>Romance</td>\n",
       "      <td>1130710.0</td>\n",
       "      <td>6638849.0</td>\n",
       "      <td>2011-08-25</td>\n",
       "      <td>Pink</td>\n",
       "    </tr>\n",
       "    <tr>\n",
       "      <th>24435</th>\n",
       "      <td>585257</td>\n",
       "      <td>Action</td>\n",
       "      <td>7000000.0</td>\n",
       "      <td>12916151.0</td>\n",
       "      <td>2020-12-24</td>\n",
       "      <td>Eggplant</td>\n",
       "    </tr>\n",
       "    <tr>\n",
       "      <th>24436</th>\n",
       "      <td>585257</td>\n",
       "      <td>Drama</td>\n",
       "      <td>7000000.0</td>\n",
       "      <td>12916151.0</td>\n",
       "      <td>2020-12-24</td>\n",
       "      <td>Eggplant</td>\n",
       "    </tr>\n",
       "  </tbody>\n",
       "</table>\n",
       "<p>24437 rows × 6 columns</p>\n",
       "</div>"
      ],
      "text/plain": [
       "           id           genres       budget      revenue release_date  \\\n",
       "0       27205           Action  160000000.0  825532764.0   2010-07-15   \n",
       "1       27205  Science Fiction  160000000.0  825532764.0   2010-07-15   \n",
       "2       27205        Adventure  160000000.0  825532764.0   2010-07-15   \n",
       "3      157336        Adventure  165000000.0  701729206.0   2014-11-05   \n",
       "4      157336            Drama  165000000.0  701729206.0   2014-11-05   \n",
       "...       ...              ...          ...          ...          ...   \n",
       "24432  374173           Comedy    3577143.0   18897918.0   2016-03-18   \n",
       "24433   85621           Comedy    1130710.0    6638849.0   2011-08-25   \n",
       "24434   85621          Romance    1130710.0    6638849.0   2011-08-25   \n",
       "24435  585257           Action    7000000.0   12916151.0   2020-12-24   \n",
       "24436  585257            Drama    7000000.0   12916151.0   2020-12-24   \n",
       "\n",
       "        cluster  \n",
       "0          Pink  \n",
       "1          Pink  \n",
       "2          Pink  \n",
       "3          Pink  \n",
       "4          Pink  \n",
       "...         ...  \n",
       "24432     Grape  \n",
       "24433      Pink  \n",
       "24434      Pink  \n",
       "24435  Eggplant  \n",
       "24436  Eggplant  \n",
       "\n",
       "[24437 rows x 6 columns]"
      ]
     },
     "execution_count": 16,
     "metadata": {},
     "output_type": "execute_result"
    }
   ],
   "source": [
    "tableau_genre"
   ]
  },
  {
   "cell_type": "markdown",
   "id": "0cee83f7",
   "metadata": {},
   "source": [
    "### Production Company"
   ]
  },
  {
   "cell_type": "code",
   "execution_count": 17,
   "id": "fb28c6bc",
   "metadata": {},
   "outputs": [],
   "source": [
    "# Select only the production country data\n",
    "df_movies_by_company = df_voted_movies[['id', 'production_companies', 'cluster']]"
   ]
  },
  {
   "cell_type": "code",
   "execution_count": 18,
   "id": "19131292",
   "metadata": {},
   "outputs": [
    {
     "name": "stderr",
     "output_type": "stream",
     "text": [
      "/var/folders/40/hn3x1h6s6vgb3bv80rtm46q80000gn/T/ipykernel_59048/153363543.py:1: SettingWithCopyWarning: \n",
      "A value is trying to be set on a copy of a slice from a DataFrame.\n",
      "Try using .loc[row_indexer,col_indexer] = value instead\n",
      "\n",
      "See the caveats in the documentation: https://pandas.pydata.org/pandas-docs/stable/user_guide/indexing.html#returning-a-view-versus-a-copy\n",
      "  df_movies_by_company['production_companies'] = df_movies_by_company['production_companies'].astype('str')\n"
     ]
    }
   ],
   "source": [
    "df_movies_by_company['production_companies'] = df_movies_by_company['production_companies'].astype('str')"
   ]
  },
  {
   "cell_type": "code",
   "execution_count": 19,
   "id": "7224a9b5",
   "metadata": {},
   "outputs": [
    {
     "name": "stderr",
     "output_type": "stream",
     "text": [
      "/var/folders/40/hn3x1h6s6vgb3bv80rtm46q80000gn/T/ipykernel_59048/3236872408.py:6: SettingWithCopyWarning: \n",
      "A value is trying to be set on a copy of a slice from a DataFrame.\n",
      "Try using .loc[row_indexer,col_indexer] = value instead\n",
      "\n",
      "See the caveats in the documentation: https://pandas.pydata.org/pandas-docs/stable/user_guide/indexing.html#returning-a-view-versus-a-copy\n",
      "  df_movies_by_company['production_companies'] = df_movies_by_company['production_companies'].apply(split_companies)\n"
     ]
    }
   ],
   "source": [
    "# Create a function to turn a string into a list\n",
    "def split_companies(x):\n",
    "    return x.split(', ')\n",
    "\n",
    "# Apply the function to every value in the 'production_countries' column\n",
    "df_movies_by_company['production_companies'] = df_movies_by_company['production_companies'].apply(split_companies)"
   ]
  },
  {
   "cell_type": "code",
   "execution_count": 20,
   "id": "734c83f7",
   "metadata": {},
   "outputs": [],
   "source": [
    "# Use the explode function to create a new row for each element of each list\n",
    "tableau_company = df_movies_by_company.explode('production_companies').reset_index(drop=True)"
   ]
  },
  {
   "cell_type": "code",
   "execution_count": 21,
   "id": "4f1feb82",
   "metadata": {},
   "outputs": [
    {
     "data": {
      "text/html": [
       "<div>\n",
       "<style scoped>\n",
       "    .dataframe tbody tr th:only-of-type {\n",
       "        vertical-align: middle;\n",
       "    }\n",
       "\n",
       "    .dataframe tbody tr th {\n",
       "        vertical-align: top;\n",
       "    }\n",
       "\n",
       "    .dataframe thead th {\n",
       "        text-align: right;\n",
       "    }\n",
       "</style>\n",
       "<table border=\"1\" class=\"dataframe\">\n",
       "  <thead>\n",
       "    <tr style=\"text-align: right;\">\n",
       "      <th></th>\n",
       "      <th>id</th>\n",
       "      <th>production_companies</th>\n",
       "      <th>cluster</th>\n",
       "    </tr>\n",
       "  </thead>\n",
       "  <tbody>\n",
       "    <tr>\n",
       "      <th>0</th>\n",
       "      <td>27205</td>\n",
       "      <td>Legendary Pictures</td>\n",
       "      <td>Pink</td>\n",
       "    </tr>\n",
       "    <tr>\n",
       "      <th>1</th>\n",
       "      <td>27205</td>\n",
       "      <td>Syncopy</td>\n",
       "      <td>Pink</td>\n",
       "    </tr>\n",
       "    <tr>\n",
       "      <th>2</th>\n",
       "      <td>27205</td>\n",
       "      <td>Warner Bros. Pictures</td>\n",
       "      <td>Pink</td>\n",
       "    </tr>\n",
       "    <tr>\n",
       "      <th>3</th>\n",
       "      <td>157336</td>\n",
       "      <td>Legendary Pictures</td>\n",
       "      <td>Pink</td>\n",
       "    </tr>\n",
       "    <tr>\n",
       "      <th>4</th>\n",
       "      <td>157336</td>\n",
       "      <td>Syncopy</td>\n",
       "      <td>Pink</td>\n",
       "    </tr>\n",
       "    <tr>\n",
       "      <th>...</th>\n",
       "      <td>...</td>\n",
       "      <td>...</td>\n",
       "      <td>...</td>\n",
       "    </tr>\n",
       "    <tr>\n",
       "      <th>33887</th>\n",
       "      <td>585257</td>\n",
       "      <td>Studio Trite</td>\n",
       "      <td>Eggplant</td>\n",
       "    </tr>\n",
       "    <tr>\n",
       "      <th>33888</th>\n",
       "      <td>585257</td>\n",
       "      <td>Cinema Fund</td>\n",
       "      <td>Eggplant</td>\n",
       "    </tr>\n",
       "    <tr>\n",
       "      <th>33889</th>\n",
       "      <td>585257</td>\n",
       "      <td>Russia-1</td>\n",
       "      <td>Eggplant</td>\n",
       "    </tr>\n",
       "    <tr>\n",
       "      <th>33890</th>\n",
       "      <td>585257</td>\n",
       "      <td>Central Partnership</td>\n",
       "      <td>Eggplant</td>\n",
       "    </tr>\n",
       "    <tr>\n",
       "      <th>33891</th>\n",
       "      <td>585257</td>\n",
       "      <td>VGTRK</td>\n",
       "      <td>Eggplant</td>\n",
       "    </tr>\n",
       "  </tbody>\n",
       "</table>\n",
       "<p>33892 rows × 3 columns</p>\n",
       "</div>"
      ],
      "text/plain": [
       "           id   production_companies   cluster\n",
       "0       27205     Legendary Pictures      Pink\n",
       "1       27205                Syncopy      Pink\n",
       "2       27205  Warner Bros. Pictures      Pink\n",
       "3      157336     Legendary Pictures      Pink\n",
       "4      157336                Syncopy      Pink\n",
       "...       ...                    ...       ...\n",
       "33887  585257           Studio Trite  Eggplant\n",
       "33888  585257            Cinema Fund  Eggplant\n",
       "33889  585257               Russia-1  Eggplant\n",
       "33890  585257    Central Partnership  Eggplant\n",
       "33891  585257                  VGTRK  Eggplant\n",
       "\n",
       "[33892 rows x 3 columns]"
      ]
     },
     "execution_count": 21,
     "metadata": {},
     "output_type": "execute_result"
    }
   ],
   "source": [
    "tableau_company"
   ]
  },
  {
   "cell_type": "markdown",
   "id": "f83a8fc5",
   "metadata": {},
   "source": [
    "## Exporting Data"
   ]
  },
  {
   "cell_type": "code",
   "execution_count": 27,
   "id": "684c180e",
   "metadata": {},
   "outputs": [],
   "source": [
    "# Export df_actual_features\n",
    "tableau_countries.to_csv(os.path.join(path, '02. Data', 'Prepared Data', 'countries_expanded.csv'))"
   ]
  },
  {
   "cell_type": "code",
   "execution_count": 23,
   "id": "13c78c66",
   "metadata": {},
   "outputs": [],
   "source": [
    "# Export df_actual_features\n",
    "tableau_genre.to_csv(os.path.join(path, '02. Data', 'Prepared Data', 'genres_expanded.csv'))"
   ]
  },
  {
   "cell_type": "code",
   "execution_count": 24,
   "id": "a60580c5",
   "metadata": {},
   "outputs": [],
   "source": [
    "# Export df_actual_features\n",
    "tableau_company.to_csv(os.path.join(path, '02. Data', 'Prepared Data', 'companies_expanded.csv'))"
   ]
  },
  {
   "cell_type": "code",
   "execution_count": null,
   "id": "48d4b2d8",
   "metadata": {},
   "outputs": [],
   "source": []
  }
 ],
 "metadata": {
  "kernelspec": {
   "display_name": "Python 3 (ipykernel)",
   "language": "python",
   "name": "python3"
  },
  "language_info": {
   "codemirror_mode": {
    "name": "ipython",
    "version": 3
   },
   "file_extension": ".py",
   "mimetype": "text/x-python",
   "name": "python",
   "nbconvert_exporter": "python",
   "pygments_lexer": "ipython3",
   "version": "3.11.8"
  }
 },
 "nbformat": 4,
 "nbformat_minor": 5
}
