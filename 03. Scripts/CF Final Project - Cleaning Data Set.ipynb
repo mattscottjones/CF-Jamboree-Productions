{
 "cells": [
  {
   "cell_type": "markdown",
   "id": "90b3eccd",
   "metadata": {},
   "source": [
    "# JAMBOREE PRODUCTIONS | Cleaning Data Set"
   ]
  },
  {
   "cell_type": "markdown",
   "id": "f583d197",
   "metadata": {},
   "source": [
    "### This script contains the following points:\n",
    "#### 1. Importing Libraries\n",
    "#### 2. Importing Data\n",
    "#### 3. Checking the Data\n",
    "#### 4. Dropping all Unreleased Films\n",
    "        Reasoning\n",
    "#### 5. Dropping Unnecessary Columns\n",
    "        Reasoning\n",
    "#### 6. Renaming Columns\n",
    "        Reasoning\n",
    "#### 7. Checking for Duplicated Rows\n",
    "#### 8. Imputing Budget and Revenue Values\n",
    "        Reasoning\n",
    "#### 9. Checking for Missing Values\n",
    "        Observation and Plan\n",
    "        New Observation\n",
    "        Production Companies\n",
    "        Production Countries\n",
    "        Spoken Languages\n",
    "#### 10. Checking for Incorrect Values\n",
    "        Reasoning\n",
    "        Runtime\n",
    "        Budget\n",
    "        Revenue\n",
    "        Release Date\n",
    "        Original Language\n",
    "#### 11. Checking for Mixed-Type Columns\n",
    "#### 12. Creating New Columns for Genres\n",
    "        Action\n",
    "        Adventure\n",
    "        Animation\n",
    "        Comedy\n",
    "        Crime\n",
    "        Documentary\n",
    "        Drama\n",
    "        Family\n",
    "        Fantasy\n",
    "        History\n",
    "        Horror\n",
    "        Mystery\n",
    "        Music\n",
    "        Romance\n",
    "        Science Fiction\n",
    "        TV Movie\n",
    "        Thriller\n",
    "        War\n",
    "        Western\n",
    "#### 13. Creating New Runtime Category Column\n",
    "        Reasoning\n",
    "#### 14. Creating New Budget Category Column\n",
    "        Reasoning\n",
    "#### 15. Data Profile\n",
    "#### 16. Exporting Data"
   ]
  },
  {
   "cell_type": "markdown",
   "id": "7df7e696",
   "metadata": {},
   "source": [
    "## 1. Importing Libraries"
   ]
  },
  {
   "cell_type": "code",
   "execution_count": 1,
   "id": "cf737bfa",
   "metadata": {},
   "outputs": [],
   "source": [
    "# Import Libraries\n",
    "import pandas as pd\n",
    "from ydata_profiling import ProfileReport\n",
    "import numpy as np\n",
    "import matplotlib.pyplot as plt\n",
    "import seaborn as sns\n",
    "import os"
   ]
  },
  {
   "cell_type": "markdown",
   "id": "57699a68",
   "metadata": {},
   "source": [
    "## 2. Importing Data"
   ]
  },
  {
   "cell_type": "code",
   "execution_count": 2,
   "id": "625f19ee",
   "metadata": {},
   "outputs": [],
   "source": [
    "# Set project folder as a string\n",
    "path = r'/Users/matthewjones/Documents/CareerFoundry/Data Immersion/Achievement 6/Jamboree Entertainment Analysis'"
   ]
  },
  {
   "cell_type": "code",
   "execution_count": 3,
   "id": "cceaec41",
   "metadata": {},
   "outputs": [],
   "source": [
    "df_movies = pd.read_csv(os.path.join(path, '02. Data', 'Original Data', 'TMDB_movie_dataset_v11.csv'), \n",
    "                        index_col = False)"
   ]
  },
  {
   "cell_type": "code",
   "execution_count": 4,
   "id": "b26e50cd",
   "metadata": {},
   "outputs": [],
   "source": [
    "iso_languages = pd.read_csv(os.path.join(path, '02. Data', 'Original Data', 'iso_639-1.csv'), \n",
    "                            index_col = False)"
   ]
  },
  {
   "cell_type": "markdown",
   "id": "feff08c7",
   "metadata": {},
   "source": [
    "## 3. Checking the Data"
   ]
  },
  {
   "cell_type": "code",
   "execution_count": 5,
   "id": "ab01d37b",
   "metadata": {},
   "outputs": [
    {
     "data": {
      "text/html": [
       "<div>\n",
       "<style scoped>\n",
       "    .dataframe tbody tr th:only-of-type {\n",
       "        vertical-align: middle;\n",
       "    }\n",
       "\n",
       "    .dataframe tbody tr th {\n",
       "        vertical-align: top;\n",
       "    }\n",
       "\n",
       "    .dataframe thead th {\n",
       "        text-align: right;\n",
       "    }\n",
       "</style>\n",
       "<table border=\"1\" class=\"dataframe\">\n",
       "  <thead>\n",
       "    <tr style=\"text-align: right;\">\n",
       "      <th></th>\n",
       "      <th>id</th>\n",
       "      <th>title</th>\n",
       "      <th>vote_average</th>\n",
       "      <th>vote_count</th>\n",
       "      <th>status</th>\n",
       "      <th>release_date</th>\n",
       "      <th>revenue</th>\n",
       "      <th>runtime</th>\n",
       "      <th>adult</th>\n",
       "      <th>backdrop_path</th>\n",
       "      <th>...</th>\n",
       "      <th>original_title</th>\n",
       "      <th>overview</th>\n",
       "      <th>popularity</th>\n",
       "      <th>poster_path</th>\n",
       "      <th>tagline</th>\n",
       "      <th>genres</th>\n",
       "      <th>production_companies</th>\n",
       "      <th>production_countries</th>\n",
       "      <th>spoken_languages</th>\n",
       "      <th>keywords</th>\n",
       "    </tr>\n",
       "  </thead>\n",
       "  <tbody>\n",
       "    <tr>\n",
       "      <th>0</th>\n",
       "      <td>27205</td>\n",
       "      <td>Inception</td>\n",
       "      <td>8.364</td>\n",
       "      <td>34495</td>\n",
       "      <td>Released</td>\n",
       "      <td>2010-07-15</td>\n",
       "      <td>825532764</td>\n",
       "      <td>148</td>\n",
       "      <td>False</td>\n",
       "      <td>/8ZTVqvKDQ8emSGUEMjsS4yHAwrp.jpg</td>\n",
       "      <td>...</td>\n",
       "      <td>Inception</td>\n",
       "      <td>Cobb, a skilled thief who commits corporate es...</td>\n",
       "      <td>83.952</td>\n",
       "      <td>/oYuLEt3zVCKq57qu2F8dT7NIa6f.jpg</td>\n",
       "      <td>Your mind is the scene of the crime.</td>\n",
       "      <td>Action, Science Fiction, Adventure</td>\n",
       "      <td>Legendary Pictures, Syncopy, Warner Bros. Pict...</td>\n",
       "      <td>United Kingdom, United States of America</td>\n",
       "      <td>English, French, Japanese, Swahili</td>\n",
       "      <td>rescue, mission, dream, airplane, paris, franc...</td>\n",
       "    </tr>\n",
       "    <tr>\n",
       "      <th>1</th>\n",
       "      <td>157336</td>\n",
       "      <td>Interstellar</td>\n",
       "      <td>8.417</td>\n",
       "      <td>32571</td>\n",
       "      <td>Released</td>\n",
       "      <td>2014-11-05</td>\n",
       "      <td>701729206</td>\n",
       "      <td>169</td>\n",
       "      <td>False</td>\n",
       "      <td>/pbrkL804c8yAv3zBZR4QPEafpAR.jpg</td>\n",
       "      <td>...</td>\n",
       "      <td>Interstellar</td>\n",
       "      <td>The adventures of a group of explorers who mak...</td>\n",
       "      <td>140.241</td>\n",
       "      <td>/gEU2QniE6E77NI6lCU6MxlNBvIx.jpg</td>\n",
       "      <td>Mankind was born on Earth. It was never meant ...</td>\n",
       "      <td>Adventure, Drama, Science Fiction</td>\n",
       "      <td>Legendary Pictures, Syncopy, Lynda Obst Produc...</td>\n",
       "      <td>United Kingdom, United States of America</td>\n",
       "      <td>English</td>\n",
       "      <td>rescue, future, spacecraft, race against time,...</td>\n",
       "    </tr>\n",
       "    <tr>\n",
       "      <th>2</th>\n",
       "      <td>155</td>\n",
       "      <td>The Dark Knight</td>\n",
       "      <td>8.512</td>\n",
       "      <td>30619</td>\n",
       "      <td>Released</td>\n",
       "      <td>2008-07-16</td>\n",
       "      <td>1004558444</td>\n",
       "      <td>152</td>\n",
       "      <td>False</td>\n",
       "      <td>/nMKdUUepR0i5zn0y1T4CsSB5chy.jpg</td>\n",
       "      <td>...</td>\n",
       "      <td>The Dark Knight</td>\n",
       "      <td>Batman raises the stakes in his war on crime. ...</td>\n",
       "      <td>130.643</td>\n",
       "      <td>/qJ2tW6WMUDux911r6m7haRef0WH.jpg</td>\n",
       "      <td>Welcome to a world without rules.</td>\n",
       "      <td>Drama, Action, Crime, Thriller</td>\n",
       "      <td>DC Comics, Legendary Pictures, Syncopy, Isobel...</td>\n",
       "      <td>United Kingdom, United States of America</td>\n",
       "      <td>English, Mandarin</td>\n",
       "      <td>joker, sadism, chaos, secret identity, crime f...</td>\n",
       "    </tr>\n",
       "    <tr>\n",
       "      <th>3</th>\n",
       "      <td>19995</td>\n",
       "      <td>Avatar</td>\n",
       "      <td>7.573</td>\n",
       "      <td>29815</td>\n",
       "      <td>Released</td>\n",
       "      <td>2009-12-15</td>\n",
       "      <td>2923706026</td>\n",
       "      <td>162</td>\n",
       "      <td>False</td>\n",
       "      <td>/vL5LR6WdxWPjLPFRLe133jXWsh5.jpg</td>\n",
       "      <td>...</td>\n",
       "      <td>Avatar</td>\n",
       "      <td>In the 22nd century, a paraplegic Marine is di...</td>\n",
       "      <td>79.932</td>\n",
       "      <td>/kyeqWdyUXW608qlYkRqosgbbJyK.jpg</td>\n",
       "      <td>Enter the world of Pandora.</td>\n",
       "      <td>Action, Adventure, Fantasy, Science Fiction</td>\n",
       "      <td>Dune Entertainment, Lightstorm Entertainment, ...</td>\n",
       "      <td>United States of America, United Kingdom</td>\n",
       "      <td>English, Spanish</td>\n",
       "      <td>future, society, culture clash, space travel, ...</td>\n",
       "    </tr>\n",
       "    <tr>\n",
       "      <th>4</th>\n",
       "      <td>24428</td>\n",
       "      <td>The Avengers</td>\n",
       "      <td>7.710</td>\n",
       "      <td>29166</td>\n",
       "      <td>Released</td>\n",
       "      <td>2012-04-25</td>\n",
       "      <td>1518815515</td>\n",
       "      <td>143</td>\n",
       "      <td>False</td>\n",
       "      <td>/9BBTo63ANSmhC4e6r62OJFuK2GL.jpg</td>\n",
       "      <td>...</td>\n",
       "      <td>The Avengers</td>\n",
       "      <td>When an unexpected enemy emerges and threatens...</td>\n",
       "      <td>98.082</td>\n",
       "      <td>/RYMX2wcKCBAr24UyPD7xwmjaTn.jpg</td>\n",
       "      <td>Some assembly required.</td>\n",
       "      <td>Science Fiction, Action, Adventure</td>\n",
       "      <td>Marvel Studios</td>\n",
       "      <td>United States of America</td>\n",
       "      <td>English, Hindi, Russian</td>\n",
       "      <td>new york city, superhero, shield, based on com...</td>\n",
       "    </tr>\n",
       "  </tbody>\n",
       "</table>\n",
       "<p>5 rows × 24 columns</p>\n",
       "</div>"
      ],
      "text/plain": [
       "       id            title  vote_average  vote_count    status release_date  \\\n",
       "0   27205        Inception         8.364       34495  Released   2010-07-15   \n",
       "1  157336     Interstellar         8.417       32571  Released   2014-11-05   \n",
       "2     155  The Dark Knight         8.512       30619  Released   2008-07-16   \n",
       "3   19995           Avatar         7.573       29815  Released   2009-12-15   \n",
       "4   24428     The Avengers         7.710       29166  Released   2012-04-25   \n",
       "\n",
       "      revenue  runtime  adult                     backdrop_path  ...  \\\n",
       "0   825532764      148  False  /8ZTVqvKDQ8emSGUEMjsS4yHAwrp.jpg  ...   \n",
       "1   701729206      169  False  /pbrkL804c8yAv3zBZR4QPEafpAR.jpg  ...   \n",
       "2  1004558444      152  False  /nMKdUUepR0i5zn0y1T4CsSB5chy.jpg  ...   \n",
       "3  2923706026      162  False  /vL5LR6WdxWPjLPFRLe133jXWsh5.jpg  ...   \n",
       "4  1518815515      143  False  /9BBTo63ANSmhC4e6r62OJFuK2GL.jpg  ...   \n",
       "\n",
       "    original_title                                           overview  \\\n",
       "0        Inception  Cobb, a skilled thief who commits corporate es...   \n",
       "1     Interstellar  The adventures of a group of explorers who mak...   \n",
       "2  The Dark Knight  Batman raises the stakes in his war on crime. ...   \n",
       "3           Avatar  In the 22nd century, a paraplegic Marine is di...   \n",
       "4     The Avengers  When an unexpected enemy emerges and threatens...   \n",
       "\n",
       "  popularity                       poster_path  \\\n",
       "0     83.952  /oYuLEt3zVCKq57qu2F8dT7NIa6f.jpg   \n",
       "1    140.241  /gEU2QniE6E77NI6lCU6MxlNBvIx.jpg   \n",
       "2    130.643  /qJ2tW6WMUDux911r6m7haRef0WH.jpg   \n",
       "3     79.932  /kyeqWdyUXW608qlYkRqosgbbJyK.jpg   \n",
       "4     98.082   /RYMX2wcKCBAr24UyPD7xwmjaTn.jpg   \n",
       "\n",
       "                                             tagline  \\\n",
       "0               Your mind is the scene of the crime.   \n",
       "1  Mankind was born on Earth. It was never meant ...   \n",
       "2                  Welcome to a world without rules.   \n",
       "3                        Enter the world of Pandora.   \n",
       "4                            Some assembly required.   \n",
       "\n",
       "                                        genres  \\\n",
       "0           Action, Science Fiction, Adventure   \n",
       "1            Adventure, Drama, Science Fiction   \n",
       "2               Drama, Action, Crime, Thriller   \n",
       "3  Action, Adventure, Fantasy, Science Fiction   \n",
       "4           Science Fiction, Action, Adventure   \n",
       "\n",
       "                                production_companies  \\\n",
       "0  Legendary Pictures, Syncopy, Warner Bros. Pict...   \n",
       "1  Legendary Pictures, Syncopy, Lynda Obst Produc...   \n",
       "2  DC Comics, Legendary Pictures, Syncopy, Isobel...   \n",
       "3  Dune Entertainment, Lightstorm Entertainment, ...   \n",
       "4                                     Marvel Studios   \n",
       "\n",
       "                       production_countries  \\\n",
       "0  United Kingdom, United States of America   \n",
       "1  United Kingdom, United States of America   \n",
       "2  United Kingdom, United States of America   \n",
       "3  United States of America, United Kingdom   \n",
       "4                  United States of America   \n",
       "\n",
       "                     spoken_languages  \\\n",
       "0  English, French, Japanese, Swahili   \n",
       "1                             English   \n",
       "2                   English, Mandarin   \n",
       "3                    English, Spanish   \n",
       "4             English, Hindi, Russian   \n",
       "\n",
       "                                            keywords  \n",
       "0  rescue, mission, dream, airplane, paris, franc...  \n",
       "1  rescue, future, spacecraft, race against time,...  \n",
       "2  joker, sadism, chaos, secret identity, crime f...  \n",
       "3  future, society, culture clash, space travel, ...  \n",
       "4  new york city, superhero, shield, based on com...  \n",
       "\n",
       "[5 rows x 24 columns]"
      ]
     },
     "execution_count": 5,
     "metadata": {},
     "output_type": "execute_result"
    }
   ],
   "source": [
    "# Check the output\n",
    "df_movies.head(5)"
   ]
  },
  {
   "cell_type": "code",
   "execution_count": 6,
   "id": "c96f5026",
   "metadata": {},
   "outputs": [
    {
     "data": {
      "text/plain": [
       "(1055148, 24)"
      ]
     },
     "execution_count": 6,
     "metadata": {},
     "output_type": "execute_result"
    }
   ],
   "source": [
    "# Check the shape\n",
    "df_movies.shape"
   ]
  },
  {
   "cell_type": "code",
   "execution_count": 7,
   "id": "313cf84a",
   "metadata": {},
   "outputs": [
    {
     "data": {
      "text/plain": [
       "Index(['id', 'title', 'vote_average', 'vote_count', 'status', 'release_date',\n",
       "       'revenue', 'runtime', 'adult', 'backdrop_path', 'budget', 'homepage',\n",
       "       'imdb_id', 'original_language', 'original_title', 'overview',\n",
       "       'popularity', 'poster_path', 'tagline', 'genres',\n",
       "       'production_companies', 'production_countries', 'spoken_languages',\n",
       "       'keywords'],\n",
       "      dtype='object')"
      ]
     },
     "execution_count": 7,
     "metadata": {},
     "output_type": "execute_result"
    }
   ],
   "source": [
    "# List out column names for ease of access\n",
    "df_movies.columns"
   ]
  },
  {
   "cell_type": "markdown",
   "id": "a69fc355",
   "metadata": {},
   "source": [
    "## 4. Dropping all Unreleased Films"
   ]
  },
  {
   "cell_type": "markdown",
   "id": "6aca1a8e",
   "metadata": {},
   "source": [
    "### Reasoning:\n",
    "        Our analysis only wants to look at released films in this dataset. Since this leaves us with over \n",
    "        1,000,000 entries still, this choice should have minimal effect on our analysis."
   ]
  },
  {
   "cell_type": "code",
   "execution_count": 8,
   "id": "8e521936",
   "metadata": {},
   "outputs": [
    {
     "data": {
      "text/plain": [
       "status\n",
       "Released           1035010\n",
       "In Production         7389\n",
       "Post Production       6502\n",
       "Planned               5675\n",
       "Canceled               288\n",
       "Rumored                284\n",
       "Name: count, dtype: int64"
      ]
     },
     "execution_count": 8,
     "metadata": {},
     "output_type": "execute_result"
    }
   ],
   "source": [
    "# See the breakdown of films by Released status\n",
    "df_movies['status'].value_counts(dropna = False)"
   ]
  },
  {
   "cell_type": "code",
   "execution_count": 9,
   "id": "5c8fcc31",
   "metadata": {},
   "outputs": [],
   "source": [
    "# Subset the dataframe to include only 'Released' films\n",
    "df_released = df_movies[df_movies['status'] == 'Released']"
   ]
  },
  {
   "cell_type": "code",
   "execution_count": 10,
   "id": "4eb4677e",
   "metadata": {},
   "outputs": [
    {
     "data": {
      "text/plain": [
       "(1035010, 24)"
      ]
     },
     "execution_count": 10,
     "metadata": {},
     "output_type": "execute_result"
    }
   ],
   "source": [
    "# Check that the new dataframe has the correct number of rows\n",
    "df_released.shape"
   ]
  },
  {
   "cell_type": "markdown",
   "id": "959a2e2c",
   "metadata": {},
   "source": [
    "## 5. Dropping Unnecessary Columns"
   ]
  },
  {
   "cell_type": "markdown",
   "id": "765ffb9a",
   "metadata": {},
   "source": [
    "### Reasoning:\n",
    "        status - all films have the same value, 'Released'\n",
    "        \n",
    "        adult - not necessary for our analysis (and all films that we will consider have the same value, False)\n",
    "        \n",
    "        backdrop_path - not necessary for our analysis\n",
    "        \n",
    "        homepage - not necessary for our analysis\n",
    "        \n",
    "        imdb_id - not necessary for our analysis\n",
    "        \n",
    "        original_title - we do not need another title column\n",
    "        \n",
    "        popularity - this metric is biased towards newer films that have had a recent uptick in interest; it is \n",
    "        not a reliable measure for assessing a film's success\n",
    "        \n",
    "        poster_path - not necessary for our analysis\n",
    "        \n",
    "        tagline - not necessary for our analysis\n",
    "        \n",
    "        keywords - not necessary for our analysis"
   ]
  },
  {
   "cell_type": "code",
   "execution_count": 11,
   "id": "d9a11475",
   "metadata": {},
   "outputs": [],
   "source": [
    "# Drop the columns\n",
    "df_droppedcolumns = df_released.drop(['status', 'adult', 'backdrop_path', 'homepage', 'imdb_id', \n",
    "                                      'original_title', 'popularity', 'poster_path', 'tagline', 'keywords'], \n",
    "                                     axis = 1)"
   ]
  },
  {
   "cell_type": "code",
   "execution_count": 12,
   "id": "1f5e8d73",
   "metadata": {},
   "outputs": [
    {
     "data": {
      "text/plain": [
       "Index(['id', 'title', 'vote_average', 'vote_count', 'release_date', 'revenue',\n",
       "       'runtime', 'budget', 'original_language', 'overview', 'genres',\n",
       "       'production_companies', 'production_countries', 'spoken_languages'],\n",
       "      dtype='object')"
      ]
     },
     "execution_count": 12,
     "metadata": {},
     "output_type": "execute_result"
    }
   ],
   "source": [
    "# Check that the new dataframe no longer has the dropped columns\n",
    "df_droppedcolumns.columns"
   ]
  },
  {
   "cell_type": "markdown",
   "id": "557a675a",
   "metadata": {},
   "source": [
    "## 6. Renaming Columns"
   ]
  },
  {
   "cell_type": "markdown",
   "id": "44334c2c",
   "metadata": {},
   "source": [
    "### Reasoning\n",
    "        overview --> synopsis : synopsis is a more intuitive name for this column"
   ]
  },
  {
   "cell_type": "code",
   "execution_count": 13,
   "id": "8fea3c28",
   "metadata": {},
   "outputs": [],
   "source": [
    "# Rename the 'overview' column\n",
    "df_renamed = df_droppedcolumns.rename({'overview' : 'synopsis'}, axis = 1)"
   ]
  },
  {
   "cell_type": "code",
   "execution_count": 14,
   "id": "30f12fe9",
   "metadata": {},
   "outputs": [
    {
     "data": {
      "text/plain": [
       "Index(['id', 'title', 'vote_average', 'vote_count', 'release_date', 'revenue',\n",
       "       'runtime', 'budget', 'original_language', 'synopsis', 'genres',\n",
       "       'production_companies', 'production_countries', 'spoken_languages'],\n",
       "      dtype='object')"
      ]
     },
     "execution_count": 14,
     "metadata": {},
     "output_type": "execute_result"
    }
   ],
   "source": [
    "# Check that the new dataframe has the renamed column\n",
    "df_renamed.columns"
   ]
  },
  {
   "cell_type": "markdown",
   "id": "cefd2e02",
   "metadata": {},
   "source": [
    "## 7. Checking for Duplicated Rows"
   ]
  },
  {
   "cell_type": "code",
   "execution_count": 15,
   "id": "ad907ee5",
   "metadata": {},
   "outputs": [],
   "source": [
    "# Create a subset of rows that are duplicated\n",
    "df_dups = df_renamed[df_renamed.duplicated()]"
   ]
  },
  {
   "cell_type": "code",
   "execution_count": 16,
   "id": "9dc58db7",
   "metadata": {},
   "outputs": [
    {
     "data": {
      "text/plain": [
       "(367, 14)"
      ]
     },
     "execution_count": 16,
     "metadata": {},
     "output_type": "execute_result"
    }
   ],
   "source": [
    "# Check the shape of the duplicated row dataframe\n",
    "df_dups.shape"
   ]
  },
  {
   "cell_type": "code",
   "execution_count": 17,
   "id": "eaaa0149",
   "metadata": {},
   "outputs": [],
   "source": [
    "# Subset the dataframe to drop all duplicates\n",
    "df_no_dups = df_renamed.drop_duplicates()"
   ]
  },
  {
   "cell_type": "code",
   "execution_count": 18,
   "id": "adb24fa9",
   "metadata": {},
   "outputs": [
    {
     "data": {
      "text/plain": [
       "(1034643, 14)"
      ]
     },
     "execution_count": 18,
     "metadata": {},
     "output_type": "execute_result"
    }
   ],
   "source": [
    "# Check that the new dataframe has the correct number of rows\n",
    "df_no_dups.shape"
   ]
  },
  {
   "cell_type": "markdown",
   "id": "de6edbad",
   "metadata": {},
   "source": [
    "## 8. Imputing Budget and Revenue Values"
   ]
  },
  {
   "cell_type": "markdown",
   "id": "1766e4d7",
   "metadata": {},
   "source": [
    "### Reasoning:\n",
    "        There are a high number of films with a budget of 0 or a revenue of 0. It is more likely that it is an \n",
    "        error in data collection if the film has a budget with no revenue, or a revenue with no budget. So, we \n",
    "        can impute the average of these values. Films with no budget AND no revenue could also be an error, but \n",
    "        for our analysis, we will not be considering these films."
   ]
  },
  {
   "cell_type": "code",
   "execution_count": 19,
   "id": "4512143e",
   "metadata": {},
   "outputs": [],
   "source": [
    "# Subset the dataframe to include films with a budget over 0, but no revenue OR a revenue over 0, but no budget\n",
    "df_missing_budge_rev = df_no_dups[((df_no_dups['budget'] > 0) & (df_no_dups['revenue'] == 0)) |\n",
    "                                  ((df_no_dups['revenue'] > 0) & (df_no_dups['budget'] == 0))]"
   ]
  },
  {
   "cell_type": "code",
   "execution_count": 20,
   "id": "49222883",
   "metadata": {},
   "outputs": [
    {
     "data": {
      "text/plain": [
       "(44023, 14)"
      ]
     },
     "execution_count": 20,
     "metadata": {},
     "output_type": "execute_result"
    }
   ],
   "source": [
    "# Check the shape of the subset\n",
    "df_missing_budge_rev.shape"
   ]
  },
  {
   "cell_type": "markdown",
   "id": "58c0da6f",
   "metadata": {},
   "source": [
    "There are a total of **44,023 entries** with either a budget of 0 or a revenue of 0. This is < 5% of the total number of films. Imputing should not significantly alter the data."
   ]
  },
  {
   "cell_type": "code",
   "execution_count": 21,
   "id": "77906369",
   "metadata": {},
   "outputs": [
    {
     "name": "stdout",
     "output_type": "stream",
     "text": [
      "The average budget is:  278702.51775250013\n",
      "The median budget is:  0.0\n",
      "The average revenue is:  729497.7704850852\n",
      "The median revenue is:  0.0\n"
     ]
    }
   ],
   "source": [
    "# Calculate the mean and median of the 'budget' and 'revenue' column and create a variable for them\n",
    "avg_budget = df_no_dups['budget'].mean(axis = 0)\n",
    "med_budget = df_no_dups['budget'].median(axis = 0)\n",
    "avg_revenue = df_no_dups['revenue'].mean(axis = 0)\n",
    "med_revenue = df_no_dups['revenue'].median(axis = 0)\n",
    "\n",
    "print('The average budget is: ', avg_budget)\n",
    "print('The median budget is: ', med_budget)\n",
    "print('The average revenue is: ', avg_revenue)\n",
    "print('The median revenue is: ', med_revenue)"
   ]
  },
  {
   "cell_type": "markdown",
   "id": "09a95fda",
   "metadata": {},
   "source": [
    "There are so many missing values in both the budget and revenue columns that **the medians for both are unusable**. "
   ]
  },
  {
   "cell_type": "code",
   "execution_count": 22,
   "id": "9db193ab",
   "metadata": {},
   "outputs": [
    {
     "name": "stderr",
     "output_type": "stream",
     "text": [
      "/var/folders/40/hn3x1h6s6vgb3bv80rtm46q80000gn/T/ipykernel_60673/3316327718.py:2: FutureWarning: Setting an item of incompatible dtype is deprecated and will raise an error in a future version of pandas. Value '729497.7704850852' has dtype incompatible with int64, please explicitly cast to a compatible dtype first.\n",
      "  df_no_dups.loc[(df_no_dups['budget'] > 0) & (df_no_dups['revenue'] == 0), 'revenue'] = avg_revenue\n"
     ]
    },
    {
     "data": {
      "text/plain": [
       "(37543, 14)"
      ]
     },
     "execution_count": 22,
     "metadata": {},
     "output_type": "execute_result"
    }
   ],
   "source": [
    "# For films with a budget over 0 AND no revenue, replace the 0 with the average revenue\n",
    "df_no_dups.loc[(df_no_dups['budget'] > 0) & (df_no_dups['revenue'] == 0), 'revenue'] = avg_revenue\n",
    "df_no_dups.loc[df_no_dups['revenue'] == avg_revenue].shape # 37,543 entries changed!"
   ]
  },
  {
   "cell_type": "code",
   "execution_count": 23,
   "id": "fb591bf0",
   "metadata": {},
   "outputs": [
    {
     "name": "stderr",
     "output_type": "stream",
     "text": [
      "/var/folders/40/hn3x1h6s6vgb3bv80rtm46q80000gn/T/ipykernel_60673/3964485945.py:2: FutureWarning: Setting an item of incompatible dtype is deprecated and will raise an error in a future version of pandas. Value '278702.51775250013' has dtype incompatible with int64, please explicitly cast to a compatible dtype first.\n",
      "  df_no_dups.loc[(df_no_dups['revenue'] > 0) & (df_no_dups['budget'] == 0), 'budget'] = avg_budget\n"
     ]
    },
    {
     "data": {
      "text/plain": [
       "(6480, 14)"
      ]
     },
     "execution_count": 23,
     "metadata": {},
     "output_type": "execute_result"
    }
   ],
   "source": [
    "# For films with a revenue over 0 AND no budget, replace the 0 with the average budget\n",
    "df_no_dups.loc[(df_no_dups['revenue'] > 0) & (df_no_dups['budget'] == 0), 'budget'] = avg_budget\n",
    "df_no_dups.loc[df_no_dups['budget'] == avg_budget].shape # 6,480 entries changed!"
   ]
  },
  {
   "cell_type": "markdown",
   "id": "720f2011",
   "metadata": {},
   "source": [
    "### 44,023 = 37,543 + 6,480\n",
    "We addressed all the films we previously subset in df_missing_budge_rev"
   ]
  },
  {
   "cell_type": "markdown",
   "id": "1bb84316",
   "metadata": {},
   "source": [
    "## 9. Checking for Missing Values"
   ]
  },
  {
   "cell_type": "code",
   "execution_count": 24,
   "id": "9e192260",
   "metadata": {},
   "outputs": [
    {
     "data": {
      "text/plain": [
       "id                           0\n",
       "title                       10\n",
       "vote_average                 0\n",
       "vote_count                   0\n",
       "release_date            127068\n",
       "revenue                      0\n",
       "runtime                      0\n",
       "budget                       0\n",
       "original_language            0\n",
       "synopsis                192302\n",
       "genres                  396701\n",
       "production_companies    554763\n",
       "production_countries    436719\n",
       "spoken_languages        423697\n",
       "dtype: int64"
      ]
     },
     "execution_count": 24,
     "metadata": {},
     "output_type": "execute_result"
    }
   ],
   "source": [
    "# Check for missing values\n",
    "df_no_dups.isnull().sum()"
   ]
  },
  {
   "cell_type": "markdown",
   "id": "4bd50ccc",
   "metadata": {},
   "source": [
    "### Observation and Plan:\n",
    "        There is an unacceptable amount of missing data for 6 of the 14 columns.  We want to have as much \n",
    "        information for Genres, Production Companies, Production countries, and Spoken Languages as possible. \n",
    "        Because it would be too arduous to correct 100,000s of entries, I can subset the dataframe to include \n",
    "        only the films with a significant vote count, a budget, and a revenue. These are the films on which we \n",
    "        will focus our analysis. And this subset is a manageble amount of missing values to focus on correcting.\n",
    "        \n",
    "        So, the subset of df_no_dups, df_missing_values, will be used to identify the films that need \n",
    "        information updated. But df_no_dups will be the dataframe that gets updated."
   ]
  },
  {
   "cell_type": "code",
   "execution_count": 25,
   "id": "e4ea8b95",
   "metadata": {},
   "outputs": [],
   "source": [
    "df_missing_values = df_no_dups[(df_no_dups['budget'] > 0) & (df_no_dups['revenue'] > 0) & \n",
    "                               (df_no_dups['vote_count'] >= 150)]"
   ]
  },
  {
   "cell_type": "code",
   "execution_count": 26,
   "id": "68113106",
   "metadata": {},
   "outputs": [
    {
     "data": {
      "text/plain": [
       "id                       0\n",
       "title                    0\n",
       "vote_average             0\n",
       "vote_count               0\n",
       "release_date             0\n",
       "revenue                  0\n",
       "runtime                  0\n",
       "budget                   0\n",
       "original_language        0\n",
       "synopsis                 2\n",
       "genres                   0\n",
       "production_companies    27\n",
       "production_countries     3\n",
       "spoken_languages         2\n",
       "dtype: int64"
      ]
     },
     "execution_count": 26,
     "metadata": {},
     "output_type": "execute_result"
    }
   ],
   "source": [
    "df_missing_values.isnull().sum()"
   ]
  },
  {
   "cell_type": "markdown",
   "id": "983fab42",
   "metadata": {},
   "source": [
    "### New Observation:\n",
    "        Compared to lookking at the missing values of the entire dataframe, this subset only has three columns \n",
    "        that need missing data to be filled in*.\n",
    "        \n",
    "        *Note: Missing data was found through another online movie database, IMDB. When searching for missing \n",
    "        production companies, effort was taken to ensure the production companies were legitimate companies. All \n",
    "        manually entered production companies were cross-checked with the original data source to confirm they \n",
    "        also produced another film in the data. And only production companies that were involved at a \n",
    "        co-production level or higher were included. Another caveat is that an individual production company may \n",
    "        be listed with more than one name. \n",
    "        \n",
    "        For example:\n",
    "        Jamboree Entertainment could also be listed as Jamboree Films or Jamboree Productions\n",
    "        Jamboree Productions could also be listed as Jamboree Producciones."
   ]
  },
  {
   "cell_type": "markdown",
   "id": "f941a427",
   "metadata": {},
   "source": [
    "### Production Companies"
   ]
  },
  {
   "cell_type": "code",
   "execution_count": 27,
   "id": "c24303ba",
   "metadata": {},
   "outputs": [],
   "source": [
    "# Subset the dataframe to see films with missing production companies\n",
    "df_no_company = df_missing_values[df_missing_values['production_companies'].isnull()]"
   ]
  },
  {
   "cell_type": "code",
   "execution_count": 28,
   "id": "71118960",
   "metadata": {},
   "outputs": [
    {
     "data": {
      "text/html": [
       "<div>\n",
       "<style scoped>\n",
       "    .dataframe tbody tr th:only-of-type {\n",
       "        vertical-align: middle;\n",
       "    }\n",
       "\n",
       "    .dataframe tbody tr th {\n",
       "        vertical-align: top;\n",
       "    }\n",
       "\n",
       "    .dataframe thead th {\n",
       "        text-align: right;\n",
       "    }\n",
       "</style>\n",
       "<table border=\"1\" class=\"dataframe\">\n",
       "  <thead>\n",
       "    <tr style=\"text-align: right;\">\n",
       "      <th></th>\n",
       "      <th>id</th>\n",
       "      <th>title</th>\n",
       "      <th>vote_average</th>\n",
       "      <th>vote_count</th>\n",
       "      <th>release_date</th>\n",
       "      <th>revenue</th>\n",
       "      <th>runtime</th>\n",
       "      <th>budget</th>\n",
       "      <th>original_language</th>\n",
       "      <th>synopsis</th>\n",
       "      <th>genres</th>\n",
       "      <th>production_companies</th>\n",
       "      <th>production_countries</th>\n",
       "      <th>spoken_languages</th>\n",
       "    </tr>\n",
       "  </thead>\n",
       "  <tbody>\n",
       "    <tr>\n",
       "      <th>6395</th>\n",
       "      <td>246355</td>\n",
       "      <td>Saw</td>\n",
       "      <td>7.000</td>\n",
       "      <td>503</td>\n",
       "      <td>2003-01-01</td>\n",
       "      <td>7.294978e+05</td>\n",
       "      <td>10</td>\n",
       "      <td>2.000000e+03</td>\n",
       "      <td>en</td>\n",
       "      <td>David, an orderly at a hospital, tells his hor...</td>\n",
       "      <td>Crime, Horror, Thriller</td>\n",
       "      <td>NaN</td>\n",
       "      <td>Australia</td>\n",
       "      <td>English</td>\n",
       "    </tr>\n",
       "    <tr>\n",
       "      <th>6714</th>\n",
       "      <td>21481</td>\n",
       "      <td>Twitches</td>\n",
       "      <td>6.757</td>\n",
       "      <td>468</td>\n",
       "      <td>2005-10-14</td>\n",
       "      <td>7.294978e+05</td>\n",
       "      <td>86</td>\n",
       "      <td>2.000000e+07</td>\n",
       "      <td>en</td>\n",
       "      <td>Twins separated at birth, Camryn and Alex meet...</td>\n",
       "      <td>Comedy, Drama, Family, Fantasy, TV Movie</td>\n",
       "      <td>NaN</td>\n",
       "      <td>United States of America</td>\n",
       "      <td>English</td>\n",
       "    </tr>\n",
       "    <tr>\n",
       "      <th>6972</th>\n",
       "      <td>9893</td>\n",
       "      <td>Sleepover</td>\n",
       "      <td>5.997</td>\n",
       "      <td>443</td>\n",
       "      <td>2004-07-09</td>\n",
       "      <td>1.014302e+07</td>\n",
       "      <td>89</td>\n",
       "      <td>1.000000e+07</td>\n",
       "      <td>en</td>\n",
       "      <td>As their first year of high school looms ahead...</td>\n",
       "      <td>Family, Comedy</td>\n",
       "      <td>NaN</td>\n",
       "      <td>United States of America</td>\n",
       "      <td>English, Portuguese</td>\n",
       "    </tr>\n",
       "    <tr>\n",
       "      <th>7453</th>\n",
       "      <td>61717</td>\n",
       "      <td>Wendy Wu: Homecoming Warrior</td>\n",
       "      <td>6.148</td>\n",
       "      <td>401</td>\n",
       "      <td>2006-06-16</td>\n",
       "      <td>7.294978e+05</td>\n",
       "      <td>90</td>\n",
       "      <td>6.000000e+06</td>\n",
       "      <td>en</td>\n",
       "      <td>It is the story of an average, popular America...</td>\n",
       "      <td>Family, Action, Adventure, TV Movie</td>\n",
       "      <td>NaN</td>\n",
       "      <td>United States of America</td>\n",
       "      <td>English</td>\n",
       "    </tr>\n",
       "    <tr>\n",
       "      <th>7521</th>\n",
       "      <td>10961</td>\n",
       "      <td>Behind the Mask: The Rise of Leslie Vernon</td>\n",
       "      <td>6.467</td>\n",
       "      <td>396</td>\n",
       "      <td>2006-08-29</td>\n",
       "      <td>6.913600e+04</td>\n",
       "      <td>92</td>\n",
       "      <td>2.787025e+05</td>\n",
       "      <td>en</td>\n",
       "      <td>The next great psycho horror slasher has given...</td>\n",
       "      <td>Comedy, Horror, Thriller</td>\n",
       "      <td>NaN</td>\n",
       "      <td>United States of America</td>\n",
       "      <td>English</td>\n",
       "    </tr>\n",
       "    <tr>\n",
       "      <th>7689</th>\n",
       "      <td>1619</td>\n",
       "      <td>The Way of the Gun</td>\n",
       "      <td>6.347</td>\n",
       "      <td>383</td>\n",
       "      <td>2000-09-08</td>\n",
       "      <td>1.912540e+07</td>\n",
       "      <td>119</td>\n",
       "      <td>8.500000e+06</td>\n",
       "      <td>en</td>\n",
       "      <td>Two criminal drifters without sympathy get mor...</td>\n",
       "      <td>Action, Crime, Drama, Thriller</td>\n",
       "      <td>NaN</td>\n",
       "      <td>United States of America</td>\n",
       "      <td>Spanish, English</td>\n",
       "    </tr>\n",
       "    <tr>\n",
       "      <th>8157</th>\n",
       "      <td>652722</td>\n",
       "      <td>In the Arms of an Assassin</td>\n",
       "      <td>7.980</td>\n",
       "      <td>348</td>\n",
       "      <td>2019-12-06</td>\n",
       "      <td>4.253320e+05</td>\n",
       "      <td>101</td>\n",
       "      <td>2.787025e+05</td>\n",
       "      <td>es</td>\n",
       "      <td>Victor (William Levy) is one of the world’s mo...</td>\n",
       "      <td>Romance, Thriller</td>\n",
       "      <td>NaN</td>\n",
       "      <td>Dominican Republic</td>\n",
       "      <td>Spanish</td>\n",
       "    </tr>\n",
       "    <tr>\n",
       "      <th>8411</th>\n",
       "      <td>27040</td>\n",
       "      <td>Meshes of the Afternoon</td>\n",
       "      <td>7.679</td>\n",
       "      <td>332</td>\n",
       "      <td>1943-01-01</td>\n",
       "      <td>7.294978e+05</td>\n",
       "      <td>14</td>\n",
       "      <td>2.750000e+02</td>\n",
       "      <td>en</td>\n",
       "      <td>A woman returning home falls asleep and has vi...</td>\n",
       "      <td>Horror</td>\n",
       "      <td>NaN</td>\n",
       "      <td>United States of America</td>\n",
       "      <td>No Language</td>\n",
       "    </tr>\n",
       "    <tr>\n",
       "      <th>8875</th>\n",
       "      <td>525686</td>\n",
       "      <td>Mi prima la sexóloga</td>\n",
       "      <td>6.984</td>\n",
       "      <td>306</td>\n",
       "      <td>2016-07-21</td>\n",
       "      <td>7.294978e+05</td>\n",
       "      <td>104</td>\n",
       "      <td>1.500000e+04</td>\n",
       "      <td>es</td>\n",
       "      <td>A young man is afraid of asking for sex tips t...</td>\n",
       "      <td>Comedy</td>\n",
       "      <td>NaN</td>\n",
       "      <td>Bolivia</td>\n",
       "      <td>Spanish</td>\n",
       "    </tr>\n",
       "    <tr>\n",
       "      <th>9444</th>\n",
       "      <td>457601</td>\n",
       "      <td>Everything You Want</td>\n",
       "      <td>7.442</td>\n",
       "      <td>278</td>\n",
       "      <td>2017-05-11</td>\n",
       "      <td>2.490090e+05</td>\n",
       "      <td>106</td>\n",
       "      <td>2.787025e+05</td>\n",
       "      <td>it</td>\n",
       "      <td>An aimless young troublemaker, Alessandro, squ...</td>\n",
       "      <td>Comedy, Drama</td>\n",
       "      <td>NaN</td>\n",
       "      <td>Italy</td>\n",
       "      <td>Italian</td>\n",
       "    </tr>\n",
       "    <tr>\n",
       "      <th>9945</th>\n",
       "      <td>59722</td>\n",
       "      <td>2012: Ice Age</td>\n",
       "      <td>4.510</td>\n",
       "      <td>258</td>\n",
       "      <td>2011-06-27</td>\n",
       "      <td>7.294978e+05</td>\n",
       "      <td>91</td>\n",
       "      <td>2.500000e+05</td>\n",
       "      <td>en</td>\n",
       "      <td>A volcanic eruption in Iceland sends a glacier...</td>\n",
       "      <td>Action, Adventure, Science Fiction</td>\n",
       "      <td>NaN</td>\n",
       "      <td>United States of America</td>\n",
       "      <td>English</td>\n",
       "    </tr>\n",
       "    <tr>\n",
       "      <th>10008</th>\n",
       "      <td>97795</td>\n",
       "      <td>Apartment 143</td>\n",
       "      <td>5.197</td>\n",
       "      <td>256</td>\n",
       "      <td>2011-10-11</td>\n",
       "      <td>4.132000e+06</td>\n",
       "      <td>80</td>\n",
       "      <td>2.787025e+05</td>\n",
       "      <td>en</td>\n",
       "      <td>A team of parapsychologists sets out to invest...</td>\n",
       "      <td>Horror, Thriller</td>\n",
       "      <td>NaN</td>\n",
       "      <td>Spain</td>\n",
       "      <td>English</td>\n",
       "    </tr>\n",
       "    <tr>\n",
       "      <th>10793</th>\n",
       "      <td>15641</td>\n",
       "      <td>Vacancy 2: The First Cut</td>\n",
       "      <td>5.274</td>\n",
       "      <td>228</td>\n",
       "      <td>2008-10-24</td>\n",
       "      <td>7.294978e+05</td>\n",
       "      <td>86</td>\n",
       "      <td>3.000000e+06</td>\n",
       "      <td>en</td>\n",
       "      <td>Three young people check into the Meadow View ...</td>\n",
       "      <td>Crime, Horror, Thriller</td>\n",
       "      <td>NaN</td>\n",
       "      <td>United States of America</td>\n",
       "      <td>English</td>\n",
       "    </tr>\n",
       "    <tr>\n",
       "      <th>11120</th>\n",
       "      <td>10790</td>\n",
       "      <td>The Abandoned</td>\n",
       "      <td>5.470</td>\n",
       "      <td>218</td>\n",
       "      <td>2006-09-11</td>\n",
       "      <td>4.529892e+06</td>\n",
       "      <td>99</td>\n",
       "      <td>3.000000e+06</td>\n",
       "      <td>en</td>\n",
       "      <td>Marie, a film producer, returns to her native ...</td>\n",
       "      <td>Horror, Thriller</td>\n",
       "      <td>NaN</td>\n",
       "      <td>Bulgaria, Spain, United Kingdom</td>\n",
       "      <td>Russian, English</td>\n",
       "    </tr>\n",
       "    <tr>\n",
       "      <th>11236</th>\n",
       "      <td>77000</td>\n",
       "      <td>Bar Sport</td>\n",
       "      <td>5.021</td>\n",
       "      <td>215</td>\n",
       "      <td>2011-10-21</td>\n",
       "      <td>7.294978e+05</td>\n",
       "      <td>93</td>\n",
       "      <td>5.000000e+06</td>\n",
       "      <td>it</td>\n",
       "      <td>NaN</td>\n",
       "      <td>Comedy, Family</td>\n",
       "      <td>NaN</td>\n",
       "      <td>Italy</td>\n",
       "      <td>Italian</td>\n",
       "    </tr>\n",
       "    <tr>\n",
       "      <th>11639</th>\n",
       "      <td>15664</td>\n",
       "      <td>Right at Your Door</td>\n",
       "      <td>5.764</td>\n",
       "      <td>203</td>\n",
       "      <td>2006-01-23</td>\n",
       "      <td>2.043704e+06</td>\n",
       "      <td>96</td>\n",
       "      <td>2.787025e+05</td>\n",
       "      <td>en</td>\n",
       "      <td>A dirty bomb goes off in Los Angeles, jamming ...</td>\n",
       "      <td>Drama, Thriller, Science Fiction</td>\n",
       "      <td>NaN</td>\n",
       "      <td>United States of America</td>\n",
       "      <td>English</td>\n",
       "    </tr>\n",
       "    <tr>\n",
       "      <th>11771</th>\n",
       "      <td>383807</td>\n",
       "      <td>Heal the Living</td>\n",
       "      <td>6.425</td>\n",
       "      <td>200</td>\n",
       "      <td>2016-11-01</td>\n",
       "      <td>3.176000e+03</td>\n",
       "      <td>104</td>\n",
       "      <td>1.000000e+07</td>\n",
       "      <td>fr</td>\n",
       "      <td>The intersecting lives of teens on a surfing t...</td>\n",
       "      <td>Drama</td>\n",
       "      <td>NaN</td>\n",
       "      <td>Belgium, France</td>\n",
       "      <td>English, German</td>\n",
       "    </tr>\n",
       "    <tr>\n",
       "      <th>12030</th>\n",
       "      <td>576071</td>\n",
       "      <td>Unplanned</td>\n",
       "      <td>7.140</td>\n",
       "      <td>193</td>\n",
       "      <td>2019-03-21</td>\n",
       "      <td>7.294978e+05</td>\n",
       "      <td>109</td>\n",
       "      <td>6.000000e+06</td>\n",
       "      <td>en</td>\n",
       "      <td>As one of the youngest Planned Parenthood clin...</td>\n",
       "      <td>Drama</td>\n",
       "      <td>NaN</td>\n",
       "      <td>United States of America</td>\n",
       "      <td>English</td>\n",
       "    </tr>\n",
       "    <tr>\n",
       "      <th>12197</th>\n",
       "      <td>734309</td>\n",
       "      <td>Santana</td>\n",
       "      <td>5.728</td>\n",
       "      <td>189</td>\n",
       "      <td>2020-08-28</td>\n",
       "      <td>7.294978e+05</td>\n",
       "      <td>106</td>\n",
       "      <td>2.600000e+06</td>\n",
       "      <td>en</td>\n",
       "      <td>Two brothers — one a narcotics agent and the o...</td>\n",
       "      <td>Action</td>\n",
       "      <td>NaN</td>\n",
       "      <td>Angola, South Africa</td>\n",
       "      <td>English, Portuguese</td>\n",
       "    </tr>\n",
       "    <tr>\n",
       "      <th>12479</th>\n",
       "      <td>670355</td>\n",
       "      <td>Return</td>\n",
       "      <td>6.676</td>\n",
       "      <td>182</td>\n",
       "      <td>2020-01-28</td>\n",
       "      <td>7.294978e+05</td>\n",
       "      <td>18</td>\n",
       "      <td>8.000000e+01</td>\n",
       "      <td>en</td>\n",
       "      <td>Owen, a young man is dissatisfied with his lif...</td>\n",
       "      <td>Drama, Fantasy</td>\n",
       "      <td>NaN</td>\n",
       "      <td>United Kingdom</td>\n",
       "      <td>English</td>\n",
       "    </tr>\n",
       "    <tr>\n",
       "      <th>12683</th>\n",
       "      <td>19139</td>\n",
       "      <td>Goal! III : Taking On The World</td>\n",
       "      <td>3.946</td>\n",
       "      <td>177</td>\n",
       "      <td>2009-06-22</td>\n",
       "      <td>7.294978e+05</td>\n",
       "      <td>91</td>\n",
       "      <td>1.000000e+07</td>\n",
       "      <td>en</td>\n",
       "      <td>Mexican footballer Santiago Muñez, along with ...</td>\n",
       "      <td>Drama</td>\n",
       "      <td>NaN</td>\n",
       "      <td>NaN</td>\n",
       "      <td>English, Spanish</td>\n",
       "    </tr>\n",
       "    <tr>\n",
       "      <th>12831</th>\n",
       "      <td>368993</td>\n",
       "      <td>Mascots</td>\n",
       "      <td>5.440</td>\n",
       "      <td>174</td>\n",
       "      <td>2016-10-11</td>\n",
       "      <td>7.294978e+05</td>\n",
       "      <td>89</td>\n",
       "      <td>2.000000e+07</td>\n",
       "      <td>en</td>\n",
       "      <td>Eager contestants don big heads and furry suit...</td>\n",
       "      <td>Comedy</td>\n",
       "      <td>NaN</td>\n",
       "      <td>United States of America</td>\n",
       "      <td>English</td>\n",
       "    </tr>\n",
       "    <tr>\n",
       "      <th>13033</th>\n",
       "      <td>862855</td>\n",
       "      <td>Cloudy Mountain</td>\n",
       "      <td>7.385</td>\n",
       "      <td>170</td>\n",
       "      <td>2021-09-11</td>\n",
       "      <td>5.834054e+07</td>\n",
       "      <td>114</td>\n",
       "      <td>2.787025e+05</td>\n",
       "      <td>zh</td>\n",
       "      <td>The opening of the new tunnel, which took ten ...</td>\n",
       "      <td>Action, Adventure, Drama</td>\n",
       "      <td>NaN</td>\n",
       "      <td>China</td>\n",
       "      <td>Mandarin</td>\n",
       "    </tr>\n",
       "    <tr>\n",
       "      <th>13344</th>\n",
       "      <td>12621</td>\n",
       "      <td>Hamlet 2</td>\n",
       "      <td>5.909</td>\n",
       "      <td>164</td>\n",
       "      <td>2008-01-21</td>\n",
       "      <td>4.886216e+06</td>\n",
       "      <td>92</td>\n",
       "      <td>9.000000e+06</td>\n",
       "      <td>en</td>\n",
       "      <td>In this irreverent comedy, a failed actor-turn...</td>\n",
       "      <td>Comedy, Music</td>\n",
       "      <td>NaN</td>\n",
       "      <td>United States of America</td>\n",
       "      <td>English</td>\n",
       "    </tr>\n",
       "    <tr>\n",
       "      <th>13572</th>\n",
       "      <td>22492</td>\n",
       "      <td>It Might Get Loud</td>\n",
       "      <td>7.141</td>\n",
       "      <td>160</td>\n",
       "      <td>2008-09-05</td>\n",
       "      <td>1.896244e+06</td>\n",
       "      <td>97</td>\n",
       "      <td>2.787025e+05</td>\n",
       "      <td>en</td>\n",
       "      <td>A documentary on the electric guitar from the ...</td>\n",
       "      <td>Documentary, Music</td>\n",
       "      <td>NaN</td>\n",
       "      <td>United States of America</td>\n",
       "      <td>English</td>\n",
       "    </tr>\n",
       "    <tr>\n",
       "      <th>13626</th>\n",
       "      <td>743439</td>\n",
       "      <td>PAW Patrol: Jet to the Rescue</td>\n",
       "      <td>7.000</td>\n",
       "      <td>158</td>\n",
       "      <td>2020-09-10</td>\n",
       "      <td>1.792816e+06</td>\n",
       "      <td>56</td>\n",
       "      <td>2.787025e+05</td>\n",
       "      <td>en</td>\n",
       "      <td>A royal relative steals a gem with the power t...</td>\n",
       "      <td>Family, Animation</td>\n",
       "      <td>NaN</td>\n",
       "      <td>Canada, United States of America</td>\n",
       "      <td>English</td>\n",
       "    </tr>\n",
       "    <tr>\n",
       "      <th>14088</th>\n",
       "      <td>11458</td>\n",
       "      <td>People I Know</td>\n",
       "      <td>5.291</td>\n",
       "      <td>151</td>\n",
       "      <td>2002-11-21</td>\n",
       "      <td>5.484302e+06</td>\n",
       "      <td>100</td>\n",
       "      <td>2.000000e+07</td>\n",
       "      <td>en</td>\n",
       "      <td>A New York press agent must scramble when his ...</td>\n",
       "      <td>Drama, Thriller</td>\n",
       "      <td>NaN</td>\n",
       "      <td>Germany, United States of America</td>\n",
       "      <td>English</td>\n",
       "    </tr>\n",
       "  </tbody>\n",
       "</table>\n",
       "</div>"
      ],
      "text/plain": [
       "           id                                       title  vote_average  \\\n",
       "6395   246355                                         Saw         7.000   \n",
       "6714    21481                                    Twitches         6.757   \n",
       "6972     9893                                   Sleepover         5.997   \n",
       "7453    61717                Wendy Wu: Homecoming Warrior         6.148   \n",
       "7521    10961  Behind the Mask: The Rise of Leslie Vernon         6.467   \n",
       "7689     1619                          The Way of the Gun         6.347   \n",
       "8157   652722                  In the Arms of an Assassin         7.980   \n",
       "8411    27040                     Meshes of the Afternoon         7.679   \n",
       "8875   525686                        Mi prima la sexóloga         6.984   \n",
       "9444   457601                         Everything You Want         7.442   \n",
       "9945    59722                               2012: Ice Age         4.510   \n",
       "10008   97795                               Apartment 143         5.197   \n",
       "10793   15641                    Vacancy 2: The First Cut         5.274   \n",
       "11120   10790                               The Abandoned         5.470   \n",
       "11236   77000                                   Bar Sport         5.021   \n",
       "11639   15664                          Right at Your Door         5.764   \n",
       "11771  383807                             Heal the Living         6.425   \n",
       "12030  576071                                   Unplanned         7.140   \n",
       "12197  734309                                     Santana         5.728   \n",
       "12479  670355                                      Return         6.676   \n",
       "12683   19139             Goal! III : Taking On The World         3.946   \n",
       "12831  368993                                     Mascots         5.440   \n",
       "13033  862855                             Cloudy Mountain         7.385   \n",
       "13344   12621                                    Hamlet 2         5.909   \n",
       "13572   22492                           It Might Get Loud         7.141   \n",
       "13626  743439               PAW Patrol: Jet to the Rescue         7.000   \n",
       "14088   11458                               People I Know         5.291   \n",
       "\n",
       "       vote_count release_date       revenue  runtime        budget  \\\n",
       "6395          503   2003-01-01  7.294978e+05       10  2.000000e+03   \n",
       "6714          468   2005-10-14  7.294978e+05       86  2.000000e+07   \n",
       "6972          443   2004-07-09  1.014302e+07       89  1.000000e+07   \n",
       "7453          401   2006-06-16  7.294978e+05       90  6.000000e+06   \n",
       "7521          396   2006-08-29  6.913600e+04       92  2.787025e+05   \n",
       "7689          383   2000-09-08  1.912540e+07      119  8.500000e+06   \n",
       "8157          348   2019-12-06  4.253320e+05      101  2.787025e+05   \n",
       "8411          332   1943-01-01  7.294978e+05       14  2.750000e+02   \n",
       "8875          306   2016-07-21  7.294978e+05      104  1.500000e+04   \n",
       "9444          278   2017-05-11  2.490090e+05      106  2.787025e+05   \n",
       "9945          258   2011-06-27  7.294978e+05       91  2.500000e+05   \n",
       "10008         256   2011-10-11  4.132000e+06       80  2.787025e+05   \n",
       "10793         228   2008-10-24  7.294978e+05       86  3.000000e+06   \n",
       "11120         218   2006-09-11  4.529892e+06       99  3.000000e+06   \n",
       "11236         215   2011-10-21  7.294978e+05       93  5.000000e+06   \n",
       "11639         203   2006-01-23  2.043704e+06       96  2.787025e+05   \n",
       "11771         200   2016-11-01  3.176000e+03      104  1.000000e+07   \n",
       "12030         193   2019-03-21  7.294978e+05      109  6.000000e+06   \n",
       "12197         189   2020-08-28  7.294978e+05      106  2.600000e+06   \n",
       "12479         182   2020-01-28  7.294978e+05       18  8.000000e+01   \n",
       "12683         177   2009-06-22  7.294978e+05       91  1.000000e+07   \n",
       "12831         174   2016-10-11  7.294978e+05       89  2.000000e+07   \n",
       "13033         170   2021-09-11  5.834054e+07      114  2.787025e+05   \n",
       "13344         164   2008-01-21  4.886216e+06       92  9.000000e+06   \n",
       "13572         160   2008-09-05  1.896244e+06       97  2.787025e+05   \n",
       "13626         158   2020-09-10  1.792816e+06       56  2.787025e+05   \n",
       "14088         151   2002-11-21  5.484302e+06      100  2.000000e+07   \n",
       "\n",
       "      original_language                                           synopsis  \\\n",
       "6395                 en  David, an orderly at a hospital, tells his hor...   \n",
       "6714                 en  Twins separated at birth, Camryn and Alex meet...   \n",
       "6972                 en  As their first year of high school looms ahead...   \n",
       "7453                 en  It is the story of an average, popular America...   \n",
       "7521                 en  The next great psycho horror slasher has given...   \n",
       "7689                 en  Two criminal drifters without sympathy get mor...   \n",
       "8157                 es  Victor (William Levy) is one of the world’s mo...   \n",
       "8411                 en  A woman returning home falls asleep and has vi...   \n",
       "8875                 es  A young man is afraid of asking for sex tips t...   \n",
       "9444                 it  An aimless young troublemaker, Alessandro, squ...   \n",
       "9945                 en  A volcanic eruption in Iceland sends a glacier...   \n",
       "10008                en  A team of parapsychologists sets out to invest...   \n",
       "10793                en  Three young people check into the Meadow View ...   \n",
       "11120                en  Marie, a film producer, returns to her native ...   \n",
       "11236                it                                                NaN   \n",
       "11639                en  A dirty bomb goes off in Los Angeles, jamming ...   \n",
       "11771                fr  The intersecting lives of teens on a surfing t...   \n",
       "12030                en  As one of the youngest Planned Parenthood clin...   \n",
       "12197                en  Two brothers — one a narcotics agent and the o...   \n",
       "12479                en  Owen, a young man is dissatisfied with his lif...   \n",
       "12683                en  Mexican footballer Santiago Muñez, along with ...   \n",
       "12831                en  Eager contestants don big heads and furry suit...   \n",
       "13033                zh  The opening of the new tunnel, which took ten ...   \n",
       "13344                en  In this irreverent comedy, a failed actor-turn...   \n",
       "13572                en  A documentary on the electric guitar from the ...   \n",
       "13626                en  A royal relative steals a gem with the power t...   \n",
       "14088                en  A New York press agent must scramble when his ...   \n",
       "\n",
       "                                         genres production_companies  \\\n",
       "6395                    Crime, Horror, Thriller                  NaN   \n",
       "6714   Comedy, Drama, Family, Fantasy, TV Movie                  NaN   \n",
       "6972                             Family, Comedy                  NaN   \n",
       "7453        Family, Action, Adventure, TV Movie                  NaN   \n",
       "7521                   Comedy, Horror, Thriller                  NaN   \n",
       "7689             Action, Crime, Drama, Thriller                  NaN   \n",
       "8157                          Romance, Thriller                  NaN   \n",
       "8411                                     Horror                  NaN   \n",
       "8875                                     Comedy                  NaN   \n",
       "9444                              Comedy, Drama                  NaN   \n",
       "9945         Action, Adventure, Science Fiction                  NaN   \n",
       "10008                          Horror, Thriller                  NaN   \n",
       "10793                   Crime, Horror, Thriller                  NaN   \n",
       "11120                          Horror, Thriller                  NaN   \n",
       "11236                            Comedy, Family                  NaN   \n",
       "11639          Drama, Thriller, Science Fiction                  NaN   \n",
       "11771                                     Drama                  NaN   \n",
       "12030                                     Drama                  NaN   \n",
       "12197                                    Action                  NaN   \n",
       "12479                            Drama, Fantasy                  NaN   \n",
       "12683                                     Drama                  NaN   \n",
       "12831                                    Comedy                  NaN   \n",
       "13033                  Action, Adventure, Drama                  NaN   \n",
       "13344                             Comedy, Music                  NaN   \n",
       "13572                        Documentary, Music                  NaN   \n",
       "13626                         Family, Animation                  NaN   \n",
       "14088                           Drama, Thriller                  NaN   \n",
       "\n",
       "                    production_countries     spoken_languages  \n",
       "6395                           Australia              English  \n",
       "6714            United States of America              English  \n",
       "6972            United States of America  English, Portuguese  \n",
       "7453            United States of America              English  \n",
       "7521            United States of America              English  \n",
       "7689            United States of America     Spanish, English  \n",
       "8157                  Dominican Republic              Spanish  \n",
       "8411            United States of America          No Language  \n",
       "8875                             Bolivia              Spanish  \n",
       "9444                               Italy              Italian  \n",
       "9945            United States of America              English  \n",
       "10008                              Spain              English  \n",
       "10793           United States of America              English  \n",
       "11120    Bulgaria, Spain, United Kingdom     Russian, English  \n",
       "11236                              Italy              Italian  \n",
       "11639           United States of America              English  \n",
       "11771                    Belgium, France      English, German  \n",
       "12030           United States of America              English  \n",
       "12197               Angola, South Africa  English, Portuguese  \n",
       "12479                     United Kingdom              English  \n",
       "12683                                NaN     English, Spanish  \n",
       "12831           United States of America              English  \n",
       "13033                              China             Mandarin  \n",
       "13344           United States of America              English  \n",
       "13572           United States of America              English  \n",
       "13626   Canada, United States of America              English  \n",
       "14088  Germany, United States of America              English  "
      ]
     },
     "execution_count": 28,
     "metadata": {},
     "output_type": "execute_result"
    }
   ],
   "source": [
    "# Check the output\n",
    "df_no_company"
   ]
  },
  {
   "cell_type": "code",
   "execution_count": 29,
   "id": "b5d42e22",
   "metadata": {},
   "outputs": [],
   "source": [
    "# Update the production companies of each film\n",
    "df_no_dups.loc[df_no_dups['id'] == 246335, 'production_companies'] = ''\n",
    "df_no_dups.loc[df_no_dups['id'] == 21481, 'production_companies'] = 'Disney Pictures'\n",
    "df_no_dups.loc[df_no_dups['id'] == 9893, 'production_companies'] = 'Metro-Goldwyn Mayer, Landscape Entertainment, Weinstock Productions'\n",
    "df_no_dups.loc[df_no_dups['id'] == 61717, 'production_companies'] = 'Disney Pictures, Regan/Jon Productions'\n",
    "df_no_dups.loc[df_no_dups['id'] == 10961, 'production_companies'] = 'Glen Echo Entertainment, Code Entertainment'\n",
    "df_no_dups.loc[df_no_dups['id'] == 1619, 'production_companies'] = 'Artisan Entertainment'\n",
    "df_no_dups.loc[df_no_dups['id'] == 652722, 'production_companies'] = 'William Levy Entertainment'\n",
    "df_no_dups.loc[df_no_dups['id'] == 27040, 'production_companies'] = ''\n",
    "df_no_dups.loc[df_no_dups['id'] == 525686, 'production_companies'] = 'Miguel Chavez & Associates'\n",
    "df_no_dups.loc[df_no_dups['id'] == 457601, 'production_companies'] = 'IBC Movie, Rai Cinema, Pupkin Entertainment'\n",
    "df_no_dups.loc[df_no_dups['id'] == 59722, 'production_companies'] = 'The Asylum'\n",
    "df_no_dups.loc[df_no_dups['id'] == 97795, 'production_companies'] = 'Nostromo Pictures, Kinology'\n",
    "df_no_dups.loc[df_no_dups['id'] == 15641, 'production_companies'] = 'Stage 6 Films'\n",
    "df_no_dups.loc[df_no_dups['id'] == 10790, 'production_companies'] = 'Castelao Productions, Filmax, Filmstudio Bojana, Future Films, Radiovision Plus'\n",
    "df_no_dups.loc[df_no_dups['id'] == 77000, 'production_companies'] = 'Aurora Film, Rai Cinema'\n",
    "df_no_dups.loc[df_no_dups['id'] == 15664, 'production_companies'] = 'Lionsgate Films, Thousand Words'\n",
    "df_no_dups.loc[df_no_dups['id'] == 383807, 'production_companies'] = 'Les Films du Bélier, Les Films Pelléas, France 2 Cinéma, Mars Films, Jouror Productions, CN5 Productions, Ezekiel Film Production, Frakas Productions, RTBF, Proximus'\n",
    "df_no_dups.loc[df_no_dups['id'] == 576071, 'production_companies'] = 'Unplanned Movie, Believe Entertainment'\n",
    "df_no_dups.loc[df_no_dups['id'] == 734309, 'production_companies'] = 'Giant Sables Media Entertainment, ZenHQ Films'\n",
    "df_no_dups.loc[df_no_dups['id'] == 670355, 'production_companies'] = ''\n",
    "df_no_dups.loc[df_no_dups['id'] == 19139, 'production_companies'] = 'Milkshake Films'\n",
    "df_no_dups.loc[df_no_dups['id'] == 368993, 'production_companies'] = 'Ra Ra Productions'\n",
    "df_no_dups.loc[df_no_dups['id'] == 862855, 'production_companies'] = ''\n",
    "df_no_dups.loc[df_no_dups['id'] == 12621, 'production_companies'] = 'Bona Fide Productions'\n",
    "df_no_dups.loc[df_no_dups['id'] == 22492, 'production_companies'] = 'Thomas Tull Productions'\n",
    "df_no_dups.loc[df_no_dups['id'] == 743439, 'production_companies'] = 'Nickelodeon Animation Studios, Nickelodeon Productions, Spin Master Entertainment'\n",
    "df_no_dups.loc[df_no_dups['id'] == 11458, 'production_companies'] = 'Myriad Pictures, Wildwood Enterprises'"
   ]
  },
  {
   "cell_type": "markdown",
   "id": "b01b88a4",
   "metadata": {},
   "source": [
    "### Production Countries"
   ]
  },
  {
   "cell_type": "code",
   "execution_count": 30,
   "id": "181bb661",
   "metadata": {},
   "outputs": [],
   "source": [
    "# Subset the dataframe to see films with missing production country\n",
    "df_no_country = df_missing_values[df_missing_values['production_countries'].isnull()]"
   ]
  },
  {
   "cell_type": "code",
   "execution_count": 31,
   "id": "47b5a8da",
   "metadata": {},
   "outputs": [
    {
     "data": {
      "text/html": [
       "<div>\n",
       "<style scoped>\n",
       "    .dataframe tbody tr th:only-of-type {\n",
       "        vertical-align: middle;\n",
       "    }\n",
       "\n",
       "    .dataframe tbody tr th {\n",
       "        vertical-align: top;\n",
       "    }\n",
       "\n",
       "    .dataframe thead th {\n",
       "        text-align: right;\n",
       "    }\n",
       "</style>\n",
       "<table border=\"1\" class=\"dataframe\">\n",
       "  <thead>\n",
       "    <tr style=\"text-align: right;\">\n",
       "      <th></th>\n",
       "      <th>id</th>\n",
       "      <th>title</th>\n",
       "      <th>vote_average</th>\n",
       "      <th>vote_count</th>\n",
       "      <th>release_date</th>\n",
       "      <th>revenue</th>\n",
       "      <th>runtime</th>\n",
       "      <th>budget</th>\n",
       "      <th>original_language</th>\n",
       "      <th>synopsis</th>\n",
       "      <th>genres</th>\n",
       "      <th>production_companies</th>\n",
       "      <th>production_countries</th>\n",
       "      <th>spoken_languages</th>\n",
       "    </tr>\n",
       "  </thead>\n",
       "  <tbody>\n",
       "    <tr>\n",
       "      <th>813</th>\n",
       "      <td>27576</td>\n",
       "      <td>Salt</td>\n",
       "      <td>6.398</td>\n",
       "      <td>5109</td>\n",
       "      <td>2010-07-21</td>\n",
       "      <td>2.933291e+08</td>\n",
       "      <td>100</td>\n",
       "      <td>1.100000e+08</td>\n",
       "      <td>en</td>\n",
       "      <td>As a CIA officer, Evelyn Salt swore an oath to...</td>\n",
       "      <td>Action, Mystery, Thriller</td>\n",
       "      <td>Wintergreen Productions, Columbia Pictures, Re...</td>\n",
       "      <td>NaN</td>\n",
       "      <td>English, Russian, Korean</td>\n",
       "    </tr>\n",
       "    <tr>\n",
       "      <th>11340</th>\n",
       "      <td>14822</td>\n",
       "      <td>Return from Witch Mountain</td>\n",
       "      <td>5.849</td>\n",
       "      <td>212</td>\n",
       "      <td>1978-03-10</td>\n",
       "      <td>1.639300e+07</td>\n",
       "      <td>95</td>\n",
       "      <td>2.787025e+05</td>\n",
       "      <td>en</td>\n",
       "      <td>Tony and Tia are other-worldly twins endowed w...</td>\n",
       "      <td>Adventure, Fantasy, Science Fiction, Family</td>\n",
       "      <td>Walt Disney Productions</td>\n",
       "      <td>NaN</td>\n",
       "      <td>English</td>\n",
       "    </tr>\n",
       "    <tr>\n",
       "      <th>12683</th>\n",
       "      <td>19139</td>\n",
       "      <td>Goal! III : Taking On The World</td>\n",
       "      <td>3.946</td>\n",
       "      <td>177</td>\n",
       "      <td>2009-06-22</td>\n",
       "      <td>7.294978e+05</td>\n",
       "      <td>91</td>\n",
       "      <td>1.000000e+07</td>\n",
       "      <td>en</td>\n",
       "      <td>Mexican footballer Santiago Muñez, along with ...</td>\n",
       "      <td>Drama</td>\n",
       "      <td>NaN</td>\n",
       "      <td>NaN</td>\n",
       "      <td>English, Spanish</td>\n",
       "    </tr>\n",
       "  </tbody>\n",
       "</table>\n",
       "</div>"
      ],
      "text/plain": [
       "          id                            title  vote_average  vote_count  \\\n",
       "813    27576                             Salt         6.398        5109   \n",
       "11340  14822       Return from Witch Mountain         5.849         212   \n",
       "12683  19139  Goal! III : Taking On The World         3.946         177   \n",
       "\n",
       "      release_date       revenue  runtime        budget original_language  \\\n",
       "813     2010-07-21  2.933291e+08      100  1.100000e+08                en   \n",
       "11340   1978-03-10  1.639300e+07       95  2.787025e+05                en   \n",
       "12683   2009-06-22  7.294978e+05       91  1.000000e+07                en   \n",
       "\n",
       "                                                synopsis  \\\n",
       "813    As a CIA officer, Evelyn Salt swore an oath to...   \n",
       "11340  Tony and Tia are other-worldly twins endowed w...   \n",
       "12683  Mexican footballer Santiago Muñez, along with ...   \n",
       "\n",
       "                                            genres  \\\n",
       "813                      Action, Mystery, Thriller   \n",
       "11340  Adventure, Fantasy, Science Fiction, Family   \n",
       "12683                                        Drama   \n",
       "\n",
       "                                    production_companies production_countries  \\\n",
       "813    Wintergreen Productions, Columbia Pictures, Re...                  NaN   \n",
       "11340                            Walt Disney Productions                  NaN   \n",
       "12683                                                NaN                  NaN   \n",
       "\n",
       "               spoken_languages  \n",
       "813    English, Russian, Korean  \n",
       "11340                   English  \n",
       "12683          English, Spanish  "
      ]
     },
     "execution_count": 31,
     "metadata": {},
     "output_type": "execute_result"
    }
   ],
   "source": [
    "# Check the output\n",
    "df_no_country"
   ]
  },
  {
   "cell_type": "code",
   "execution_count": 32,
   "id": "afb998a3",
   "metadata": {},
   "outputs": [],
   "source": [
    "# Update the production country for the film\n",
    "df_no_dups.loc[df_no_dups['id'] == 27576, 'production_countries'] = 'United States of America'\n",
    "df_no_dups.loc[df_no_dups['id'] == 14822, 'production_countries'] = 'United States of America'\n",
    "df_no_dups.loc[df_no_dups['id'] == 19139, 'production_countries'] = 'United Kingdom'"
   ]
  },
  {
   "cell_type": "markdown",
   "id": "4378a794",
   "metadata": {},
   "source": [
    "### Spoken Languages"
   ]
  },
  {
   "cell_type": "code",
   "execution_count": 33,
   "id": "7994a0e5",
   "metadata": {},
   "outputs": [],
   "source": [
    "# Subset the dataframe to see films with missing spoken language\n",
    "df_no_spoken_languages = df_missing_values[df_missing_values['spoken_languages'].isnull()]"
   ]
  },
  {
   "cell_type": "code",
   "execution_count": 34,
   "id": "48cc72f5",
   "metadata": {},
   "outputs": [
    {
     "data": {
      "text/html": [
       "<div>\n",
       "<style scoped>\n",
       "    .dataframe tbody tr th:only-of-type {\n",
       "        vertical-align: middle;\n",
       "    }\n",
       "\n",
       "    .dataframe tbody tr th {\n",
       "        vertical-align: top;\n",
       "    }\n",
       "\n",
       "    .dataframe thead th {\n",
       "        text-align: right;\n",
       "    }\n",
       "</style>\n",
       "<table border=\"1\" class=\"dataframe\">\n",
       "  <thead>\n",
       "    <tr style=\"text-align: right;\">\n",
       "      <th></th>\n",
       "      <th>id</th>\n",
       "      <th>title</th>\n",
       "      <th>vote_average</th>\n",
       "      <th>vote_count</th>\n",
       "      <th>release_date</th>\n",
       "      <th>revenue</th>\n",
       "      <th>runtime</th>\n",
       "      <th>budget</th>\n",
       "      <th>original_language</th>\n",
       "      <th>synopsis</th>\n",
       "      <th>genres</th>\n",
       "      <th>production_companies</th>\n",
       "      <th>production_countries</th>\n",
       "      <th>spoken_languages</th>\n",
       "    </tr>\n",
       "  </thead>\n",
       "  <tbody>\n",
       "    <tr>\n",
       "      <th>1827</th>\n",
       "      <td>594767</td>\n",
       "      <td>Shazam! Fury of the Gods</td>\n",
       "      <td>6.662</td>\n",
       "      <td>2416</td>\n",
       "      <td>2023-03-15</td>\n",
       "      <td>133437105.0</td>\n",
       "      <td>130</td>\n",
       "      <td>125000000.0</td>\n",
       "      <td>en</td>\n",
       "      <td>Billy Batson and his foster siblings, who tran...</td>\n",
       "      <td>Comedy, Action, Fantasy</td>\n",
       "      <td>New Line Cinema, The Safran Company, DC Films</td>\n",
       "      <td>United States of America</td>\n",
       "      <td>NaN</td>\n",
       "    </tr>\n",
       "    <tr>\n",
       "      <th>3110</th>\n",
       "      <td>511809</td>\n",
       "      <td>West Side Story</td>\n",
       "      <td>7.036</td>\n",
       "      <td>1334</td>\n",
       "      <td>2021-12-08</td>\n",
       "      <td>74530532.0</td>\n",
       "      <td>157</td>\n",
       "      <td>100000000.0</td>\n",
       "      <td>en</td>\n",
       "      <td>Two youngsters from rival New York City gangs ...</td>\n",
       "      <td>Drama, Romance, Crime</td>\n",
       "      <td>Amblin Entertainment, 20th Century Studios</td>\n",
       "      <td>United States of America</td>\n",
       "      <td>NaN</td>\n",
       "    </tr>\n",
       "  </tbody>\n",
       "</table>\n",
       "</div>"
      ],
      "text/plain": [
       "          id                     title  vote_average  vote_count release_date  \\\n",
       "1827  594767  Shazam! Fury of the Gods         6.662        2416   2023-03-15   \n",
       "3110  511809           West Side Story         7.036        1334   2021-12-08   \n",
       "\n",
       "          revenue  runtime       budget original_language  \\\n",
       "1827  133437105.0      130  125000000.0                en   \n",
       "3110   74530532.0      157  100000000.0                en   \n",
       "\n",
       "                                               synopsis  \\\n",
       "1827  Billy Batson and his foster siblings, who tran...   \n",
       "3110  Two youngsters from rival New York City gangs ...   \n",
       "\n",
       "                       genres                           production_companies  \\\n",
       "1827  Comedy, Action, Fantasy  New Line Cinema, The Safran Company, DC Films   \n",
       "3110    Drama, Romance, Crime     Amblin Entertainment, 20th Century Studios   \n",
       "\n",
       "          production_countries spoken_languages  \n",
       "1827  United States of America              NaN  \n",
       "3110  United States of America              NaN  "
      ]
     },
     "execution_count": 34,
     "metadata": {},
     "output_type": "execute_result"
    }
   ],
   "source": [
    "# Check the output\n",
    "df_no_spoken_languages"
   ]
  },
  {
   "cell_type": "code",
   "execution_count": 35,
   "id": "8b6c9a3c",
   "metadata": {},
   "outputs": [],
   "source": [
    "# Update the spoken languages of each film\n",
    "df_no_dups.loc[df_no_dups['id'] == 594767, 'spoken_languages'] = 'English, Greek, French, Spanish'\n",
    "df_no_dups.loc[df_no_dups['id'] == 511809, 'spoken_languages'] = 'English, Spanish'"
   ]
  },
  {
   "cell_type": "markdown",
   "id": "428bcca9",
   "metadata": {},
   "source": [
    "## 10. Checking for Incorrect Values"
   ]
  },
  {
   "cell_type": "code",
   "execution_count": 36,
   "id": "d29743da",
   "metadata": {},
   "outputs": [
    {
     "data": {
      "text/html": [
       "<div>\n",
       "<style scoped>\n",
       "    .dataframe tbody tr th:only-of-type {\n",
       "        vertical-align: middle;\n",
       "    }\n",
       "\n",
       "    .dataframe tbody tr th {\n",
       "        vertical-align: top;\n",
       "    }\n",
       "\n",
       "    .dataframe thead th {\n",
       "        text-align: right;\n",
       "    }\n",
       "</style>\n",
       "<table border=\"1\" class=\"dataframe\">\n",
       "  <thead>\n",
       "    <tr style=\"text-align: right;\">\n",
       "      <th></th>\n",
       "      <th>id</th>\n",
       "      <th>vote_average</th>\n",
       "      <th>vote_count</th>\n",
       "      <th>revenue</th>\n",
       "      <th>runtime</th>\n",
       "      <th>budget</th>\n",
       "    </tr>\n",
       "  </thead>\n",
       "  <tbody>\n",
       "    <tr>\n",
       "      <th>count</th>\n",
       "      <td>1.034643e+06</td>\n",
       "      <td>1.034643e+06</td>\n",
       "      <td>1.034643e+06</td>\n",
       "      <td>1.034643e+06</td>\n",
       "      <td>1.034643e+06</td>\n",
       "      <td>1.034643e+06</td>\n",
       "    </tr>\n",
       "    <tr>\n",
       "      <th>mean</th>\n",
       "      <td>6.862857e+05</td>\n",
       "      <td>2.046860e+00</td>\n",
       "      <td>2.072846e+01</td>\n",
       "      <td>7.559683e+05</td>\n",
       "      <td>5.018270e+01</td>\n",
       "      <td>2.804480e+05</td>\n",
       "    </tr>\n",
       "    <tr>\n",
       "      <th>std</th>\n",
       "      <td>3.697477e+05</td>\n",
       "      <td>3.091633e+00</td>\n",
       "      <td>3.337834e+02</td>\n",
       "      <td>1.814016e+07</td>\n",
       "      <td>6.230380e+01</td>\n",
       "      <td>4.950615e+06</td>\n",
       "    </tr>\n",
       "    <tr>\n",
       "      <th>min</th>\n",
       "      <td>2.000000e+00</td>\n",
       "      <td>0.000000e+00</td>\n",
       "      <td>0.000000e+00</td>\n",
       "      <td>-1.200000e+01</td>\n",
       "      <td>-2.800000e+01</td>\n",
       "      <td>0.000000e+00</td>\n",
       "    </tr>\n",
       "    <tr>\n",
       "      <th>25%</th>\n",
       "      <td>3.808535e+05</td>\n",
       "      <td>0.000000e+00</td>\n",
       "      <td>0.000000e+00</td>\n",
       "      <td>0.000000e+00</td>\n",
       "      <td>1.000000e+00</td>\n",
       "      <td>0.000000e+00</td>\n",
       "    </tr>\n",
       "    <tr>\n",
       "      <th>50%</th>\n",
       "      <td>6.854310e+05</td>\n",
       "      <td>0.000000e+00</td>\n",
       "      <td>0.000000e+00</td>\n",
       "      <td>0.000000e+00</td>\n",
       "      <td>2.900000e+01</td>\n",
       "      <td>0.000000e+00</td>\n",
       "    </tr>\n",
       "    <tr>\n",
       "      <th>75%</th>\n",
       "      <td>1.007976e+06</td>\n",
       "      <td>5.000000e+00</td>\n",
       "      <td>1.000000e+00</td>\n",
       "      <td>0.000000e+00</td>\n",
       "      <td>9.000000e+01</td>\n",
       "      <td>0.000000e+00</td>\n",
       "    </tr>\n",
       "    <tr>\n",
       "      <th>max</th>\n",
       "      <td>1.307736e+06</td>\n",
       "      <td>1.000000e+01</td>\n",
       "      <td>3.449500e+04</td>\n",
       "      <td>3.000000e+09</td>\n",
       "      <td>1.440000e+04</td>\n",
       "      <td>9.000000e+08</td>\n",
       "    </tr>\n",
       "  </tbody>\n",
       "</table>\n",
       "</div>"
      ],
      "text/plain": [
       "                 id  vote_average    vote_count       revenue       runtime  \\\n",
       "count  1.034643e+06  1.034643e+06  1.034643e+06  1.034643e+06  1.034643e+06   \n",
       "mean   6.862857e+05  2.046860e+00  2.072846e+01  7.559683e+05  5.018270e+01   \n",
       "std    3.697477e+05  3.091633e+00  3.337834e+02  1.814016e+07  6.230380e+01   \n",
       "min    2.000000e+00  0.000000e+00  0.000000e+00 -1.200000e+01 -2.800000e+01   \n",
       "25%    3.808535e+05  0.000000e+00  0.000000e+00  0.000000e+00  1.000000e+00   \n",
       "50%    6.854310e+05  0.000000e+00  0.000000e+00  0.000000e+00  2.900000e+01   \n",
       "75%    1.007976e+06  5.000000e+00  1.000000e+00  0.000000e+00  9.000000e+01   \n",
       "max    1.307736e+06  1.000000e+01  3.449500e+04  3.000000e+09  1.440000e+04   \n",
       "\n",
       "             budget  \n",
       "count  1.034643e+06  \n",
       "mean   2.804480e+05  \n",
       "std    4.950615e+06  \n",
       "min    0.000000e+00  \n",
       "25%    0.000000e+00  \n",
       "50%    0.000000e+00  \n",
       "75%    0.000000e+00  \n",
       "max    9.000000e+08  "
      ]
     },
     "execution_count": 36,
     "metadata": {},
     "output_type": "execute_result"
    }
   ],
   "source": [
    "# Check the spread of the continuous variables\n",
    "df_no_dups.describe()"
   ]
  },
  {
   "cell_type": "code",
   "execution_count": 37,
   "id": "f3f3b948",
   "metadata": {},
   "outputs": [
    {
     "data": {
      "text/plain": [
       "562475     1800-01-01\n",
       "550453     1800-09-11\n",
       "227562     1865-01-01\n",
       "511392     1865-01-01\n",
       "523744     1865-01-01\n",
       "              ...    \n",
       "1055031           NaN\n",
       "1055037           NaN\n",
       "1055123           NaN\n",
       "1055125           NaN\n",
       "1055144           NaN\n",
       "Name: release_date, Length: 1034643, dtype: object"
      ]
     },
     "execution_count": 37,
     "metadata": {},
     "output_type": "execute_result"
    }
   ],
   "source": [
    "# Check if there are unusual values\n",
    "df_no_dups['release_date'].sort_values()"
   ]
  },
  {
   "cell_type": "code",
   "execution_count": 38,
   "id": "d069c822",
   "metadata": {},
   "outputs": [
    {
     "data": {
      "text/plain": [
       "original_language\n",
       "en    559797\n",
       "fr     61911\n",
       "es     52873\n",
       "de     51908\n",
       "ja     45962\n",
       "       ...  \n",
       "kv         1\n",
       "nr         1\n",
       "kg         1\n",
       "aa         1\n",
       "ii         1\n",
       "Name: count, Length: 174, dtype: int64"
      ]
     },
     "execution_count": 38,
     "metadata": {},
     "output_type": "execute_result"
    }
   ],
   "source": [
    "# Check the values of the 'original_language' column\n",
    "df_no_dups['original_language'].value_counts()"
   ]
  },
  {
   "cell_type": "markdown",
   "id": "99162fe0",
   "metadata": {},
   "source": [
    "### Reasoning:\n",
    "        Runtime - we only want to consider feature films (The Academy of Motion Picture Arts and Sciences \n",
    "        defines a feature film as at least 40 minutes long). There's also at least one film that is 14,000 min \n",
    "        long, but we will keep the extreme values on that end in the dataset.\n",
    "        \n",
    "        Budget/Revenue - although we've corrected some of the films with no budget/revenue, it is still possible \n",
    "        that some of films have incorrect values (too low). Missing budget and revenue information was found \n",
    "        through IMDB or Wikipedia. And as a last resort, the average budget was used.\n",
    "        \n",
    "        Release Date - besides having null values, we also have incorrect values of films released in the 19th \n",
    "        century (the first feature film wasn't released until 1888)\n",
    "        \n",
    "        Original Language - while there aren't unusual values in this column, the language abbreviations are not \n",
    "        useful in their current state"
   ]
  },
  {
   "cell_type": "markdown",
   "id": "dd85f202",
   "metadata": {},
   "source": [
    "### Runtime"
   ]
  },
  {
   "cell_type": "code",
   "execution_count": 39,
   "id": "e20244f5",
   "metadata": {},
   "outputs": [],
   "source": [
    "# Subset the dataframe to see films 40 minutes or shorter\n",
    "df_short_films = df_no_dups[df_no_dups['runtime'] < 40]"
   ]
  },
  {
   "cell_type": "code",
   "execution_count": 40,
   "id": "e25cf960",
   "metadata": {},
   "outputs": [
    {
     "data": {
      "text/plain": [
       "(538873, 14)"
      ]
     },
     "execution_count": 40,
     "metadata": {},
     "output_type": "execute_result"
    }
   ],
   "source": [
    "# Check the output\n",
    "df_short_films.shape # Over half the data are from films under 40 min long!"
   ]
  },
  {
   "cell_type": "code",
   "execution_count": 41,
   "id": "d0da2a4e",
   "metadata": {},
   "outputs": [],
   "source": [
    "# Subset the dataframe to only include films with a runtime of 40 minutes\n",
    "df_features = df_no_dups[df_no_dups['runtime'] >= 40]"
   ]
  },
  {
   "cell_type": "code",
   "execution_count": 42,
   "id": "26082170",
   "metadata": {},
   "outputs": [
    {
     "data": {
      "text/plain": [
       "(495770, 14)"
      ]
     },
     "execution_count": 42,
     "metadata": {},
     "output_type": "execute_result"
    }
   ],
   "source": [
    "df_features.shape"
   ]
  },
  {
   "cell_type": "markdown",
   "id": "e6f6e94e",
   "metadata": {},
   "source": [
    "### Budget"
   ]
  },
  {
   "cell_type": "code",
   "execution_count": 43,
   "id": "e8953429",
   "metadata": {},
   "outputs": [],
   "source": [
    "# Subset the dataframe to see films with a budget of less than $1,000\n",
    "df_low_budget = df_features[(df_features['budget'] > 0) & (df_features['budget'] < 1000) & (df_features['vote_count'] >= 150)]"
   ]
  },
  {
   "cell_type": "code",
   "execution_count": 44,
   "id": "2034dae4",
   "metadata": {},
   "outputs": [
    {
     "data": {
      "text/html": [
       "<div>\n",
       "<style scoped>\n",
       "    .dataframe tbody tr th:only-of-type {\n",
       "        vertical-align: middle;\n",
       "    }\n",
       "\n",
       "    .dataframe tbody tr th {\n",
       "        vertical-align: top;\n",
       "    }\n",
       "\n",
       "    .dataframe thead th {\n",
       "        text-align: right;\n",
       "    }\n",
       "</style>\n",
       "<table border=\"1\" class=\"dataframe\">\n",
       "  <thead>\n",
       "    <tr style=\"text-align: right;\">\n",
       "      <th></th>\n",
       "      <th>id</th>\n",
       "      <th>title</th>\n",
       "      <th>vote_average</th>\n",
       "      <th>vote_count</th>\n",
       "      <th>release_date</th>\n",
       "      <th>revenue</th>\n",
       "      <th>runtime</th>\n",
       "      <th>budget</th>\n",
       "      <th>original_language</th>\n",
       "      <th>synopsis</th>\n",
       "      <th>genres</th>\n",
       "      <th>production_companies</th>\n",
       "      <th>production_countries</th>\n",
       "      <th>spoken_languages</th>\n",
       "    </tr>\n",
       "  </thead>\n",
       "  <tbody>\n",
       "    <tr>\n",
       "      <th>3623</th>\n",
       "      <td>619979</td>\n",
       "      <td>Deep Water</td>\n",
       "      <td>5.800</td>\n",
       "      <td>1114</td>\n",
       "      <td>2022-03-18</td>\n",
       "      <td>7.294978e+05</td>\n",
       "      <td>116</td>\n",
       "      <td>4.0</td>\n",
       "      <td>en</td>\n",
       "      <td>Vic and Melinda Van Allen are a couple in the ...</td>\n",
       "      <td>Drama, Mystery, Thriller</td>\n",
       "      <td>New Regency Pictures, Entertainment 360, Film ...</td>\n",
       "      <td>United States of America</td>\n",
       "      <td>English</td>\n",
       "    </tr>\n",
       "    <tr>\n",
       "      <th>5191</th>\n",
       "      <td>5967</td>\n",
       "      <td>The Umbrellas of Cherbourg</td>\n",
       "      <td>7.393</td>\n",
       "      <td>676</td>\n",
       "      <td>1964-02-19</td>\n",
       "      <td>7.294978e+05</td>\n",
       "      <td>93</td>\n",
       "      <td>7.0</td>\n",
       "      <td>fr</td>\n",
       "      <td>This simple romantic tragedy begins in 1957. G...</td>\n",
       "      <td>Drama, Romance</td>\n",
       "      <td>Parc Film, Madeleine Films, Beta Film</td>\n",
       "      <td>France, Germany</td>\n",
       "      <td>French</td>\n",
       "    </tr>\n",
       "    <tr>\n",
       "      <th>5196</th>\n",
       "      <td>21435</td>\n",
       "      <td>French Fried Vacation 3: Friends Forever</td>\n",
       "      <td>4.060</td>\n",
       "      <td>675</td>\n",
       "      <td>2006-02-01</td>\n",
       "      <td>8.400000e+01</td>\n",
       "      <td>95</td>\n",
       "      <td>35.0</td>\n",
       "      <td>fr</td>\n",
       "      <td>After the Club Med and skiing, what happened t...</td>\n",
       "      <td>Comedy</td>\n",
       "      <td>Les Films Christian Fechner, TPS Cinéma, TF1 F...</td>\n",
       "      <td>France</td>\n",
       "      <td>English, French, Italian</td>\n",
       "    </tr>\n",
       "    <tr>\n",
       "      <th>6219</th>\n",
       "      <td>22582</td>\n",
       "      <td>Tom and Jerry: The Movie</td>\n",
       "      <td>6.266</td>\n",
       "      <td>522</td>\n",
       "      <td>1992-10-01</td>\n",
       "      <td>7.294978e+05</td>\n",
       "      <td>84</td>\n",
       "      <td>35.0</td>\n",
       "      <td>en</td>\n",
       "      <td>The popular cartoon cat and mouse are thrown i...</td>\n",
       "      <td>Family, Animation, Comedy</td>\n",
       "      <td>Film Roman, Live Entertainment, WMG Film, Turn...</td>\n",
       "      <td>Germany, United States of America</td>\n",
       "      <td>English</td>\n",
       "    </tr>\n",
       "    <tr>\n",
       "      <th>6260</th>\n",
       "      <td>851644</td>\n",
       "      <td>20th Century Girl</td>\n",
       "      <td>8.264</td>\n",
       "      <td>517</td>\n",
       "      <td>2022-10-06</td>\n",
       "      <td>7.294978e+05</td>\n",
       "      <td>119</td>\n",
       "      <td>119.0</td>\n",
       "      <td>ko</td>\n",
       "      <td>Yeon-du asks her best friend Bora to collect a...</td>\n",
       "      <td>Romance, Drama</td>\n",
       "      <td>Yong Film</td>\n",
       "      <td>South Korea</td>\n",
       "      <td>Korean</td>\n",
       "    </tr>\n",
       "    <tr>\n",
       "      <th>6828</th>\n",
       "      <td>282297</td>\n",
       "      <td>Cowspiracy: The Sustainability Secret</td>\n",
       "      <td>7.692</td>\n",
       "      <td>458</td>\n",
       "      <td>2014-07-01</td>\n",
       "      <td>7.294978e+05</td>\n",
       "      <td>90</td>\n",
       "      <td>117.0</td>\n",
       "      <td>en</td>\n",
       "      <td>Follow the shocking, yet humorous, journey of ...</td>\n",
       "      <td>Documentary</td>\n",
       "      <td>First Spark Media, A.U.M. Films</td>\n",
       "      <td>United States of America</td>\n",
       "      <td>English</td>\n",
       "    </tr>\n",
       "    <tr>\n",
       "      <th>7608</th>\n",
       "      <td>10407</td>\n",
       "      <td>Housesitter</td>\n",
       "      <td>6.116</td>\n",
       "      <td>389</td>\n",
       "      <td>1992-06-12</td>\n",
       "      <td>9.400000e+01</td>\n",
       "      <td>102</td>\n",
       "      <td>26.0</td>\n",
       "      <td>en</td>\n",
       "      <td>After building his dream house, architect Newt...</td>\n",
       "      <td>Comedy, Romance</td>\n",
       "      <td>Universal Pictures, Imagine Entertainment</td>\n",
       "      <td>United States of America</td>\n",
       "      <td>English</td>\n",
       "    </tr>\n",
       "    <tr>\n",
       "      <th>9071</th>\n",
       "      <td>13701</td>\n",
       "      <td>Immortal Beloved</td>\n",
       "      <td>7.067</td>\n",
       "      <td>295</td>\n",
       "      <td>1994-12-16</td>\n",
       "      <td>7.294978e+05</td>\n",
       "      <td>121</td>\n",
       "      <td>120.0</td>\n",
       "      <td>en</td>\n",
       "      <td>A chronicle of the life of infamous classical ...</td>\n",
       "      <td>Drama, Music, Romance</td>\n",
       "      <td>Columbia Pictures, Majestic Films Internationa...</td>\n",
       "      <td>United States of America</td>\n",
       "      <td>English</td>\n",
       "    </tr>\n",
       "    <tr>\n",
       "      <th>9542</th>\n",
       "      <td>11310</td>\n",
       "      <td>City Slickers II: The Legend of Curly's Gold</td>\n",
       "      <td>5.208</td>\n",
       "      <td>274</td>\n",
       "      <td>1994-06-10</td>\n",
       "      <td>4.300000e+01</td>\n",
       "      <td>116</td>\n",
       "      <td>40.0</td>\n",
       "      <td>en</td>\n",
       "      <td>Mitch Robbins 40th birthday begins quite well ...</td>\n",
       "      <td>Action, Comedy, Drama, Western</td>\n",
       "      <td>Castle Rock Entertainment</td>\n",
       "      <td>United States of America</td>\n",
       "      <td>English</td>\n",
       "    </tr>\n",
       "    <tr>\n",
       "      <th>10061</th>\n",
       "      <td>11703</td>\n",
       "      <td>Kiss of the Spider Woman</td>\n",
       "      <td>7.024</td>\n",
       "      <td>254</td>\n",
       "      <td>1985-07-26</td>\n",
       "      <td>1.700523e+07</td>\n",
       "      <td>120</td>\n",
       "      <td>11.0</td>\n",
       "      <td>en</td>\n",
       "      <td>The story of two radically different men throw...</td>\n",
       "      <td>Drama</td>\n",
       "      <td>HB Filmes</td>\n",
       "      <td>Brazil, United States of America</td>\n",
       "      <td>English, French, German, Italian, Portuguese</td>\n",
       "    </tr>\n",
       "    <tr>\n",
       "      <th>10117</th>\n",
       "      <td>14424</td>\n",
       "      <td>Sex and Death 101</td>\n",
       "      <td>6.100</td>\n",
       "      <td>252</td>\n",
       "      <td>2007-06-15</td>\n",
       "      <td>1.000000e+00</td>\n",
       "      <td>117</td>\n",
       "      <td>5.0</td>\n",
       "      <td>en</td>\n",
       "      <td>A guy's life is turned around by an email, whi...</td>\n",
       "      <td>Comedy, Romance, Drama</td>\n",
       "      <td>Avenue Pictures, Sandbar Pictures</td>\n",
       "      <td>United States of America</td>\n",
       "      <td>English</td>\n",
       "    </tr>\n",
       "    <tr>\n",
       "      <th>10485</th>\n",
       "      <td>141581</td>\n",
       "      <td>Nous York</td>\n",
       "      <td>4.776</td>\n",
       "      <td>237</td>\n",
       "      <td>2012-11-06</td>\n",
       "      <td>7.294978e+05</td>\n",
       "      <td>98</td>\n",
       "      <td>5.0</td>\n",
       "      <td>fr</td>\n",
       "      <td>Thirty-somethings Michaël, Nabil and Sylvain h...</td>\n",
       "      <td>Comedy</td>\n",
       "      <td>Vertigo Films, M6 Films, M6, SPAD Films, Canal...</td>\n",
       "      <td>France</td>\n",
       "      <td>French</td>\n",
       "    </tr>\n",
       "    <tr>\n",
       "      <th>11094</th>\n",
       "      <td>571055</td>\n",
       "      <td>Down</td>\n",
       "      <td>6.797</td>\n",
       "      <td>219</td>\n",
       "      <td>2019-02-01</td>\n",
       "      <td>7.294978e+05</td>\n",
       "      <td>82</td>\n",
       "      <td>1.0</td>\n",
       "      <td>en</td>\n",
       "      <td>A pair of coworkers gets trapped in an elevato...</td>\n",
       "      <td>Horror, Drama, Thriller</td>\n",
       "      <td>Blumhouse Television</td>\n",
       "      <td>United States of America</td>\n",
       "      <td>English</td>\n",
       "    </tr>\n",
       "    <tr>\n",
       "      <th>11112</th>\n",
       "      <td>20343</td>\n",
       "      <td>Make Mine Music</td>\n",
       "      <td>5.835</td>\n",
       "      <td>218</td>\n",
       "      <td>1946-06-30</td>\n",
       "      <td>7.294978e+05</td>\n",
       "      <td>75</td>\n",
       "      <td>68.0</td>\n",
       "      <td>en</td>\n",
       "      <td>In the tradition of Fantasia, Make Mine Music ...</td>\n",
       "      <td>Music, Animation, Family</td>\n",
       "      <td>Walt Disney Productions</td>\n",
       "      <td>United States of America</td>\n",
       "      <td>English</td>\n",
       "    </tr>\n",
       "    <tr>\n",
       "      <th>11636</th>\n",
       "      <td>119193</td>\n",
       "      <td>What the Day Owes the Night</td>\n",
       "      <td>7.781</td>\n",
       "      <td>203</td>\n",
       "      <td>2012-09-12</td>\n",
       "      <td>7.294978e+05</td>\n",
       "      <td>182</td>\n",
       "      <td>17.0</td>\n",
       "      <td>fr</td>\n",
       "      <td>Algeria, the 1930s. Younes is nine years old w...</td>\n",
       "      <td>Drama, Romance</td>\n",
       "      <td>Wild Bunch</td>\n",
       "      <td>France</td>\n",
       "      <td>French</td>\n",
       "    </tr>\n",
       "    <tr>\n",
       "      <th>12242</th>\n",
       "      <td>16664</td>\n",
       "      <td>All About Lily Chou-Chou</td>\n",
       "      <td>7.300</td>\n",
       "      <td>188</td>\n",
       "      <td>2001-10-06</td>\n",
       "      <td>7.294978e+05</td>\n",
       "      <td>146</td>\n",
       "      <td>1.0</td>\n",
       "      <td>ja</td>\n",
       "      <td>Charts the troubled teenage years of students ...</td>\n",
       "      <td>Drama, Crime</td>\n",
       "      <td>Rockwell Eyes, JVC, WOWOW, OORONG-SHA</td>\n",
       "      <td>Japan</td>\n",
       "      <td>Japanese</td>\n",
       "    </tr>\n",
       "    <tr>\n",
       "      <th>12355</th>\n",
       "      <td>34672</td>\n",
       "      <td>Chestnut: Hero of Central Park</td>\n",
       "      <td>7.230</td>\n",
       "      <td>185</td>\n",
       "      <td>2004-10-21</td>\n",
       "      <td>1.000000e+01</td>\n",
       "      <td>87</td>\n",
       "      <td>6.0</td>\n",
       "      <td>en</td>\n",
       "      <td>Ray and Sal, two orphaned sisters, adopt and h...</td>\n",
       "      <td>Family, Comedy</td>\n",
       "      <td>Studio Hamburg WorldWide Pictures, Keystone En...</td>\n",
       "      <td>United States of America</td>\n",
       "      <td>English, French</td>\n",
       "    </tr>\n",
       "    <tr>\n",
       "      <th>13245</th>\n",
       "      <td>829410</td>\n",
       "      <td>Sick</td>\n",
       "      <td>6.300</td>\n",
       "      <td>166</td>\n",
       "      <td>2022-09-11</td>\n",
       "      <td>7.294978e+05</td>\n",
       "      <td>83</td>\n",
       "      <td>83.0</td>\n",
       "      <td>en</td>\n",
       "      <td>In the midst of the pandemic, college student ...</td>\n",
       "      <td>Horror, Thriller</td>\n",
       "      <td>Miramax, Outerbanks Entertainment, Blumhouse P...</td>\n",
       "      <td>United States of America</td>\n",
       "      <td>English</td>\n",
       "    </tr>\n",
       "    <tr>\n",
       "      <th>13392</th>\n",
       "      <td>24993</td>\n",
       "      <td>Kickboxer 2: The Road Back</td>\n",
       "      <td>5.411</td>\n",
       "      <td>163</td>\n",
       "      <td>1991-01-30</td>\n",
       "      <td>1.250712e+06</td>\n",
       "      <td>89</td>\n",
       "      <td>89.0</td>\n",
       "      <td>en</td>\n",
       "      <td>In this rousing sequel to Kickboxer, Tong Po b...</td>\n",
       "      <td>Action, Adventure</td>\n",
       "      <td>Kings Road Entertainment</td>\n",
       "      <td>United States of America</td>\n",
       "      <td>English</td>\n",
       "    </tr>\n",
       "    <tr>\n",
       "      <th>13758</th>\n",
       "      <td>13489</td>\n",
       "      <td>Lost Boys: The Tribe</td>\n",
       "      <td>4.726</td>\n",
       "      <td>156</td>\n",
       "      <td>2008-07-29</td>\n",
       "      <td>7.294978e+05</td>\n",
       "      <td>94</td>\n",
       "      <td>92.0</td>\n",
       "      <td>en</td>\n",
       "      <td>After moving to a new California town, a young...</td>\n",
       "      <td>Horror, Thriller, Comedy</td>\n",
       "      <td>Thunder Road, Warner Premiere, Hollywood Media...</td>\n",
       "      <td>United States of America</td>\n",
       "      <td>English, Polish</td>\n",
       "    </tr>\n",
       "  </tbody>\n",
       "</table>\n",
       "</div>"
      ],
      "text/plain": [
       "           id                                         title  vote_average  \\\n",
       "3623   619979                                    Deep Water         5.800   \n",
       "5191     5967                    The Umbrellas of Cherbourg         7.393   \n",
       "5196    21435      French Fried Vacation 3: Friends Forever         4.060   \n",
       "6219    22582                      Tom and Jerry: The Movie         6.266   \n",
       "6260   851644                             20th Century Girl         8.264   \n",
       "6828   282297         Cowspiracy: The Sustainability Secret         7.692   \n",
       "7608    10407                                   Housesitter         6.116   \n",
       "9071    13701                              Immortal Beloved         7.067   \n",
       "9542    11310  City Slickers II: The Legend of Curly's Gold         5.208   \n",
       "10061   11703                      Kiss of the Spider Woman         7.024   \n",
       "10117   14424                             Sex and Death 101         6.100   \n",
       "10485  141581                                     Nous York         4.776   \n",
       "11094  571055                                          Down         6.797   \n",
       "11112   20343                               Make Mine Music         5.835   \n",
       "11636  119193                   What the Day Owes the Night         7.781   \n",
       "12242   16664                      All About Lily Chou-Chou         7.300   \n",
       "12355   34672                Chestnut: Hero of Central Park         7.230   \n",
       "13245  829410                                          Sick         6.300   \n",
       "13392   24993                    Kickboxer 2: The Road Back         5.411   \n",
       "13758   13489                          Lost Boys: The Tribe         4.726   \n",
       "\n",
       "       vote_count release_date       revenue  runtime  budget  \\\n",
       "3623         1114   2022-03-18  7.294978e+05      116     4.0   \n",
       "5191          676   1964-02-19  7.294978e+05       93     7.0   \n",
       "5196          675   2006-02-01  8.400000e+01       95    35.0   \n",
       "6219          522   1992-10-01  7.294978e+05       84    35.0   \n",
       "6260          517   2022-10-06  7.294978e+05      119   119.0   \n",
       "6828          458   2014-07-01  7.294978e+05       90   117.0   \n",
       "7608          389   1992-06-12  9.400000e+01      102    26.0   \n",
       "9071          295   1994-12-16  7.294978e+05      121   120.0   \n",
       "9542          274   1994-06-10  4.300000e+01      116    40.0   \n",
       "10061         254   1985-07-26  1.700523e+07      120    11.0   \n",
       "10117         252   2007-06-15  1.000000e+00      117     5.0   \n",
       "10485         237   2012-11-06  7.294978e+05       98     5.0   \n",
       "11094         219   2019-02-01  7.294978e+05       82     1.0   \n",
       "11112         218   1946-06-30  7.294978e+05       75    68.0   \n",
       "11636         203   2012-09-12  7.294978e+05      182    17.0   \n",
       "12242         188   2001-10-06  7.294978e+05      146     1.0   \n",
       "12355         185   2004-10-21  1.000000e+01       87     6.0   \n",
       "13245         166   2022-09-11  7.294978e+05       83    83.0   \n",
       "13392         163   1991-01-30  1.250712e+06       89    89.0   \n",
       "13758         156   2008-07-29  7.294978e+05       94    92.0   \n",
       "\n",
       "      original_language                                           synopsis  \\\n",
       "3623                 en  Vic and Melinda Van Allen are a couple in the ...   \n",
       "5191                 fr  This simple romantic tragedy begins in 1957. G...   \n",
       "5196                 fr  After the Club Med and skiing, what happened t...   \n",
       "6219                 en  The popular cartoon cat and mouse are thrown i...   \n",
       "6260                 ko  Yeon-du asks her best friend Bora to collect a...   \n",
       "6828                 en  Follow the shocking, yet humorous, journey of ...   \n",
       "7608                 en  After building his dream house, architect Newt...   \n",
       "9071                 en  A chronicle of the life of infamous classical ...   \n",
       "9542                 en  Mitch Robbins 40th birthday begins quite well ...   \n",
       "10061                en  The story of two radically different men throw...   \n",
       "10117                en  A guy's life is turned around by an email, whi...   \n",
       "10485                fr  Thirty-somethings Michaël, Nabil and Sylvain h...   \n",
       "11094                en  A pair of coworkers gets trapped in an elevato...   \n",
       "11112                en  In the tradition of Fantasia, Make Mine Music ...   \n",
       "11636                fr  Algeria, the 1930s. Younes is nine years old w...   \n",
       "12242                ja  Charts the troubled teenage years of students ...   \n",
       "12355                en  Ray and Sal, two orphaned sisters, adopt and h...   \n",
       "13245                en  In the midst of the pandemic, college student ...   \n",
       "13392                en  In this rousing sequel to Kickboxer, Tong Po b...   \n",
       "13758                en  After moving to a new California town, a young...   \n",
       "\n",
       "                               genres  \\\n",
       "3623         Drama, Mystery, Thriller   \n",
       "5191                   Drama, Romance   \n",
       "5196                           Comedy   \n",
       "6219        Family, Animation, Comedy   \n",
       "6260                   Romance, Drama   \n",
       "6828                      Documentary   \n",
       "7608                  Comedy, Romance   \n",
       "9071            Drama, Music, Romance   \n",
       "9542   Action, Comedy, Drama, Western   \n",
       "10061                           Drama   \n",
       "10117          Comedy, Romance, Drama   \n",
       "10485                          Comedy   \n",
       "11094         Horror, Drama, Thriller   \n",
       "11112        Music, Animation, Family   \n",
       "11636                  Drama, Romance   \n",
       "12242                    Drama, Crime   \n",
       "12355                  Family, Comedy   \n",
       "13245                Horror, Thriller   \n",
       "13392               Action, Adventure   \n",
       "13758        Horror, Thriller, Comedy   \n",
       "\n",
       "                                    production_companies  \\\n",
       "3623   New Regency Pictures, Entertainment 360, Film ...   \n",
       "5191               Parc Film, Madeleine Films, Beta Film   \n",
       "5196   Les Films Christian Fechner, TPS Cinéma, TF1 F...   \n",
       "6219   Film Roman, Live Entertainment, WMG Film, Turn...   \n",
       "6260                                           Yong Film   \n",
       "6828                     First Spark Media, A.U.M. Films   \n",
       "7608           Universal Pictures, Imagine Entertainment   \n",
       "9071   Columbia Pictures, Majestic Films Internationa...   \n",
       "9542                           Castle Rock Entertainment   \n",
       "10061                                          HB Filmes   \n",
       "10117                  Avenue Pictures, Sandbar Pictures   \n",
       "10485  Vertigo Films, M6 Films, M6, SPAD Films, Canal...   \n",
       "11094                               Blumhouse Television   \n",
       "11112                            Walt Disney Productions   \n",
       "11636                                         Wild Bunch   \n",
       "12242              Rockwell Eyes, JVC, WOWOW, OORONG-SHA   \n",
       "12355  Studio Hamburg WorldWide Pictures, Keystone En...   \n",
       "13245  Miramax, Outerbanks Entertainment, Blumhouse P...   \n",
       "13392                           Kings Road Entertainment   \n",
       "13758  Thunder Road, Warner Premiere, Hollywood Media...   \n",
       "\n",
       "                    production_countries  \\\n",
       "3623            United States of America   \n",
       "5191                     France, Germany   \n",
       "5196                              France   \n",
       "6219   Germany, United States of America   \n",
       "6260                         South Korea   \n",
       "6828            United States of America   \n",
       "7608            United States of America   \n",
       "9071            United States of America   \n",
       "9542            United States of America   \n",
       "10061   Brazil, United States of America   \n",
       "10117           United States of America   \n",
       "10485                             France   \n",
       "11094           United States of America   \n",
       "11112           United States of America   \n",
       "11636                             France   \n",
       "12242                              Japan   \n",
       "12355           United States of America   \n",
       "13245           United States of America   \n",
       "13392           United States of America   \n",
       "13758           United States of America   \n",
       "\n",
       "                                   spoken_languages  \n",
       "3623                                        English  \n",
       "5191                                         French  \n",
       "5196                       English, French, Italian  \n",
       "6219                                        English  \n",
       "6260                                         Korean  \n",
       "6828                                        English  \n",
       "7608                                        English  \n",
       "9071                                        English  \n",
       "9542                                        English  \n",
       "10061  English, French, German, Italian, Portuguese  \n",
       "10117                                       English  \n",
       "10485                                        French  \n",
       "11094                                       English  \n",
       "11112                                       English  \n",
       "11636                                        French  \n",
       "12242                                      Japanese  \n",
       "12355                               English, French  \n",
       "13245                                       English  \n",
       "13392                                       English  \n",
       "13758                               English, Polish  "
      ]
     },
     "execution_count": 44,
     "metadata": {},
     "output_type": "execute_result"
    }
   ],
   "source": [
    "# Check the output\n",
    "df_low_budget"
   ]
  },
  {
   "cell_type": "code",
   "execution_count": 45,
   "id": "baca3baf",
   "metadata": {},
   "outputs": [],
   "source": [
    "# Update the budget information for each film\n",
    "df_features.loc[df_features['id'] == 619979, 'budget'] = 48917499\n",
    "df_features.loc[df_features['id'] == 5967, 'budget'] = avg_budget\n",
    "df_features.loc[df_features['id'] == 21435, 'budget'] = 37567950\n",
    "df_features.loc[df_features['id'] == 22582, 'budget'] = 8000000\n",
    "df_features.loc[df_features['id'] == 851644, 'budget'] = avg_budget\n",
    "df_features.loc[df_features['id'] == 282297, 'budget'] = 117092\n",
    "df_features.loc[df_features['id'] == 10407, 'budget'] = 26000000\n",
    "df_features.loc[df_features['id'] == 13701, 'budget'] = 9900000\n",
    "df_features.loc[df_features['id'] == 11310, 'budget'] = 40000000\n",
    "df_features.loc[df_features['id'] == 11703, 'budget'] = 1500000\n",
    "df_features.loc[df_features['id'] == 14424, 'budget'] = 5000000\n",
    "df_features.loc[df_features['id'] == 141581, 'budget'] = 5900000\n",
    "df_features.loc[df_features['id'] == 571055, 'budget'] = avg_budget\n",
    "df_features.loc[df_features['id'] == 20343, 'budget'] = 1350000\n",
    "df_features.loc[df_features['id'] == 119193, 'budget'] = 14180000\n",
    "df_features.loc[df_features['id'] == 16664, 'budget'] = 1200000\n",
    "df_features.loc[df_features['id'] == 34672, 'budget'] = 6700000\n",
    "df_features.loc[df_features['id'] == 829410, 'budget'] = 7000000\n",
    "df_features.loc[df_features['id'] == 13489, 'budget'] = 8500000\n",
    "\n",
    "# Data for the budget of Kickboxer 2 is opaque. Estimated budget was taken from the first Kickboxer film\n",
    "df_features.loc[df_features['id'] == 24993, 'budget'] = 1500000"
   ]
  },
  {
   "cell_type": "markdown",
   "id": "914fc69f",
   "metadata": {},
   "source": [
    "### Revenue"
   ]
  },
  {
   "cell_type": "code",
   "execution_count": 46,
   "id": "2c6f9b0c",
   "metadata": {},
   "outputs": [],
   "source": [
    "# Subset the dataframe to see films with a revenue of less than $1,000\n",
    "df_low_revenue = df_features[(df_features['revenue'] > 0) & (df_features['revenue'] < 1000) & (df_features['vote_count'] > 150)]"
   ]
  },
  {
   "cell_type": "code",
   "execution_count": 47,
   "id": "29472f5b",
   "metadata": {},
   "outputs": [
    {
     "data": {
      "text/html": [
       "<div>\n",
       "<style scoped>\n",
       "    .dataframe tbody tr th:only-of-type {\n",
       "        vertical-align: middle;\n",
       "    }\n",
       "\n",
       "    .dataframe tbody tr th {\n",
       "        vertical-align: top;\n",
       "    }\n",
       "\n",
       "    .dataframe thead th {\n",
       "        text-align: right;\n",
       "    }\n",
       "</style>\n",
       "<table border=\"1\" class=\"dataframe\">\n",
       "  <thead>\n",
       "    <tr style=\"text-align: right;\">\n",
       "      <th></th>\n",
       "      <th>id</th>\n",
       "      <th>title</th>\n",
       "      <th>vote_average</th>\n",
       "      <th>vote_count</th>\n",
       "      <th>release_date</th>\n",
       "      <th>revenue</th>\n",
       "      <th>runtime</th>\n",
       "      <th>budget</th>\n",
       "      <th>original_language</th>\n",
       "      <th>synopsis</th>\n",
       "      <th>genres</th>\n",
       "      <th>production_companies</th>\n",
       "      <th>production_countries</th>\n",
       "      <th>spoken_languages</th>\n",
       "    </tr>\n",
       "  </thead>\n",
       "  <tbody>\n",
       "    <tr>\n",
       "      <th>5196</th>\n",
       "      <td>21435</td>\n",
       "      <td>French Fried Vacation 3: Friends Forever</td>\n",
       "      <td>4.060</td>\n",
       "      <td>675</td>\n",
       "      <td>2006-02-01</td>\n",
       "      <td>84.0</td>\n",
       "      <td>95</td>\n",
       "      <td>3.756795e+07</td>\n",
       "      <td>fr</td>\n",
       "      <td>After the Club Med and skiing, what happened t...</td>\n",
       "      <td>Comedy</td>\n",
       "      <td>Les Films Christian Fechner, TPS Cinéma, TF1 F...</td>\n",
       "      <td>France</td>\n",
       "      <td>English, French, Italian</td>\n",
       "    </tr>\n",
       "    <tr>\n",
       "      <th>5443</th>\n",
       "      <td>13531</td>\n",
       "      <td>Empire Records</td>\n",
       "      <td>6.650</td>\n",
       "      <td>632</td>\n",
       "      <td>1995-09-22</td>\n",
       "      <td>303.0</td>\n",
       "      <td>90</td>\n",
       "      <td>2.787025e+05</td>\n",
       "      <td>en</td>\n",
       "      <td>The employees of an independent music store le...</td>\n",
       "      <td>Music, Comedy, Drama</td>\n",
       "      <td>Monarchy Enterprises B.V., New Regency Picture...</td>\n",
       "      <td>United States of America</td>\n",
       "      <td>English</td>\n",
       "    </tr>\n",
       "    <tr>\n",
       "      <th>7189</th>\n",
       "      <td>10714</td>\n",
       "      <td>The Jungle Book</td>\n",
       "      <td>5.908</td>\n",
       "      <td>425</td>\n",
       "      <td>1994-12-23</td>\n",
       "      <td>43.0</td>\n",
       "      <td>111</td>\n",
       "      <td>2.787025e+05</td>\n",
       "      <td>en</td>\n",
       "      <td>Raised by wild animals since childhood, Mowgli...</td>\n",
       "      <td>Family, Adventure, Drama</td>\n",
       "      <td>Walt Disney Pictures</td>\n",
       "      <td>United States of America</td>\n",
       "      <td>English</td>\n",
       "    </tr>\n",
       "    <tr>\n",
       "      <th>7608</th>\n",
       "      <td>10407</td>\n",
       "      <td>Housesitter</td>\n",
       "      <td>6.116</td>\n",
       "      <td>389</td>\n",
       "      <td>1992-06-12</td>\n",
       "      <td>94.0</td>\n",
       "      <td>102</td>\n",
       "      <td>2.600000e+07</td>\n",
       "      <td>en</td>\n",
       "      <td>After building his dream house, architect Newt...</td>\n",
       "      <td>Comedy, Romance</td>\n",
       "      <td>Universal Pictures, Imagine Entertainment</td>\n",
       "      <td>United States of America</td>\n",
       "      <td>English</td>\n",
       "    </tr>\n",
       "    <tr>\n",
       "      <th>8222</th>\n",
       "      <td>10839</td>\n",
       "      <td>Cross of Iron</td>\n",
       "      <td>7.000</td>\n",
       "      <td>344</td>\n",
       "      <td>1977-01-29</td>\n",
       "      <td>201.0</td>\n",
       "      <td>132</td>\n",
       "      <td>6.000000e+06</td>\n",
       "      <td>en</td>\n",
       "      <td>It is 1943, and the German army—ravaged and de...</td>\n",
       "      <td>Drama, Action, History, War</td>\n",
       "      <td>Rapid Film, EMI Films, Terra-Filmkunst</td>\n",
       "      <td>Germany, United Kingdom</td>\n",
       "      <td>German, English, French, Russian</td>\n",
       "    </tr>\n",
       "    <tr>\n",
       "      <th>8671</th>\n",
       "      <td>94562</td>\n",
       "      <td>Turkish for Beginners</td>\n",
       "      <td>6.200</td>\n",
       "      <td>317</td>\n",
       "      <td>2012-03-14</td>\n",
       "      <td>23.0</td>\n",
       "      <td>105</td>\n",
       "      <td>2.787025e+05</td>\n",
       "      <td>de</td>\n",
       "      <td>During an emergency landing on a deserted isla...</td>\n",
       "      <td>Comedy</td>\n",
       "      <td>Constantin Film, Rat Pack Filmproduktion, Bluv...</td>\n",
       "      <td>Germany</td>\n",
       "      <td>German</td>\n",
       "    </tr>\n",
       "    <tr>\n",
       "      <th>8739</th>\n",
       "      <td>354979</td>\n",
       "      <td>Dog Eat Dog</td>\n",
       "      <td>5.105</td>\n",
       "      <td>313</td>\n",
       "      <td>2016-11-04</td>\n",
       "      <td>80.0</td>\n",
       "      <td>93</td>\n",
       "      <td>2.787025e+05</td>\n",
       "      <td>en</td>\n",
       "      <td>Carved from a lifetime of experience that runs...</td>\n",
       "      <td>Drama, Crime, Thriller</td>\n",
       "      <td>shanghai gigantic pictures, Pure Dopamine, adm...</td>\n",
       "      <td>United States of America</td>\n",
       "      <td>English</td>\n",
       "    </tr>\n",
       "    <tr>\n",
       "      <th>9483</th>\n",
       "      <td>6936</td>\n",
       "      <td>Ben X</td>\n",
       "      <td>6.942</td>\n",
       "      <td>276</td>\n",
       "      <td>2007-08-26</td>\n",
       "      <td>27.0</td>\n",
       "      <td>90</td>\n",
       "      <td>1.500000e+06</td>\n",
       "      <td>nl</td>\n",
       "      <td>Harassed by bullies because of his mild autism...</td>\n",
       "      <td>Drama</td>\n",
       "      <td>MMG Film &amp; TV Production</td>\n",
       "      <td>Belgium</td>\n",
       "      <td>Dutch</td>\n",
       "    </tr>\n",
       "    <tr>\n",
       "      <th>9542</th>\n",
       "      <td>11310</td>\n",
       "      <td>City Slickers II: The Legend of Curly's Gold</td>\n",
       "      <td>5.208</td>\n",
       "      <td>274</td>\n",
       "      <td>1994-06-10</td>\n",
       "      <td>43.0</td>\n",
       "      <td>116</td>\n",
       "      <td>4.000000e+07</td>\n",
       "      <td>en</td>\n",
       "      <td>Mitch Robbins 40th birthday begins quite well ...</td>\n",
       "      <td>Action, Comedy, Drama, Western</td>\n",
       "      <td>Castle Rock Entertainment</td>\n",
       "      <td>United States of America</td>\n",
       "      <td>English</td>\n",
       "    </tr>\n",
       "    <tr>\n",
       "      <th>9617</th>\n",
       "      <td>7294</td>\n",
       "      <td>The Man Without a Past</td>\n",
       "      <td>7.391</td>\n",
       "      <td>271</td>\n",
       "      <td>2002-03-01</td>\n",
       "      <td>921.0</td>\n",
       "      <td>97</td>\n",
       "      <td>2.787025e+05</td>\n",
       "      <td>fi</td>\n",
       "      <td>Arriving in Helsinki, a nameless man is beaten...</td>\n",
       "      <td>Drama, Comedy, Romance</td>\n",
       "      <td>Sputnik, YLE, Pyramide Productions, Pandora Fi...</td>\n",
       "      <td>Finland, France, Germany</td>\n",
       "      <td>Finnish</td>\n",
       "    </tr>\n",
       "    <tr>\n",
       "      <th>9767</th>\n",
       "      <td>7916</td>\n",
       "      <td>Far Cry</td>\n",
       "      <td>3.660</td>\n",
       "      <td>265</td>\n",
       "      <td>2008-10-02</td>\n",
       "      <td>743.0</td>\n",
       "      <td>95</td>\n",
       "      <td>3.000000e+07</td>\n",
       "      <td>en</td>\n",
       "      <td>Jack Carver, a former member of the Special Fo...</td>\n",
       "      <td>Action, Science Fiction, Thriller</td>\n",
       "      <td>Brightlight Pictures, Boll KG, Far Cry Product...</td>\n",
       "      <td>Canada, Germany</td>\n",
       "      <td>English</td>\n",
       "    </tr>\n",
       "    <tr>\n",
       "      <th>10117</th>\n",
       "      <td>14424</td>\n",
       "      <td>Sex and Death 101</td>\n",
       "      <td>6.100</td>\n",
       "      <td>252</td>\n",
       "      <td>2007-06-15</td>\n",
       "      <td>1.0</td>\n",
       "      <td>117</td>\n",
       "      <td>5.000000e+06</td>\n",
       "      <td>en</td>\n",
       "      <td>A guy's life is turned around by an email, whi...</td>\n",
       "      <td>Comedy, Romance, Drama</td>\n",
       "      <td>Avenue Pictures, Sandbar Pictures</td>\n",
       "      <td>United States of America</td>\n",
       "      <td>English</td>\n",
       "    </tr>\n",
       "    <tr>\n",
       "      <th>10792</th>\n",
       "      <td>17911</td>\n",
       "      <td>Mega Shark vs. Giant Octopus</td>\n",
       "      <td>3.825</td>\n",
       "      <td>228</td>\n",
       "      <td>2009-05-19</td>\n",
       "      <td>722.0</td>\n",
       "      <td>90</td>\n",
       "      <td>2.787025e+05</td>\n",
       "      <td>en</td>\n",
       "      <td>The California coast is terrorized by two enor...</td>\n",
       "      <td>Horror, Science Fiction</td>\n",
       "      <td>The Asylum, Giant Seafood</td>\n",
       "      <td>United States of America</td>\n",
       "      <td>English</td>\n",
       "    </tr>\n",
       "    <tr>\n",
       "      <th>12282</th>\n",
       "      <td>94204</td>\n",
       "      <td>Meeting Evil</td>\n",
       "      <td>5.235</td>\n",
       "      <td>187</td>\n",
       "      <td>2012-01-31</td>\n",
       "      <td>525.0</td>\n",
       "      <td>89</td>\n",
       "      <td>2.787025e+05</td>\n",
       "      <td>en</td>\n",
       "      <td>Follows disillusioned young family man John as...</td>\n",
       "      <td>Crime, Drama, Mystery, Thriller</td>\n",
       "      <td>Sony Pictures, Stage 6 Films</td>\n",
       "      <td>United States of America</td>\n",
       "      <td>English</td>\n",
       "    </tr>\n",
       "    <tr>\n",
       "      <th>12355</th>\n",
       "      <td>34672</td>\n",
       "      <td>Chestnut: Hero of Central Park</td>\n",
       "      <td>7.230</td>\n",
       "      <td>185</td>\n",
       "      <td>2004-10-21</td>\n",
       "      <td>10.0</td>\n",
       "      <td>87</td>\n",
       "      <td>6.700000e+06</td>\n",
       "      <td>en</td>\n",
       "      <td>Ray and Sal, two orphaned sisters, adopt and h...</td>\n",
       "      <td>Family, Comedy</td>\n",
       "      <td>Studio Hamburg WorldWide Pictures, Keystone En...</td>\n",
       "      <td>United States of America</td>\n",
       "      <td>English, French</td>\n",
       "    </tr>\n",
       "    <tr>\n",
       "      <th>12463</th>\n",
       "      <td>19855</td>\n",
       "      <td>The War</td>\n",
       "      <td>6.618</td>\n",
       "      <td>182</td>\n",
       "      <td>1994-11-04</td>\n",
       "      <td>16.0</td>\n",
       "      <td>126</td>\n",
       "      <td>2.787025e+05</td>\n",
       "      <td>en</td>\n",
       "      <td>The son of a Vietnam War Veteran must deal wit...</td>\n",
       "      <td>Drama, War</td>\n",
       "      <td>Universal Pictures</td>\n",
       "      <td>United States of America</td>\n",
       "      <td>English</td>\n",
       "    </tr>\n",
       "    <tr>\n",
       "      <th>12922</th>\n",
       "      <td>18196</td>\n",
       "      <td>The Sentinel</td>\n",
       "      <td>6.100</td>\n",
       "      <td>172</td>\n",
       "      <td>1977-01-07</td>\n",
       "      <td>3.0</td>\n",
       "      <td>92</td>\n",
       "      <td>2.787025e+05</td>\n",
       "      <td>en</td>\n",
       "      <td>A New York City model with a troubled past rel...</td>\n",
       "      <td>Horror, Mystery</td>\n",
       "      <td>Universal Pictures</td>\n",
       "      <td>United States of America</td>\n",
       "      <td>English, Latin, Italian</td>\n",
       "    </tr>\n",
       "    <tr>\n",
       "      <th>13233</th>\n",
       "      <td>429107</td>\n",
       "      <td>Beatriz at Dinner</td>\n",
       "      <td>5.792</td>\n",
       "      <td>166</td>\n",
       "      <td>2017-06-09</td>\n",
       "      <td>7.0</td>\n",
       "      <td>83</td>\n",
       "      <td>2.787025e+05</td>\n",
       "      <td>en</td>\n",
       "      <td>Beatriz, an immigrant from a poor town in Mexi...</td>\n",
       "      <td>Comedy, Drama</td>\n",
       "      <td>Killer Films, Bron Studios, Roadside Attractio...</td>\n",
       "      <td>United States of America</td>\n",
       "      <td>English, Spanish</td>\n",
       "    </tr>\n",
       "    <tr>\n",
       "      <th>13520</th>\n",
       "      <td>283559</td>\n",
       "      <td>One Direction: Where We Are – The Concert Film</td>\n",
       "      <td>8.457</td>\n",
       "      <td>161</td>\n",
       "      <td>2014-10-08</td>\n",
       "      <td>15.0</td>\n",
       "      <td>106</td>\n",
       "      <td>2.787025e+05</td>\n",
       "      <td>en</td>\n",
       "      <td>Where We Are: Live from San Siro Stadium featu...</td>\n",
       "      <td>Music, Documentary</td>\n",
       "      <td>Fulwell 73, Arts Alliance, Syco Entertainment,...</td>\n",
       "      <td>United Kingdom</td>\n",
       "      <td>English</td>\n",
       "    </tr>\n",
       "    <tr>\n",
       "      <th>13527</th>\n",
       "      <td>612491</td>\n",
       "      <td>Superheroes</td>\n",
       "      <td>7.276</td>\n",
       "      <td>161</td>\n",
       "      <td>2021-12-23</td>\n",
       "      <td>882.0</td>\n",
       "      <td>122</td>\n",
       "      <td>2.787025e+05</td>\n",
       "      <td>it</td>\n",
       "      <td>The story of a loving couple who struggles to ...</td>\n",
       "      <td>Romance, Comedy, Drama</td>\n",
       "      <td>Medusa Film, Lotus Production</td>\n",
       "      <td>Italy</td>\n",
       "      <td>English, Danish, French, Italian</td>\n",
       "    </tr>\n",
       "    <tr>\n",
       "      <th>13816</th>\n",
       "      <td>19267</td>\n",
       "      <td>The Big Brawl</td>\n",
       "      <td>6.000</td>\n",
       "      <td>155</td>\n",
       "      <td>1980-08-18</td>\n",
       "      <td>854.0</td>\n",
       "      <td>95</td>\n",
       "      <td>2.787025e+05</td>\n",
       "      <td>en</td>\n",
       "      <td>A young Asian American martial artist is force...</td>\n",
       "      <td>Action, Comedy</td>\n",
       "      <td>Orange Sky Golden Harvest, Warner Bros. Pictures</td>\n",
       "      <td>Hong Kong, United States of America</td>\n",
       "      <td>English</td>\n",
       "    </tr>\n",
       "  </tbody>\n",
       "</table>\n",
       "</div>"
      ],
      "text/plain": [
       "           id                                           title  vote_average  \\\n",
       "5196    21435        French Fried Vacation 3: Friends Forever         4.060   \n",
       "5443    13531                                  Empire Records         6.650   \n",
       "7189    10714                                 The Jungle Book         5.908   \n",
       "7608    10407                                     Housesitter         6.116   \n",
       "8222    10839                                   Cross of Iron         7.000   \n",
       "8671    94562                           Turkish for Beginners         6.200   \n",
       "8739   354979                                     Dog Eat Dog         5.105   \n",
       "9483     6936                                           Ben X         6.942   \n",
       "9542    11310    City Slickers II: The Legend of Curly's Gold         5.208   \n",
       "9617     7294                          The Man Without a Past         7.391   \n",
       "9767     7916                                         Far Cry         3.660   \n",
       "10117   14424                               Sex and Death 101         6.100   \n",
       "10792   17911                    Mega Shark vs. Giant Octopus         3.825   \n",
       "12282   94204                                    Meeting Evil         5.235   \n",
       "12355   34672                  Chestnut: Hero of Central Park         7.230   \n",
       "12463   19855                                         The War         6.618   \n",
       "12922   18196                                    The Sentinel         6.100   \n",
       "13233  429107                               Beatriz at Dinner         5.792   \n",
       "13520  283559  One Direction: Where We Are – The Concert Film         8.457   \n",
       "13527  612491                                     Superheroes         7.276   \n",
       "13816   19267                                   The Big Brawl         6.000   \n",
       "\n",
       "       vote_count release_date  revenue  runtime        budget  \\\n",
       "5196          675   2006-02-01     84.0       95  3.756795e+07   \n",
       "5443          632   1995-09-22    303.0       90  2.787025e+05   \n",
       "7189          425   1994-12-23     43.0      111  2.787025e+05   \n",
       "7608          389   1992-06-12     94.0      102  2.600000e+07   \n",
       "8222          344   1977-01-29    201.0      132  6.000000e+06   \n",
       "8671          317   2012-03-14     23.0      105  2.787025e+05   \n",
       "8739          313   2016-11-04     80.0       93  2.787025e+05   \n",
       "9483          276   2007-08-26     27.0       90  1.500000e+06   \n",
       "9542          274   1994-06-10     43.0      116  4.000000e+07   \n",
       "9617          271   2002-03-01    921.0       97  2.787025e+05   \n",
       "9767          265   2008-10-02    743.0       95  3.000000e+07   \n",
       "10117         252   2007-06-15      1.0      117  5.000000e+06   \n",
       "10792         228   2009-05-19    722.0       90  2.787025e+05   \n",
       "12282         187   2012-01-31    525.0       89  2.787025e+05   \n",
       "12355         185   2004-10-21     10.0       87  6.700000e+06   \n",
       "12463         182   1994-11-04     16.0      126  2.787025e+05   \n",
       "12922         172   1977-01-07      3.0       92  2.787025e+05   \n",
       "13233         166   2017-06-09      7.0       83  2.787025e+05   \n",
       "13520         161   2014-10-08     15.0      106  2.787025e+05   \n",
       "13527         161   2021-12-23    882.0      122  2.787025e+05   \n",
       "13816         155   1980-08-18    854.0       95  2.787025e+05   \n",
       "\n",
       "      original_language                                           synopsis  \\\n",
       "5196                 fr  After the Club Med and skiing, what happened t...   \n",
       "5443                 en  The employees of an independent music store le...   \n",
       "7189                 en  Raised by wild animals since childhood, Mowgli...   \n",
       "7608                 en  After building his dream house, architect Newt...   \n",
       "8222                 en  It is 1943, and the German army—ravaged and de...   \n",
       "8671                 de  During an emergency landing on a deserted isla...   \n",
       "8739                 en  Carved from a lifetime of experience that runs...   \n",
       "9483                 nl  Harassed by bullies because of his mild autism...   \n",
       "9542                 en  Mitch Robbins 40th birthday begins quite well ...   \n",
       "9617                 fi  Arriving in Helsinki, a nameless man is beaten...   \n",
       "9767                 en  Jack Carver, a former member of the Special Fo...   \n",
       "10117                en  A guy's life is turned around by an email, whi...   \n",
       "10792                en  The California coast is terrorized by two enor...   \n",
       "12282                en  Follows disillusioned young family man John as...   \n",
       "12355                en  Ray and Sal, two orphaned sisters, adopt and h...   \n",
       "12463                en  The son of a Vietnam War Veteran must deal wit...   \n",
       "12922                en  A New York City model with a troubled past rel...   \n",
       "13233                en  Beatriz, an immigrant from a poor town in Mexi...   \n",
       "13520                en  Where We Are: Live from San Siro Stadium featu...   \n",
       "13527                it  The story of a loving couple who struggles to ...   \n",
       "13816                en  A young Asian American martial artist is force...   \n",
       "\n",
       "                                  genres  \\\n",
       "5196                              Comedy   \n",
       "5443                Music, Comedy, Drama   \n",
       "7189            Family, Adventure, Drama   \n",
       "7608                     Comedy, Romance   \n",
       "8222         Drama, Action, History, War   \n",
       "8671                              Comedy   \n",
       "8739              Drama, Crime, Thriller   \n",
       "9483                               Drama   \n",
       "9542      Action, Comedy, Drama, Western   \n",
       "9617              Drama, Comedy, Romance   \n",
       "9767   Action, Science Fiction, Thriller   \n",
       "10117             Comedy, Romance, Drama   \n",
       "10792            Horror, Science Fiction   \n",
       "12282    Crime, Drama, Mystery, Thriller   \n",
       "12355                     Family, Comedy   \n",
       "12463                         Drama, War   \n",
       "12922                    Horror, Mystery   \n",
       "13233                      Comedy, Drama   \n",
       "13520                 Music, Documentary   \n",
       "13527             Romance, Comedy, Drama   \n",
       "13816                     Action, Comedy   \n",
       "\n",
       "                                    production_companies  \\\n",
       "5196   Les Films Christian Fechner, TPS Cinéma, TF1 F...   \n",
       "5443   Monarchy Enterprises B.V., New Regency Picture...   \n",
       "7189                                Walt Disney Pictures   \n",
       "7608           Universal Pictures, Imagine Entertainment   \n",
       "8222              Rapid Film, EMI Films, Terra-Filmkunst   \n",
       "8671   Constantin Film, Rat Pack Filmproduktion, Bluv...   \n",
       "8739   shanghai gigantic pictures, Pure Dopamine, adm...   \n",
       "9483                            MMG Film & TV Production   \n",
       "9542                           Castle Rock Entertainment   \n",
       "9617   Sputnik, YLE, Pyramide Productions, Pandora Fi...   \n",
       "9767   Brightlight Pictures, Boll KG, Far Cry Product...   \n",
       "10117                  Avenue Pictures, Sandbar Pictures   \n",
       "10792                          The Asylum, Giant Seafood   \n",
       "12282                       Sony Pictures, Stage 6 Films   \n",
       "12355  Studio Hamburg WorldWide Pictures, Keystone En...   \n",
       "12463                                 Universal Pictures   \n",
       "12922                                 Universal Pictures   \n",
       "13233  Killer Films, Bron Studios, Roadside Attractio...   \n",
       "13520  Fulwell 73, Arts Alliance, Syco Entertainment,...   \n",
       "13527                      Medusa Film, Lotus Production   \n",
       "13816   Orange Sky Golden Harvest, Warner Bros. Pictures   \n",
       "\n",
       "                      production_countries                  spoken_languages  \n",
       "5196                                France          English, French, Italian  \n",
       "5443              United States of America                           English  \n",
       "7189              United States of America                           English  \n",
       "7608              United States of America                           English  \n",
       "8222               Germany, United Kingdom  German, English, French, Russian  \n",
       "8671                               Germany                            German  \n",
       "8739              United States of America                           English  \n",
       "9483                               Belgium                             Dutch  \n",
       "9542              United States of America                           English  \n",
       "9617              Finland, France, Germany                           Finnish  \n",
       "9767                       Canada, Germany                           English  \n",
       "10117             United States of America                           English  \n",
       "10792             United States of America                           English  \n",
       "12282             United States of America                           English  \n",
       "12355             United States of America                   English, French  \n",
       "12463             United States of America                           English  \n",
       "12922             United States of America           English, Latin, Italian  \n",
       "13233             United States of America                  English, Spanish  \n",
       "13520                       United Kingdom                           English  \n",
       "13527                                Italy  English, Danish, French, Italian  \n",
       "13816  Hong Kong, United States of America                           English  "
      ]
     },
     "execution_count": 47,
     "metadata": {},
     "output_type": "execute_result"
    }
   ],
   "source": [
    "# Check the output\n",
    "df_low_revenue"
   ]
  },
  {
   "cell_type": "code",
   "execution_count": 48,
   "id": "2e14bd2d",
   "metadata": {},
   "outputs": [],
   "source": [
    "# Update the revenue information for each film\n",
    "df_features.loc[df_features['id'] == 21435, 'revenue'] = 84152064\n",
    "df_features.loc[df_features['id'] == 13531, 'revenue'] = 303841\n",
    "df_features.loc[df_features['id'] == 10714, 'revenue'] = 52389402\n",
    "df_features.loc[df_features['id'] == 10407, 'revenue'] = 94900635\n",
    "df_features.loc[df_features['id'] == 10839, 'revenue'] = 1509000\n",
    "df_features.loc[df_features['id'] == 94562, 'revenue'] = 23957607\n",
    "df_features.loc[df_features['id'] == 354979, 'revenue'] = 184404\n",
    "df_features.loc[df_features['id'] == 6936, 'revenue'] = 2744414\n",
    "df_features.loc[df_features['id'] == 11310, 'revenue'] = 43622150\n",
    "df_features.loc[df_features['id'] == 7294, 'revenue'] = 9564237\n",
    "df_features.loc[df_features['id'] == 7916, 'revenue'] = 783501\n",
    "df_features.loc[df_features['id'] == 14424, 'revenue'] = 1229330\n",
    "df_features.loc[df_features['id'] == 17911, 'revenue'] = 722\n",
    "df_features.loc[df_features['id'] == 94204, 'revenue'] = 525\n",
    "df_features.loc[df_features['id'] == 34672, 'revenue'] = 247327\n",
    "df_features.loc[df_features['id'] == 19855, 'revenue'] = 16928556\n",
    "df_features.loc[df_features['id'] == 18196, 'revenue'] = 4000000\n",
    "df_features.loc[df_features['id'] == 429107, 'revenue'] = 7425391\n",
    "df_features.loc[df_features['id'] == 283559, 'revenue'] = 4800000\n",
    "df_features.loc[df_features['id'] == 612491, 'revenue'] = 1003063\n",
    "df_features.loc[df_features['id'] == 19267, 'revenue'] = 21500000"
   ]
  },
  {
   "cell_type": "markdown",
   "id": "2e19d0ba",
   "metadata": {},
   "source": [
    "### Release Date"
   ]
  },
  {
   "cell_type": "markdown",
   "id": "5d75b421",
   "metadata": {},
   "source": [
    "Looking at the previously created df_missing_values (all films that have a budget, a revenue, and at least 150 votes), there are no suspicious release dates. This means the incorrect release dates are only found in the films that we will already not be including in the analysis."
   ]
  },
  {
   "cell_type": "code",
   "execution_count": 49,
   "id": "1eddd300",
   "metadata": {},
   "outputs": [
    {
     "data": {
      "text/plain": [
       "550453     1800-09-11\n",
       "163055     1894-10-08\n",
       "822749     1899-11-01\n",
       "514792     1900-01-01\n",
       "602776     1900-01-01\n",
       "              ...    \n",
       "1054714           NaN\n",
       "1054835           NaN\n",
       "1054848           NaN\n",
       "1054899           NaN\n",
       "1055125           NaN\n",
       "Name: release_date, Length: 495770, dtype: object"
      ]
     },
     "execution_count": 49,
     "metadata": {},
     "output_type": "execute_result"
    }
   ],
   "source": [
    "# Check if there are unusual values\n",
    "df_features['release_date'].sort_values()"
   ]
  },
  {
   "cell_type": "code",
   "execution_count": 50,
   "id": "865c3769",
   "metadata": {},
   "outputs": [
    {
     "data": {
      "text/plain": [
       "2672     1902-04-17\n",
       "6035     1903-12-07\n",
       "13258    1904-10-01\n",
       "6583     1915-02-08\n",
       "8943     1916-09-04\n",
       "            ...    \n",
       "9964     2023-08-23\n",
       "10129    2023-08-30\n",
       "7919     2023-09-06\n",
       "6246     2023-09-13\n",
       "8203     2023-09-22\n",
       "Name: release_date, Length: 9551, dtype: object"
      ]
     },
     "execution_count": 50,
     "metadata": {},
     "output_type": "execute_result"
    }
   ],
   "source": [
    "# Check if there are unusual values in the df_missing_values dataframe\n",
    "df_missing_values['release_date'].sort_values() "
   ]
  },
  {
   "cell_type": "markdown",
   "id": "ba300964",
   "metadata": {},
   "source": [
    "### Original Language"
   ]
  },
  {
   "cell_type": "code",
   "execution_count": 51,
   "id": "cd2ec474",
   "metadata": {},
   "outputs": [
    {
     "data": {
      "text/html": [
       "<div>\n",
       "<style scoped>\n",
       "    .dataframe tbody tr th:only-of-type {\n",
       "        vertical-align: middle;\n",
       "    }\n",
       "\n",
       "    .dataframe tbody tr th {\n",
       "        vertical-align: top;\n",
       "    }\n",
       "\n",
       "    .dataframe thead th {\n",
       "        text-align: right;\n",
       "    }\n",
       "</style>\n",
       "<table border=\"1\" class=\"dataframe\">\n",
       "  <thead>\n",
       "    <tr style=\"text-align: right;\">\n",
       "      <th></th>\n",
       "      <th>family</th>\n",
       "      <th>name</th>\n",
       "      <th>nativeName</th>\n",
       "      <th>639-1</th>\n",
       "      <th>639-2</th>\n",
       "      <th>639-2/B</th>\n",
       "    </tr>\n",
       "  </thead>\n",
       "  <tbody>\n",
       "    <tr>\n",
       "      <th>0</th>\n",
       "      <td>Northwest Caucasian</td>\n",
       "      <td>Abkhaz</td>\n",
       "      <td>аҧсуа бызшәа, аҧсшәа</td>\n",
       "      <td>ab</td>\n",
       "      <td>abk</td>\n",
       "      <td>NaN</td>\n",
       "    </tr>\n",
       "    <tr>\n",
       "      <th>1</th>\n",
       "      <td>Afro-Asiatic</td>\n",
       "      <td>Afar</td>\n",
       "      <td>Afaraf</td>\n",
       "      <td>aa</td>\n",
       "      <td>aar</td>\n",
       "      <td>NaN</td>\n",
       "    </tr>\n",
       "    <tr>\n",
       "      <th>2</th>\n",
       "      <td>Indo-European</td>\n",
       "      <td>Afrikaans</td>\n",
       "      <td>Afrikaans</td>\n",
       "      <td>af</td>\n",
       "      <td>afr</td>\n",
       "      <td>NaN</td>\n",
       "    </tr>\n",
       "    <tr>\n",
       "      <th>3</th>\n",
       "      <td>Niger–Congo</td>\n",
       "      <td>Akan</td>\n",
       "      <td>Akan</td>\n",
       "      <td>ak</td>\n",
       "      <td>aka</td>\n",
       "      <td>NaN</td>\n",
       "    </tr>\n",
       "    <tr>\n",
       "      <th>4</th>\n",
       "      <td>Indo-European</td>\n",
       "      <td>Albanian</td>\n",
       "      <td>Shqip</td>\n",
       "      <td>sq</td>\n",
       "      <td>sqi</td>\n",
       "      <td>alb</td>\n",
       "    </tr>\n",
       "  </tbody>\n",
       "</table>\n",
       "</div>"
      ],
      "text/plain": [
       "                family       name            nativeName 639-1 639-2 639-2/B\n",
       "0  Northwest Caucasian     Abkhaz  аҧсуа бызшәа, аҧсшәа    ab   abk     NaN\n",
       "1         Afro-Asiatic       Afar                Afaraf    aa   aar     NaN\n",
       "2        Indo-European  Afrikaans             Afrikaans    af   afr     NaN\n",
       "3          Niger–Congo       Akan                  Akan    ak   aka     NaN\n",
       "4        Indo-European   Albanian                 Shqip    sq   sqi     alb"
      ]
     },
     "execution_count": 51,
     "metadata": {},
     "output_type": "execute_result"
    }
   ],
   "source": [
    "# Check the output of the language code dataframe\n",
    "iso_languages.head()"
   ]
  },
  {
   "cell_type": "code",
   "execution_count": 52,
   "id": "cabeba58",
   "metadata": {},
   "outputs": [],
   "source": [
    "# Left merge df_features on 'original_langauge' with iso_language on '639-1'\n",
    "df_features = df_features.merge(iso_languages, left_on = 'original_language', right_on = '639-1', indicator = True)"
   ]
  },
  {
   "cell_type": "code",
   "execution_count": 53,
   "id": "ec867fac",
   "metadata": {},
   "outputs": [
    {
     "data": {
      "text/html": [
       "<div>\n",
       "<style scoped>\n",
       "    .dataframe tbody tr th:only-of-type {\n",
       "        vertical-align: middle;\n",
       "    }\n",
       "\n",
       "    .dataframe tbody tr th {\n",
       "        vertical-align: top;\n",
       "    }\n",
       "\n",
       "    .dataframe thead th {\n",
       "        text-align: right;\n",
       "    }\n",
       "</style>\n",
       "<table border=\"1\" class=\"dataframe\">\n",
       "  <thead>\n",
       "    <tr style=\"text-align: right;\">\n",
       "      <th></th>\n",
       "      <th>id</th>\n",
       "      <th>title</th>\n",
       "      <th>vote_average</th>\n",
       "      <th>vote_count</th>\n",
       "      <th>release_date</th>\n",
       "      <th>revenue</th>\n",
       "      <th>runtime</th>\n",
       "      <th>budget</th>\n",
       "      <th>original_language</th>\n",
       "      <th>synopsis</th>\n",
       "      <th>...</th>\n",
       "      <th>production_companies</th>\n",
       "      <th>production_countries</th>\n",
       "      <th>spoken_languages</th>\n",
       "      <th>family</th>\n",
       "      <th>name</th>\n",
       "      <th>nativeName</th>\n",
       "      <th>639-1</th>\n",
       "      <th>639-2</th>\n",
       "      <th>639-2/B</th>\n",
       "      <th>_merge</th>\n",
       "    </tr>\n",
       "  </thead>\n",
       "  <tbody>\n",
       "    <tr>\n",
       "      <th>0</th>\n",
       "      <td>27205</td>\n",
       "      <td>Inception</td>\n",
       "      <td>8.364</td>\n",
       "      <td>34495</td>\n",
       "      <td>2010-07-15</td>\n",
       "      <td>8.255328e+08</td>\n",
       "      <td>148</td>\n",
       "      <td>160000000.0</td>\n",
       "      <td>en</td>\n",
       "      <td>Cobb, a skilled thief who commits corporate es...</td>\n",
       "      <td>...</td>\n",
       "      <td>Legendary Pictures, Syncopy, Warner Bros. Pict...</td>\n",
       "      <td>United Kingdom, United States of America</td>\n",
       "      <td>English, French, Japanese, Swahili</td>\n",
       "      <td>Indo-European</td>\n",
       "      <td>English</td>\n",
       "      <td>English</td>\n",
       "      <td>en</td>\n",
       "      <td>eng</td>\n",
       "      <td>NaN</td>\n",
       "      <td>both</td>\n",
       "    </tr>\n",
       "    <tr>\n",
       "      <th>1</th>\n",
       "      <td>157336</td>\n",
       "      <td>Interstellar</td>\n",
       "      <td>8.417</td>\n",
       "      <td>32571</td>\n",
       "      <td>2014-11-05</td>\n",
       "      <td>7.017292e+08</td>\n",
       "      <td>169</td>\n",
       "      <td>165000000.0</td>\n",
       "      <td>en</td>\n",
       "      <td>The adventures of a group of explorers who mak...</td>\n",
       "      <td>...</td>\n",
       "      <td>Legendary Pictures, Syncopy, Lynda Obst Produc...</td>\n",
       "      <td>United Kingdom, United States of America</td>\n",
       "      <td>English</td>\n",
       "      <td>Indo-European</td>\n",
       "      <td>English</td>\n",
       "      <td>English</td>\n",
       "      <td>en</td>\n",
       "      <td>eng</td>\n",
       "      <td>NaN</td>\n",
       "      <td>both</td>\n",
       "    </tr>\n",
       "    <tr>\n",
       "      <th>2</th>\n",
       "      <td>155</td>\n",
       "      <td>The Dark Knight</td>\n",
       "      <td>8.512</td>\n",
       "      <td>30619</td>\n",
       "      <td>2008-07-16</td>\n",
       "      <td>1.004558e+09</td>\n",
       "      <td>152</td>\n",
       "      <td>185000000.0</td>\n",
       "      <td>en</td>\n",
       "      <td>Batman raises the stakes in his war on crime. ...</td>\n",
       "      <td>...</td>\n",
       "      <td>DC Comics, Legendary Pictures, Syncopy, Isobel...</td>\n",
       "      <td>United Kingdom, United States of America</td>\n",
       "      <td>English, Mandarin</td>\n",
       "      <td>Indo-European</td>\n",
       "      <td>English</td>\n",
       "      <td>English</td>\n",
       "      <td>en</td>\n",
       "      <td>eng</td>\n",
       "      <td>NaN</td>\n",
       "      <td>both</td>\n",
       "    </tr>\n",
       "    <tr>\n",
       "      <th>3</th>\n",
       "      <td>19995</td>\n",
       "      <td>Avatar</td>\n",
       "      <td>7.573</td>\n",
       "      <td>29815</td>\n",
       "      <td>2009-12-15</td>\n",
       "      <td>2.923706e+09</td>\n",
       "      <td>162</td>\n",
       "      <td>237000000.0</td>\n",
       "      <td>en</td>\n",
       "      <td>In the 22nd century, a paraplegic Marine is di...</td>\n",
       "      <td>...</td>\n",
       "      <td>Dune Entertainment, Lightstorm Entertainment, ...</td>\n",
       "      <td>United States of America, United Kingdom</td>\n",
       "      <td>English, Spanish</td>\n",
       "      <td>Indo-European</td>\n",
       "      <td>English</td>\n",
       "      <td>English</td>\n",
       "      <td>en</td>\n",
       "      <td>eng</td>\n",
       "      <td>NaN</td>\n",
       "      <td>both</td>\n",
       "    </tr>\n",
       "    <tr>\n",
       "      <th>4</th>\n",
       "      <td>24428</td>\n",
       "      <td>The Avengers</td>\n",
       "      <td>7.710</td>\n",
       "      <td>29166</td>\n",
       "      <td>2012-04-25</td>\n",
       "      <td>1.518816e+09</td>\n",
       "      <td>143</td>\n",
       "      <td>220000000.0</td>\n",
       "      <td>en</td>\n",
       "      <td>When an unexpected enemy emerges and threatens...</td>\n",
       "      <td>...</td>\n",
       "      <td>Marvel Studios</td>\n",
       "      <td>United States of America</td>\n",
       "      <td>English, Hindi, Russian</td>\n",
       "      <td>Indo-European</td>\n",
       "      <td>English</td>\n",
       "      <td>English</td>\n",
       "      <td>en</td>\n",
       "      <td>eng</td>\n",
       "      <td>NaN</td>\n",
       "      <td>both</td>\n",
       "    </tr>\n",
       "  </tbody>\n",
       "</table>\n",
       "<p>5 rows × 21 columns</p>\n",
       "</div>"
      ],
      "text/plain": [
       "       id            title  vote_average  vote_count release_date  \\\n",
       "0   27205        Inception         8.364       34495   2010-07-15   \n",
       "1  157336     Interstellar         8.417       32571   2014-11-05   \n",
       "2     155  The Dark Knight         8.512       30619   2008-07-16   \n",
       "3   19995           Avatar         7.573       29815   2009-12-15   \n",
       "4   24428     The Avengers         7.710       29166   2012-04-25   \n",
       "\n",
       "        revenue  runtime       budget original_language  \\\n",
       "0  8.255328e+08      148  160000000.0                en   \n",
       "1  7.017292e+08      169  165000000.0                en   \n",
       "2  1.004558e+09      152  185000000.0                en   \n",
       "3  2.923706e+09      162  237000000.0                en   \n",
       "4  1.518816e+09      143  220000000.0                en   \n",
       "\n",
       "                                            synopsis  ...  \\\n",
       "0  Cobb, a skilled thief who commits corporate es...  ...   \n",
       "1  The adventures of a group of explorers who mak...  ...   \n",
       "2  Batman raises the stakes in his war on crime. ...  ...   \n",
       "3  In the 22nd century, a paraplegic Marine is di...  ...   \n",
       "4  When an unexpected enemy emerges and threatens...  ...   \n",
       "\n",
       "                                production_companies  \\\n",
       "0  Legendary Pictures, Syncopy, Warner Bros. Pict...   \n",
       "1  Legendary Pictures, Syncopy, Lynda Obst Produc...   \n",
       "2  DC Comics, Legendary Pictures, Syncopy, Isobel...   \n",
       "3  Dune Entertainment, Lightstorm Entertainment, ...   \n",
       "4                                     Marvel Studios   \n",
       "\n",
       "                       production_countries  \\\n",
       "0  United Kingdom, United States of America   \n",
       "1  United Kingdom, United States of America   \n",
       "2  United Kingdom, United States of America   \n",
       "3  United States of America, United Kingdom   \n",
       "4                  United States of America   \n",
       "\n",
       "                     spoken_languages         family     name nativeName  \\\n",
       "0  English, French, Japanese, Swahili  Indo-European  English    English   \n",
       "1                             English  Indo-European  English    English   \n",
       "2                   English, Mandarin  Indo-European  English    English   \n",
       "3                    English, Spanish  Indo-European  English    English   \n",
       "4             English, Hindi, Russian  Indo-European  English    English   \n",
       "\n",
       "  639-1 639-2 639-2/B _merge  \n",
       "0    en   eng     NaN   both  \n",
       "1    en   eng     NaN   both  \n",
       "2    en   eng     NaN   both  \n",
       "3    en   eng     NaN   both  \n",
       "4    en   eng     NaN   both  \n",
       "\n",
       "[5 rows x 21 columns]"
      ]
     },
     "execution_count": 53,
     "metadata": {},
     "output_type": "execute_result"
    }
   ],
   "source": [
    "# Check the output\n",
    "df_features.head()"
   ]
  },
  {
   "cell_type": "code",
   "execution_count": 54,
   "id": "f1b1e030",
   "metadata": {},
   "outputs": [
    {
     "data": {
      "text/plain": [
       "_merge\n",
       "both          490711\n",
       "left_only          0\n",
       "right_only         0\n",
       "Name: count, dtype: int64"
      ]
     },
     "execution_count": 54,
     "metadata": {},
     "output_type": "execute_result"
    }
   ],
   "source": [
    "# Check to make sure it was a full match\n",
    "df_features['_merge'].value_counts()"
   ]
  },
  {
   "cell_type": "code",
   "execution_count": 55,
   "id": "8eb5d866",
   "metadata": {},
   "outputs": [],
   "source": [
    "# Drop the extra columns\n",
    "df_features = df_features.drop(['original_language', 'family', 'nativeName', '639-1', '639-2', \n",
    "                                '639-2/B', '_merge'], axis = 1)"
   ]
  },
  {
   "cell_type": "code",
   "execution_count": 56,
   "id": "7625b9f5",
   "metadata": {},
   "outputs": [],
   "source": [
    "# Rename the new full language name column\n",
    "df_features = df_features.rename({'name' : 'original_language'}, axis = 1)"
   ]
  },
  {
   "cell_type": "code",
   "execution_count": 57,
   "id": "b58236d4",
   "metadata": {},
   "outputs": [
    {
     "data": {
      "text/plain": [
       "Index(['id', 'title', 'vote_average', 'vote_count', 'release_date', 'revenue',\n",
       "       'runtime', 'budget', 'synopsis', 'genres', 'production_companies',\n",
       "       'production_countries', 'spoken_languages', 'original_language'],\n",
       "      dtype='object')"
      ]
     },
     "execution_count": 57,
     "metadata": {},
     "output_type": "execute_result"
    }
   ],
   "source": [
    "# Check the column output \n",
    "df_features.columns"
   ]
  },
  {
   "cell_type": "markdown",
   "id": "cb6d2f8b",
   "metadata": {},
   "source": [
    "## 11. Checking for Mixed-Type Columns"
   ]
  },
  {
   "cell_type": "code",
   "execution_count": 58,
   "id": "262b142b",
   "metadata": {},
   "outputs": [
    {
     "name": "stdout",
     "output_type": "stream",
     "text": [
      "title\n",
      "release_date\n",
      "synopsis\n",
      "genres\n",
      "production_companies\n",
      "production_countries\n",
      "spoken_languages\n"
     ]
    }
   ],
   "source": [
    "# Check for mixed-type columns\n",
    "for col in df_features.columns.tolist():\n",
    "  weird = (df_features[[col]].map(type) != df_features[[col]].iloc[0].apply(type)).any(axis = 1)\n",
    "  if len (df_features[weird]) > 0:\n",
    "    print (col)"
   ]
  },
  {
   "cell_type": "code",
   "execution_count": 59,
   "id": "7a6691cb",
   "metadata": {},
   "outputs": [],
   "source": [
    "# Updating columns to be a string\n",
    "df_features['title'] = df_features['title'].astype('str')\n",
    "df_features['synopsis'] = df_features['synopsis'].astype('str')\n",
    "df_features['genres'] = df_features['genres'].astype('str')\n",
    "df_features['production_companies'] = df_features['production_companies'].astype('str')\n",
    "df_features['production_countries'] = df_features['production_countries'].astype('str')\n",
    "df_features['spoken_languages'] = df_features['spoken_languages'].astype('str')"
   ]
  },
  {
   "cell_type": "code",
   "execution_count": 60,
   "id": "350973ab",
   "metadata": {},
   "outputs": [],
   "source": [
    "from datetime import datetime\n",
    "\n",
    "df_features['release_date'] = pd.to_datetime(df_features['release_date'])"
   ]
  },
  {
   "cell_type": "code",
   "execution_count": 61,
   "id": "93449495",
   "metadata": {},
   "outputs": [
    {
     "name": "stdout",
     "output_type": "stream",
     "text": [
      "release_date\n"
     ]
    }
   ],
   "source": [
    "# Check for mixed-type columns\n",
    "for col in df_features.columns.tolist():\n",
    "  weird = (df_features[[col]].map(type) != df_features[[col]].iloc[0].apply(type)).any(axis = 1)\n",
    "  if len (df_features[weird]) > 0:\n",
    "    print (col)"
   ]
  },
  {
   "cell_type": "markdown",
   "id": "cf3fbc80",
   "metadata": {},
   "source": [
    "## 12. Creating New Columns for Genres"
   ]
  },
  {
   "cell_type": "markdown",
   "id": "0621f147",
   "metadata": {},
   "source": [
    "### Action"
   ]
  },
  {
   "cell_type": "code",
   "execution_count": 62,
   "id": "e12c0a34",
   "metadata": {},
   "outputs": [],
   "source": [
    "# Check the 'genres' column to see if the word 'Action' appears\n",
    "action_list = []\n",
    "\n",
    "for value in df_features['genres']:\n",
    "    if 'Action' in value:\n",
    "        action_list.append(1)\n",
    "    else: action_list.append(0)"
   ]
  },
  {
   "cell_type": "code",
   "execution_count": 63,
   "id": "a9e5bbe4",
   "metadata": {},
   "outputs": [
    {
     "data": {
      "text/plain": [
       "action\n",
       "0    460570\n",
       "1     30141\n",
       "Name: count, dtype: int64"
      ]
     },
     "execution_count": 63,
     "metadata": {},
     "output_type": "execute_result"
    }
   ],
   "source": [
    "# Create a new column using the values from the previous for loop\n",
    "df_features['action'] = action_list\n",
    "df_features['action'].value_counts(dropna = False)"
   ]
  },
  {
   "cell_type": "markdown",
   "id": "48529c0f",
   "metadata": {},
   "source": [
    "### Adventure"
   ]
  },
  {
   "cell_type": "code",
   "execution_count": 64,
   "id": "0fa1f3d0",
   "metadata": {},
   "outputs": [],
   "source": [
    "# Check the 'genres' column to see if the word 'Adventure' appears\n",
    "adventure_list = []\n",
    "\n",
    "for value in df_features['genres']:\n",
    "    if 'Adventure' in value:\n",
    "        adventure_list.append(1)\n",
    "    else: adventure_list.append(0)"
   ]
  },
  {
   "cell_type": "code",
   "execution_count": 65,
   "id": "386c62a2",
   "metadata": {},
   "outputs": [
    {
     "data": {
      "text/plain": [
       "adventure\n",
       "0    474938\n",
       "1     15773\n",
       "Name: count, dtype: int64"
      ]
     },
     "execution_count": 65,
     "metadata": {},
     "output_type": "execute_result"
    }
   ],
   "source": [
    "# Create a new column using the values from the previous for loop\n",
    "df_features['adventure'] = adventure_list\n",
    "df_features['adventure'].value_counts(dropna = False)"
   ]
  },
  {
   "cell_type": "markdown",
   "id": "da1e0ac9",
   "metadata": {},
   "source": [
    "### Animation"
   ]
  },
  {
   "cell_type": "code",
   "execution_count": 66,
   "id": "d8fd9cb3",
   "metadata": {},
   "outputs": [],
   "source": [
    "# Check the 'genres' column to see if the word 'Animation' appears\n",
    "animation_list = []\n",
    "\n",
    "for value in df_features['genres']:\n",
    "    if 'Animation' in value:\n",
    "        animation_list.append(1)\n",
    "    else: animation_list.append(0)"
   ]
  },
  {
   "cell_type": "code",
   "execution_count": 67,
   "id": "856f1e8e",
   "metadata": {},
   "outputs": [
    {
     "data": {
      "text/plain": [
       "animation\n",
       "0    481448\n",
       "1      9263\n",
       "Name: count, dtype: int64"
      ]
     },
     "execution_count": 67,
     "metadata": {},
     "output_type": "execute_result"
    }
   ],
   "source": [
    "# Create a new column using the values from the previous for loop\n",
    "df_features['animation'] = animation_list\n",
    "df_features['animation'].value_counts(dropna = False)"
   ]
  },
  {
   "cell_type": "markdown",
   "id": "b8ed9481",
   "metadata": {},
   "source": [
    "### Comedy"
   ]
  },
  {
   "cell_type": "code",
   "execution_count": 68,
   "id": "17632e2c",
   "metadata": {},
   "outputs": [],
   "source": [
    "# Check the 'genres' column to see if the word 'Comedy' appears\n",
    "comedy_list = []\n",
    "\n",
    "for value in df_features['genres']:\n",
    "    if 'Comedy' in value:\n",
    "        comedy_list.append(1)\n",
    "    else: comedy_list.append(0)"
   ]
  },
  {
   "cell_type": "code",
   "execution_count": 69,
   "id": "9e57eb26",
   "metadata": {},
   "outputs": [
    {
     "data": {
      "text/plain": [
       "comedy\n",
       "0    415842\n",
       "1     74869\n",
       "Name: count, dtype: int64"
      ]
     },
     "execution_count": 69,
     "metadata": {},
     "output_type": "execute_result"
    }
   ],
   "source": [
    "# Create a new column using the values from the previous for loop\n",
    "df_features['comedy'] = comedy_list\n",
    "df_features['comedy'].value_counts(dropna = False)"
   ]
  },
  {
   "cell_type": "markdown",
   "id": "96392c59",
   "metadata": {},
   "source": [
    "### Crime"
   ]
  },
  {
   "cell_type": "code",
   "execution_count": 70,
   "id": "fdacb7d6",
   "metadata": {},
   "outputs": [],
   "source": [
    "# Check the 'genres' column to see if the word 'Crime' appears\n",
    "crime_list = []\n",
    "\n",
    "for value in df_features['genres']:\n",
    "    if 'Crime' in value:\n",
    "        crime_list.append(1)\n",
    "    else: crime_list.append(0)"
   ]
  },
  {
   "cell_type": "code",
   "execution_count": 71,
   "id": "0bd7e3ee",
   "metadata": {},
   "outputs": [
    {
     "data": {
      "text/plain": [
       "crime\n",
       "0    467424\n",
       "1     23287\n",
       "Name: count, dtype: int64"
      ]
     },
     "execution_count": 71,
     "metadata": {},
     "output_type": "execute_result"
    }
   ],
   "source": [
    "# Create a new column using the values from the previous for loop\n",
    "df_features['crime'] = crime_list\n",
    "df_features['crime'].value_counts(dropna = False)"
   ]
  },
  {
   "cell_type": "markdown",
   "id": "7d3db965",
   "metadata": {},
   "source": [
    "### Documentary"
   ]
  },
  {
   "cell_type": "code",
   "execution_count": 72,
   "id": "9c2d299e",
   "metadata": {},
   "outputs": [],
   "source": [
    "# Check the 'genres' column to see if the word 'Documentary' appears\n",
    "documentary_list = []\n",
    "\n",
    "for value in df_features['genres']:\n",
    "    if 'Documentary' in value:\n",
    "        documentary_list.append(1)\n",
    "    else: documentary_list.append(0)"
   ]
  },
  {
   "cell_type": "code",
   "execution_count": 73,
   "id": "0929158a",
   "metadata": {},
   "outputs": [
    {
     "data": {
      "text/plain": [
       "documentary\n",
       "0    411189\n",
       "1     79522\n",
       "Name: count, dtype: int64"
      ]
     },
     "execution_count": 73,
     "metadata": {},
     "output_type": "execute_result"
    }
   ],
   "source": [
    "# Create a new column using the values from the previous for loop\n",
    "df_features['documentary'] = documentary_list\n",
    "df_features['documentary'].value_counts(dropna = False)"
   ]
  },
  {
   "cell_type": "markdown",
   "id": "af2baef9",
   "metadata": {},
   "source": [
    "### Drama"
   ]
  },
  {
   "cell_type": "code",
   "execution_count": 74,
   "id": "cf54fa13",
   "metadata": {},
   "outputs": [],
   "source": [
    "# Check the 'genres' column to see if the word 'Drama' appears\n",
    "drama_list = []\n",
    "\n",
    "for value in df_features['genres']:\n",
    "    if 'Drama' in value:\n",
    "        drama_list.append(1)\n",
    "    else: drama_list.append(0)"
   ]
  },
  {
   "cell_type": "code",
   "execution_count": 75,
   "id": "d2afee8f",
   "metadata": {},
   "outputs": [
    {
     "data": {
      "text/plain": [
       "drama\n",
       "0    359414\n",
       "1    131297\n",
       "Name: count, dtype: int64"
      ]
     },
     "execution_count": 75,
     "metadata": {},
     "output_type": "execute_result"
    }
   ],
   "source": [
    "# Create a new column using the values from the previous for loop\n",
    "df_features['drama'] = drama_list\n",
    "df_features['drama'].value_counts(dropna = False)"
   ]
  },
  {
   "cell_type": "markdown",
   "id": "242f9b09",
   "metadata": {},
   "source": [
    "### Family"
   ]
  },
  {
   "cell_type": "code",
   "execution_count": 76,
   "id": "dea18ca1",
   "metadata": {},
   "outputs": [],
   "source": [
    "# Check the 'genres' column to see if the word 'Family' appears\n",
    "family_list = []\n",
    "\n",
    "for value in df_features['genres']:\n",
    "    if 'Family' in value:\n",
    "        family_list.append(1)\n",
    "    else: family_list.append(0)"
   ]
  },
  {
   "cell_type": "code",
   "execution_count": 77,
   "id": "7febaebe",
   "metadata": {},
   "outputs": [
    {
     "data": {
      "text/plain": [
       "family\n",
       "0    475517\n",
       "1     15194\n",
       "Name: count, dtype: int64"
      ]
     },
     "execution_count": 77,
     "metadata": {},
     "output_type": "execute_result"
    }
   ],
   "source": [
    "# Create a new column using the values from the previous for loop\n",
    "df_features['family'] = family_list\n",
    "df_features['family'].value_counts(dropna = False)"
   ]
  },
  {
   "cell_type": "markdown",
   "id": "706c8b7d",
   "metadata": {},
   "source": [
    "### Fantasy"
   ]
  },
  {
   "cell_type": "code",
   "execution_count": 78,
   "id": "d97c9b28",
   "metadata": {},
   "outputs": [],
   "source": [
    "# Check the 'genres' column to see if the word 'Fantasy' appears\n",
    "fantasy_list = []\n",
    "\n",
    "for value in df_features['genres']:\n",
    "    if 'Fantasy' in value:\n",
    "        fantasy_list.append(1)\n",
    "    else: fantasy_list.append(0)"
   ]
  },
  {
   "cell_type": "code",
   "execution_count": 79,
   "id": "fe7922dc",
   "metadata": {},
   "outputs": [
    {
     "data": {
      "text/plain": [
       "fantasy\n",
       "0    479445\n",
       "1     11266\n",
       "Name: count, dtype: int64"
      ]
     },
     "execution_count": 79,
     "metadata": {},
     "output_type": "execute_result"
    }
   ],
   "source": [
    "# Create a new column using the values from the previous for loop\n",
    "df_features['fantasy'] = fantasy_list\n",
    "df_features['fantasy'].value_counts(dropna = False)"
   ]
  },
  {
   "cell_type": "markdown",
   "id": "70442d52",
   "metadata": {},
   "source": [
    "### History"
   ]
  },
  {
   "cell_type": "code",
   "execution_count": 80,
   "id": "8188ba7e",
   "metadata": {},
   "outputs": [],
   "source": [
    "# Check the 'genres' column to see if the word 'History' appears\n",
    "history_list = []\n",
    "\n",
    "for value in df_features['genres']:\n",
    "    if 'History' in value:\n",
    "        history_list.append(1)\n",
    "    else: history_list.append(0)"
   ]
  },
  {
   "cell_type": "code",
   "execution_count": 81,
   "id": "f64fc1ff",
   "metadata": {},
   "outputs": [
    {
     "data": {
      "text/plain": [
       "history\n",
       "0    479943\n",
       "1     10768\n",
       "Name: count, dtype: int64"
      ]
     },
     "execution_count": 81,
     "metadata": {},
     "output_type": "execute_result"
    }
   ],
   "source": [
    "# Create a new column using the values from the previous for loop\n",
    "df_features['history'] = history_list\n",
    "df_features['history'].value_counts(dropna = False)"
   ]
  },
  {
   "cell_type": "markdown",
   "id": "70ec2a68",
   "metadata": {},
   "source": [
    "### Horror"
   ]
  },
  {
   "cell_type": "code",
   "execution_count": 82,
   "id": "0699dd10",
   "metadata": {},
   "outputs": [],
   "source": [
    "# Check the 'genres' column to see if the word 'Horror' appears\n",
    "horror_list = []\n",
    "\n",
    "for value in df_features['genres']:\n",
    "    if 'Horror' in value:\n",
    "        horror_list.append(1)\n",
    "    else: horror_list.append(0)"
   ]
  },
  {
   "cell_type": "code",
   "execution_count": 83,
   "id": "d6e79e2e",
   "metadata": {},
   "outputs": [
    {
     "data": {
      "text/plain": [
       "horror\n",
       "0    462983\n",
       "1     27728\n",
       "Name: count, dtype: int64"
      ]
     },
     "execution_count": 83,
     "metadata": {},
     "output_type": "execute_result"
    }
   ],
   "source": [
    "# Create a new column using the values from the previous for loop\n",
    "df_features['horror'] = horror_list\n",
    "df_features['horror'].value_counts(dropna = False)"
   ]
  },
  {
   "cell_type": "markdown",
   "id": "35928584",
   "metadata": {},
   "source": [
    "### Music"
   ]
  },
  {
   "cell_type": "code",
   "execution_count": 84,
   "id": "f22475b4",
   "metadata": {},
   "outputs": [],
   "source": [
    "# Check the 'genres' column to see if the word 'Music' appears\n",
    "music_list = []\n",
    "\n",
    "for value in df_features['genres']:\n",
    "    if 'Music' in value:\n",
    "        music_list.append(1)\n",
    "    else: music_list.append(0)"
   ]
  },
  {
   "cell_type": "code",
   "execution_count": 85,
   "id": "d222568b",
   "metadata": {},
   "outputs": [
    {
     "data": {
      "text/plain": [
       "music\n",
       "0    464394\n",
       "1     26317\n",
       "Name: count, dtype: int64"
      ]
     },
     "execution_count": 85,
     "metadata": {},
     "output_type": "execute_result"
    }
   ],
   "source": [
    "# Create a new column using the values from the previous for loop\n",
    "df_features['music'] = music_list\n",
    "df_features['music'].value_counts(dropna = False)"
   ]
  },
  {
   "cell_type": "markdown",
   "id": "1e998d2c",
   "metadata": {},
   "source": [
    "### Mystery"
   ]
  },
  {
   "cell_type": "code",
   "execution_count": 86,
   "id": "4ada37c3",
   "metadata": {},
   "outputs": [],
   "source": [
    "# Check the 'genres' column to see if the word 'Mystery' appears\n",
    "mystery_list = []\n",
    "\n",
    "for value in df_features['genres']:\n",
    "    if 'Mystery' in value:\n",
    "        mystery_list.append(1)\n",
    "    else: mystery_list.append(0)"
   ]
  },
  {
   "cell_type": "code",
   "execution_count": 87,
   "id": "aa4da212",
   "metadata": {},
   "outputs": [
    {
     "data": {
      "text/plain": [
       "mystery\n",
       "0    478795\n",
       "1     11916\n",
       "Name: count, dtype: int64"
      ]
     },
     "execution_count": 87,
     "metadata": {},
     "output_type": "execute_result"
    }
   ],
   "source": [
    "# Create a new column using the values from the previous for loop\n",
    "df_features['mystery'] = mystery_list\n",
    "df_features['mystery'].value_counts(dropna = False)"
   ]
  },
  {
   "cell_type": "markdown",
   "id": "589e4067",
   "metadata": {},
   "source": [
    "### Romance"
   ]
  },
  {
   "cell_type": "code",
   "execution_count": 88,
   "id": "9e033a72",
   "metadata": {},
   "outputs": [],
   "source": [
    "# Check the 'genres' column to see if the word 'Romance' appears\n",
    "romance_list = []\n",
    "\n",
    "for value in df_features['genres']:\n",
    "    if 'Romance' in value:\n",
    "        romance_list.append(1)\n",
    "    else: romance_list.append(0)"
   ]
  },
  {
   "cell_type": "code",
   "execution_count": 89,
   "id": "4b990688",
   "metadata": {},
   "outputs": [
    {
     "data": {
      "text/plain": [
       "romance\n",
       "0    453595\n",
       "1     37116\n",
       "Name: count, dtype: int64"
      ]
     },
     "execution_count": 89,
     "metadata": {},
     "output_type": "execute_result"
    }
   ],
   "source": [
    "# Create a new column using the values from the previous for loop\n",
    "df_features['romance'] = romance_list\n",
    "df_features['romance'].value_counts(dropna = False)"
   ]
  },
  {
   "cell_type": "markdown",
   "id": "d99813ed",
   "metadata": {},
   "source": [
    "### Science Fiction"
   ]
  },
  {
   "cell_type": "code",
   "execution_count": 90,
   "id": "78978abe",
   "metadata": {},
   "outputs": [],
   "source": [
    "# Check the 'genres' column to see if the word 'Science Fiction' appears\n",
    "science_fiction_list = []\n",
    "\n",
    "for value in df_features['genres']:\n",
    "    if 'Science Fiction' in value:\n",
    "        science_fiction_list.append(1)\n",
    "    else: science_fiction_list.append(0)"
   ]
  },
  {
   "cell_type": "code",
   "execution_count": 91,
   "id": "afe16ee7",
   "metadata": {},
   "outputs": [
    {
     "data": {
      "text/plain": [
       "science_fiction\n",
       "0    479725\n",
       "1     10986\n",
       "Name: count, dtype: int64"
      ]
     },
     "execution_count": 91,
     "metadata": {},
     "output_type": "execute_result"
    }
   ],
   "source": [
    "# Create a new column using the values from the previous for loop\n",
    "df_features['science_fiction'] = science_fiction_list\n",
    "df_features['science_fiction'].value_counts(dropna = False)"
   ]
  },
  {
   "cell_type": "markdown",
   "id": "316f87e2",
   "metadata": {},
   "source": [
    "### TV Movie"
   ]
  },
  {
   "cell_type": "code",
   "execution_count": 92,
   "id": "9ccc22f1",
   "metadata": {},
   "outputs": [],
   "source": [
    "# Check the 'genres' column to see if the word 'TV Movie' appears\n",
    "tv_movie_list = []\n",
    "\n",
    "for value in df_features['genres']:\n",
    "    if 'TV Movie' in value:\n",
    "        tv_movie_list.append(1)\n",
    "    else: tv_movie_list.append(0)"
   ]
  },
  {
   "cell_type": "code",
   "execution_count": 93,
   "id": "f9374be9",
   "metadata": {},
   "outputs": [
    {
     "data": {
      "text/plain": [
       "tv_movie\n",
       "0    473006\n",
       "1     17705\n",
       "Name: count, dtype: int64"
      ]
     },
     "execution_count": 93,
     "metadata": {},
     "output_type": "execute_result"
    }
   ],
   "source": [
    "# Create a new column using the values from the previous for loop\n",
    "df_features['tv_movie'] = tv_movie_list\n",
    "df_features['tv_movie'].value_counts(dropna = False)"
   ]
  },
  {
   "cell_type": "markdown",
   "id": "cbdc1cd9",
   "metadata": {},
   "source": [
    "### Thriller"
   ]
  },
  {
   "cell_type": "code",
   "execution_count": 94,
   "id": "5a4ceef5",
   "metadata": {},
   "outputs": [],
   "source": [
    "# Check the 'genres' column to see if the word 'Thriller' appears\n",
    "thriller_list = []\n",
    "\n",
    "for value in df_features['genres']:\n",
    "    if 'Thriller' in value:\n",
    "        thriller_list.append(1)\n",
    "    else: thriller_list.append(0)"
   ]
  },
  {
   "cell_type": "code",
   "execution_count": 95,
   "id": "8d0adf60",
   "metadata": {},
   "outputs": [
    {
     "data": {
      "text/plain": [
       "thriller\n",
       "0    460494\n",
       "1     30217\n",
       "Name: count, dtype: int64"
      ]
     },
     "execution_count": 95,
     "metadata": {},
     "output_type": "execute_result"
    }
   ],
   "source": [
    "# Create a new column using the values from the previous for loop\n",
    "df_features['thriller'] = thriller_list\n",
    "df_features['thriller'].value_counts(dropna = False)"
   ]
  },
  {
   "cell_type": "markdown",
   "id": "796ce7e3",
   "metadata": {},
   "source": [
    "### War"
   ]
  },
  {
   "cell_type": "code",
   "execution_count": 96,
   "id": "4ec89716",
   "metadata": {},
   "outputs": [],
   "source": [
    "# Check the 'genres' column to see if the word 'War' appears\n",
    "war_list = []\n",
    "\n",
    "for value in df_features['genres']:\n",
    "    if 'War' in value:\n",
    "        war_list.append(1)\n",
    "    else: war_list.append(0)"
   ]
  },
  {
   "cell_type": "code",
   "execution_count": 97,
   "id": "2fd19da6",
   "metadata": {},
   "outputs": [
    {
     "data": {
      "text/plain": [
       "war\n",
       "0    483785\n",
       "1      6926\n",
       "Name: count, dtype: int64"
      ]
     },
     "execution_count": 97,
     "metadata": {},
     "output_type": "execute_result"
    }
   ],
   "source": [
    "# Create a new column using the values from the previous for loop\n",
    "df_features['war'] = war_list\n",
    "df_features['war'].value_counts(dropna = False)"
   ]
  },
  {
   "cell_type": "markdown",
   "id": "1328e5a7",
   "metadata": {},
   "source": [
    "### Western"
   ]
  },
  {
   "cell_type": "code",
   "execution_count": 98,
   "id": "f6720714",
   "metadata": {},
   "outputs": [],
   "source": [
    "# Check the 'genres' column to see if the word 'Western' appears\n",
    "western_list = []\n",
    "\n",
    "for value in df_features['genres']:\n",
    "    if 'Western' in value:\n",
    "        western_list.append(1)\n",
    "    else: western_list.append(0)"
   ]
  },
  {
   "cell_type": "code",
   "execution_count": 99,
   "id": "8fd94dbf",
   "metadata": {},
   "outputs": [
    {
     "data": {
      "text/plain": [
       "western\n",
       "0    484609\n",
       "1      6102\n",
       "Name: count, dtype: int64"
      ]
     },
     "execution_count": 99,
     "metadata": {},
     "output_type": "execute_result"
    }
   ],
   "source": [
    "# Create a new column using the values from the previous for loop\n",
    "df_features['western'] = western_list\n",
    "df_features['western'].value_counts(dropna = False)"
   ]
  },
  {
   "cell_type": "markdown",
   "id": "c37ece66",
   "metadata": {},
   "source": [
    "## 13. Creating New Runtime Category Column"
   ]
  },
  {
   "cell_type": "markdown",
   "id": "f981c0ed",
   "metadata": {},
   "source": [
    "### Reasoning:\n",
    "        We are going to want to use these categories when describing films. Category cutoffs were sourced from \n",
    "        IMDB"
   ]
  },
  {
   "cell_type": "code",
   "execution_count": 100,
   "id": "2e359ff3",
   "metadata": {},
   "outputs": [],
   "source": [
    "# Create a runtime category with 4 levels based on IMDB runtime cutoffs \n",
    "df_features.loc[df_features['runtime'] < 100, 'runtime_category'] = 'Short Films'\n",
    "df_features.loc[(df_features['runtime'] >= 100) & (df_features['runtime'] < 140), 'runtime_category'] = 'Mid-Length Films'\n",
    "df_features.loc[(df_features['runtime'] >= 140) & (df_features['runtime'] < 180), 'runtime_category'] = 'Long Films'\n",
    "df_features.loc[df_features['runtime'] >= 180, 'runtime_category'] = 'Super Long Films'"
   ]
  },
  {
   "cell_type": "code",
   "execution_count": 101,
   "id": "9f03a9cb",
   "metadata": {},
   "outputs": [
    {
     "data": {
      "text/plain": [
       "runtime_category\n",
       "Short Films         323183\n",
       "Mid-Length Films    119501\n",
       "Long Films           29827\n",
       "Super Long Films     18200\n",
       "Name: count, dtype: int64"
      ]
     },
     "execution_count": 101,
     "metadata": {},
     "output_type": "execute_result"
    }
   ],
   "source": [
    "df_features['runtime_category'].value_counts()"
   ]
  },
  {
   "cell_type": "markdown",
   "id": "fa6fa824",
   "metadata": {},
   "source": [
    "## 14. Creating New Budget Category Column"
   ]
  },
  {
   "cell_type": "markdown",
   "id": "224cc2c3",
   "metadata": {},
   "source": [
    "### Reasoning:\n",
    "        We are going to want to use these categories when describing films. Category cutoffs were sourced from \n",
    "        SAG-AFTRA and Studio Binder"
   ]
  },
  {
   "cell_type": "code",
   "execution_count": 102,
   "id": "67576fab",
   "metadata": {},
   "outputs": [],
   "source": [
    "# Create a new column separating films into 4 budget categories\n",
    "df_features.loc[df_features['budget'] <= 250000, 'budget_category'] = 'Micro-Budget'\n",
    "df_features.loc[(df_features['budget'] > 250000) & (df_features['budget'] <= 5000000), 'budget_category'] = 'Low-Budget'\n",
    "df_features.loc[(df_features['budget'] > 5000000) & (df_features['budget'] <= 50000000), 'budget_category'] = 'Mid-Budget'\n",
    "df_features.loc[df_features['budget'] > 50000000, 'budget_category'] = 'High-Budget'"
   ]
  },
  {
   "cell_type": "code",
   "execution_count": 103,
   "id": "5ff4d9d6",
   "metadata": {},
   "outputs": [
    {
     "data": {
      "text/plain": [
       "budget_category\n",
       "Micro-Budget    468492\n",
       "Low-Budget       14447\n",
       "Mid-Budget        6394\n",
       "High-Budget       1378\n",
       "Name: count, dtype: int64"
      ]
     },
     "execution_count": 103,
     "metadata": {},
     "output_type": "execute_result"
    }
   ],
   "source": [
    "df_features['budget_category'].value_counts()"
   ]
  },
  {
   "cell_type": "markdown",
   "id": "9c26c2bb",
   "metadata": {},
   "source": [
    "## 15. Data Profile"
   ]
  },
  {
   "cell_type": "code",
   "execution_count": 104,
   "id": "b5cb62b4",
   "metadata": {},
   "outputs": [
    {
     "data": {
      "text/plain": [
       "(490711, 35)"
      ]
     },
     "execution_count": 104,
     "metadata": {},
     "output_type": "execute_result"
    }
   ],
   "source": [
    "df_features.shape"
   ]
  },
  {
   "cell_type": "code",
   "execution_count": 105,
   "id": "0a45169b",
   "metadata": {},
   "outputs": [],
   "source": [
    "# Create a data profile\n",
    "profile = ProfileReport(df_features, title = \"TMDB Data Profile\")"
   ]
  },
  {
   "cell_type": "code",
   "execution_count": 106,
   "id": "5f9f105f",
   "metadata": {},
   "outputs": [
    {
     "data": {
      "application/vnd.jupyter.widget-view+json": {
       "model_id": "25dd6fd0a7844a78b21166e8d03f2d0e",
       "version_major": 2,
       "version_minor": 0
      },
      "text/plain": [
       "Summarize dataset:   0%|          | 0/5 [00:00<?, ?it/s]"
      ]
     },
     "metadata": {},
     "output_type": "display_data"
    },
    {
     "name": "stderr",
     "output_type": "stream",
     "text": [
      "/opt/anaconda3/lib/python3.11/site-packages/ydata_profiling/model/correlations.py:66: UserWarning: There was an attempt to calculate the auto correlation, but this failed.\n",
      "To hide this warning, disable the calculation\n",
      "(using `df.profile_report(correlations={\"auto\": {\"calculate\": False}})`\n",
      "If this is problematic for your use case, please report this as an issue:\n",
      "https://github.com/ydataai/ydata-profiling/issues\n",
      "(include the error message: 'could not convert string to float: 'High-Budget'')\n",
      "  warnings.warn(\n"
     ]
    },
    {
     "data": {
      "application/vnd.jupyter.widget-view+json": {
       "model_id": "fb626b9fae0543a38906baba610bf356",
       "version_major": 2,
       "version_minor": 0
      },
      "text/plain": [
       "Generate report structure:   0%|          | 0/1 [00:00<?, ?it/s]"
      ]
     },
     "metadata": {},
     "output_type": "display_data"
    },
    {
     "data": {
      "application/vnd.jupyter.widget-view+json": {
       "model_id": "e0fcaaed3a134c51904ec32696137a9e",
       "version_major": 2,
       "version_minor": 0
      },
      "text/plain": [
       "Render HTML:   0%|          | 0/1 [00:00<?, ?it/s]"
      ]
     },
     "metadata": {},
     "output_type": "display_data"
    },
    {
     "data": {
      "application/vnd.jupyter.widget-view+json": {
       "model_id": "4745a615f5a240dba11b7533e3dab829",
       "version_major": 2,
       "version_minor": 0
      },
      "text/plain": [
       "Export report to file:   0%|          | 0/1 [00:00<?, ?it/s]"
      ]
     },
     "metadata": {},
     "output_type": "display_data"
    }
   ],
   "source": [
    "# Save the profile as an html file\n",
    "profile.to_file(\"movie_report.html\")"
   ]
  },
  {
   "cell_type": "markdown",
   "id": "fdd9684a",
   "metadata": {},
   "source": [
    "## 16. Exporting Data"
   ]
  },
  {
   "cell_type": "code",
   "execution_count": 108,
   "id": "b3f8240f",
   "metadata": {},
   "outputs": [],
   "source": [
    "# Export df_actual_features\n",
    "df_features.to_csv(os.path.join(path, '02. Data', 'Prepared Data', 'clean_movies.csv'))"
   ]
  },
  {
   "cell_type": "code",
   "execution_count": null,
   "id": "adf87e31",
   "metadata": {},
   "outputs": [],
   "source": []
  }
 ],
 "metadata": {
  "kernelspec": {
   "display_name": "Python 3 (ipykernel)",
   "language": "python",
   "name": "python3"
  },
  "language_info": {
   "codemirror_mode": {
    "name": "ipython",
    "version": 3
   },
   "file_extension": ".py",
   "mimetype": "text/x-python",
   "name": "python",
   "nbconvert_exporter": "python",
   "pygments_lexer": "ipython3",
   "version": "3.11.8"
  }
 },
 "nbformat": 4,
 "nbformat_minor": 5
}
