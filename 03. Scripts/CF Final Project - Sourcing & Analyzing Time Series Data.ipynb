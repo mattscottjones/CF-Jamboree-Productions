{
 "cells": [
  {
   "cell_type": "markdown",
   "id": "9e438bbc",
   "metadata": {},
   "source": [
    "# 6.6 Sourcing and Analyzing Time Series Data"
   ]
  },
  {
   "cell_type": "markdown",
   "id": "02298349",
   "metadata": {},
   "source": [
    "### This script contains the following points:\n",
    "\n",
    "#### 1. Importing Libraries\n",
    "#### 2. Importing Data\n",
    "#### 3. Data Wrangling, Subsetting, and Cleaning\n",
    "        Reason for subset\n",
    "#### 4. Time-Series Analysis: Decomposition\n",
    "        Decomposition Analysis\n",
    "#### 5. Time-Series Analysis: Check for Stationarity\n",
    "        Interpretation\n",
    "#### 6. Stationarize the Data\n",
    "        Interpretation\n",
    "#### 7. BONUS: Forecasting with ARIMA\n",
    "        Interpretation"
   ]
  },
  {
   "cell_type": "markdown",
   "id": "8abdfdc3",
   "metadata": {},
   "source": [
    "## 1. Importing Libraries"
   ]
  },
  {
   "cell_type": "code",
   "execution_count": 1,
   "id": "05cfc3f8",
   "metadata": {},
   "outputs": [],
   "source": [
    "import quandl\n",
    "import nasdaqdatalink\n",
    "import pandas as pd\n",
    "import numpy as np\n",
    "import math\n",
    "import seaborn as sns\n",
    "import matplotlib\n",
    "import matplotlib.pyplot as plt\n",
    "import matplotlib.pylab as pl\n",
    "import statsmodels.api as sm \n",
    "import os\n",
    "import warnings\n",
    "\n",
    "# Disable deprecation warnings\n",
    "warnings.filterwarnings(\"ignore\")\n",
    "\n",
    "# Plot styling option\n",
    "plt.style.use('fivethirtyeight')"
   ]
  },
  {
   "cell_type": "markdown",
   "id": "c19660a6",
   "metadata": {},
   "source": [
    "## 2. Importing Data"
   ]
  },
  {
   "cell_type": "code",
   "execution_count": 2,
   "id": "c0dd6588",
   "metadata": {},
   "outputs": [],
   "source": [
    "# Configure API key \n",
    "nasdaqdatalink.ApiConfig.api_key = 'skgw4LoKyB1U6RCy5_VJ'"
   ]
  },
  {
   "cell_type": "code",
   "execution_count": 3,
   "id": "8241501e",
   "metadata": {},
   "outputs": [],
   "source": [
    "# Import IMF Macroeconomic Statistics data, \n",
    "\n",
    "data = nasdaqdatalink.get_table('QDL/ODA', indicator='USA_PPPGDP')"
   ]
  },
  {
   "cell_type": "markdown",
   "id": "d80ced67",
   "metadata": {},
   "source": [
    "## 3. Data Wrangling, Subsetting, and Cleaning"
   ]
  },
  {
   "cell_type": "code",
   "execution_count": 4,
   "id": "282a73de",
   "metadata": {},
   "outputs": [
    {
     "data": {
      "text/html": [
       "<div>\n",
       "<style scoped>\n",
       "    .dataframe tbody tr th:only-of-type {\n",
       "        vertical-align: middle;\n",
       "    }\n",
       "\n",
       "    .dataframe tbody tr th {\n",
       "        vertical-align: top;\n",
       "    }\n",
       "\n",
       "    .dataframe thead th {\n",
       "        text-align: right;\n",
       "    }\n",
       "</style>\n",
       "<table border=\"1\" class=\"dataframe\">\n",
       "  <thead>\n",
       "    <tr style=\"text-align: right;\">\n",
       "      <th></th>\n",
       "      <th>indicator</th>\n",
       "      <th>date</th>\n",
       "      <th>value</th>\n",
       "    </tr>\n",
       "    <tr>\n",
       "      <th>None</th>\n",
       "      <th></th>\n",
       "      <th></th>\n",
       "      <th></th>\n",
       "    </tr>\n",
       "  </thead>\n",
       "  <tbody>\n",
       "    <tr>\n",
       "      <th>0</th>\n",
       "      <td>USA_PPPGDP</td>\n",
       "      <td>2028-12-31</td>\n",
       "      <td>32349.658</td>\n",
       "    </tr>\n",
       "    <tr>\n",
       "      <th>1</th>\n",
       "      <td>USA_PPPGDP</td>\n",
       "      <td>2027-12-31</td>\n",
       "      <td>31091.594</td>\n",
       "    </tr>\n",
       "    <tr>\n",
       "      <th>2</th>\n",
       "      <td>USA_PPPGDP</td>\n",
       "      <td>2026-12-31</td>\n",
       "      <td>29902.871</td>\n",
       "    </tr>\n",
       "    <tr>\n",
       "      <th>3</th>\n",
       "      <td>USA_PPPGDP</td>\n",
       "      <td>2025-12-31</td>\n",
       "      <td>28765.960</td>\n",
       "    </tr>\n",
       "    <tr>\n",
       "      <th>4</th>\n",
       "      <td>USA_PPPGDP</td>\n",
       "      <td>2024-12-31</td>\n",
       "      <td>27741.123</td>\n",
       "    </tr>\n",
       "  </tbody>\n",
       "</table>\n",
       "</div>"
      ],
      "text/plain": [
       "       indicator       date      value\n",
       "None                                  \n",
       "0     USA_PPPGDP 2028-12-31  32349.658\n",
       "1     USA_PPPGDP 2027-12-31  31091.594\n",
       "2     USA_PPPGDP 2026-12-31  29902.871\n",
       "3     USA_PPPGDP 2025-12-31  28765.960\n",
       "4     USA_PPPGDP 2024-12-31  27741.123"
      ]
     },
     "execution_count": 4,
     "metadata": {},
     "output_type": "execute_result"
    }
   ],
   "source": [
    "# Check the output\n",
    "data.head(5)\n",
    "\n",
    "# Data includes 5 forecasted years"
   ]
  },
  {
   "cell_type": "code",
   "execution_count": 5,
   "id": "2a6ece0f",
   "metadata": {},
   "outputs": [
    {
     "data": {
      "text/plain": [
       "(49, 3)"
      ]
     },
     "execution_count": 5,
     "metadata": {},
     "output_type": "execute_result"
    }
   ],
   "source": [
    "# Check the shape\n",
    "data.shape"
   ]
  },
  {
   "cell_type": "code",
   "execution_count": 6,
   "id": "0d364fb4",
   "metadata": {},
   "outputs": [],
   "source": [
    "data = data.sort_values(by = ['date'])"
   ]
  },
  {
   "cell_type": "code",
   "execution_count": 7,
   "id": "af668c66",
   "metadata": {},
   "outputs": [
    {
     "data": {
      "text/plain": [
       "[<matplotlib.lines.Line2D at 0x31a0e59d0>]"
      ]
     },
     "execution_count": 7,
     "metadata": {},
     "output_type": "execute_result"
    },
    {
     "data": {
      "image/png": "[encoded data removed]",
      "text/plain": [
       "<Figure size 640x480 with 1 Axes>"
      ]
     },
     "metadata": {},
     "output_type": "display_data"
    }
   ],
   "source": [
    "# Plot the data\n",
    "plt.plot('date', 'value', data = data, color = '#6C4471')"
   ]
  },
  {
   "cell_type": "code",
   "execution_count": 8,
   "id": "54ebcc89",
   "metadata": {},
   "outputs": [],
   "source": [
    "# Subset the data to only include observed data\n",
    "data2 = data.loc[(data['date'] >= '1980-01-01') & (data['date'] < '2024-07-05')]"
   ]
  },
  {
   "cell_type": "code",
   "execution_count": 9,
   "id": "7003be1f",
   "metadata": {},
   "outputs": [
    {
     "data": {
      "text/plain": [
       "(44, 3)"
      ]
     },
     "execution_count": 9,
     "metadata": {},
     "output_type": "execute_result"
    }
   ],
   "source": [
    "# Check the shape\n",
    "data2.shape"
   ]
  },
  {
   "cell_type": "code",
   "execution_count": 10,
   "id": "cae469e0",
   "metadata": {},
   "outputs": [],
   "source": [
    "from datetime import datetime\n",
    "\n",
    "data2['datetime'] = pd.to_datetime(data2['date']) # Create a datetime column from \"Date.\"\""
   ]
  },
  {
   "cell_type": "code",
   "execution_count": 11,
   "id": "b3fccb03",
   "metadata": {},
   "outputs": [
    {
     "data": {
      "text/plain": [
       "indicator            object\n",
       "date         datetime64[ns]\n",
       "value               float64\n",
       "datetime     datetime64[ns]\n",
       "dtype: object"
      ]
     },
     "execution_count": 11,
     "metadata": {},
     "output_type": "execute_result"
    }
   ],
   "source": [
    "data2.dtypes"
   ]
  },
  {
   "cell_type": "markdown",
   "id": "96b6752a",
   "metadata": {},
   "source": [
    "### Reason for subset:\n",
    "        We want to retain as much of the data as possible, since the values were only taken yearly. But we also \n",
    "        want to not include any of the forecast data. So we subset the data to exclude the 5 forecast values, \n",
    "        and include everything else (only starting from 1980)"
   ]
  },
  {
   "cell_type": "code",
   "execution_count": 12,
   "id": "79bc8874",
   "metadata": {},
   "outputs": [
    {
     "ename": "SyntaxError",
     "evalue": "invalid syntax (2227281955.py, line 2)",
     "output_type": "error",
     "traceback": [
      "\u001b[0;36m  Cell \u001b[0;32mIn[12], line 2\u001b[0;36m\u001b[0m\n\u001b[0;31m    plt.plot(data2, color = '#6C4471')...\u001b[0m\n\u001b[0m                                      ^\u001b[0m\n\u001b[0;31mSyntaxError\u001b[0m\u001b[0;31m:\u001b[0m invalid syntax\n"
     ]
    }
   ],
   "source": [
    "# Plot the data subset\n",
    "plt.plot(data2, color = '#6C4471')..."
   ]
  },
  {
   "cell_type": "code",
   "execution_count": null,
   "id": "961b8a42",
   "metadata": {},
   "outputs": [],
   "source": [
    "# Check for missing values\n",
    "data2.isnull().sum() "
   ]
  },
  {
   "cell_type": "code",
   "execution_count": null,
   "id": "3bc4eb26",
   "metadata": {},
   "outputs": [],
   "source": [
    "# Check for duplicated values\n",
    "dups = data2.duplicated()\n",
    "dups.sum()"
   ]
  },
  {
   "cell_type": "markdown",
   "id": "48d613a6",
   "metadata": {},
   "source": [
    "## 4. Time-Series Analysis: Decomposition"
   ]
  },
  {
   "cell_type": "code",
   "execution_count": null,
   "id": "938e2083",
   "metadata": {},
   "outputs": [],
   "source": [
    "# Use an additive model to decompose the data\n",
    "decomposition = sm.tsa.seasonal_decompose(data2, model='additive', period = 1)"
   ]
  },
  {
   "cell_type": "code",
   "execution_count": null,
   "id": "eb36687e",
   "metadata": {},
   "outputs": [],
   "source": [
    "from matplotlib.pylab import rcParams # This will define a fixed size for all special charts.\n",
    "\n",
    "rcParams['figure.figsize'] = 18, 7"
   ]
  },
  {
   "cell_type": "code",
   "execution_count": null,
   "id": "aef46f64",
   "metadata": {
    "scrolled": true
   },
   "outputs": [],
   "source": [
    "# Plot the decomposed components\n",
    "decomposition.plot()\n",
    "plt.show()"
   ]
  },
  {
   "cell_type": "markdown",
   "id": "619a62b7",
   "metadata": {},
   "source": [
    "### Decomposition Analysis:\n",
    "        The data does trend upwards over time, but it doesn't show any signs of seasonality or noise. I did not \n",
    "        have any expectations of the seasonality of this data coming into the analysis, but it is surprising \n",
    "        that both the seasonality and noise are consistently zero. This should mean that the data should be \n",
    "        close to stationarity, if not already there."
   ]
  },
  {
   "cell_type": "markdown",
   "id": "58d3ca2e",
   "metadata": {},
   "source": [
    "## 5. Time-Series Analysis: Check for Stationarity"
   ]
  },
  {
   "cell_type": "code",
   "execution_count": null,
   "id": "94156581",
   "metadata": {},
   "outputs": [],
   "source": [
    "# Import the adfuller() function\n",
    "from statsmodels.tsa.stattools import adfuller \n",
    "\n",
    "# Define the function\n",
    "def dickey_fuller(timeseries):\n",
    "    # Perform the Dickey-Fuller test:\n",
    "    print ('Dickey-Fuller Stationarity test:')\n",
    "    test = adfuller(timeseries, autolag = 'AIC')\n",
    "    result = pd.Series(test[0:4], index=['Test Statistic','p-value','Number of Lags Used','Number of Observations Used'])\n",
    "    for key,value in test[4].items():\n",
    "       result['Critical Value (%s)'%key] = value\n",
    "    print (result)\n",
    "\n",
    "# Apply the test using the function on the time series\n",
    "dickey_fuller(data2['value'])"
   ]
  },
  {
   "cell_type": "code",
   "execution_count": null,
   "id": "b647fbf9",
   "metadata": {},
   "outputs": [],
   "source": [
    "# Import the autocorrelation and partial correlation plots\n",
    "from statsmodels.graphics.tsaplots import plot_acf, plot_pacf\n",
    "\n",
    "# Plot out autocorrelations\n",
    "plot_acf(data2, color = '#6C4471')\n",
    "plt.show()"
   ]
  },
  {
   "cell_type": "markdown",
   "id": "e4f208b6",
   "metadata": {},
   "source": [
    "### Interpretation:\n",
    "        Although there are not too many autocorrelations in this time series, it is not stationary. The test \n",
    "        statistic is well above the critical values. So at least one round of transformations to force \n",
    "        stationarity is needed."
   ]
  },
  {
   "cell_type": "markdown",
   "id": "f9e367e3",
   "metadata": {},
   "source": [
    "## 6. Stationarize the Data"
   ]
  },
  {
   "cell_type": "code",
   "execution_count": null,
   "id": "1cd902c5",
   "metadata": {},
   "outputs": [],
   "source": [
    "# Use a log transformation to stationarize the data\n",
    "def log_stat(value):\n",
    "    return math.log(value)\n",
    "\n",
    "data_diff = data2['value'].apply(log_stat)"
   ]
  },
  {
   "cell_type": "code",
   "execution_count": null,
   "id": "759e657e",
   "metadata": {},
   "outputs": [],
   "source": [
    "# Remove any resulting null values\n",
    "data_diff.dropna(inplace = True)\n",
    "data_diff.head()"
   ]
  },
  {
   "cell_type": "code",
   "execution_count": null,
   "id": "8e354a67",
   "metadata": {},
   "outputs": [],
   "source": [
    "# Convert the series into a dataframe\n",
    "data_diff = pd.DataFrame(data_diff)"
   ]
  },
  {
   "cell_type": "code",
   "execution_count": null,
   "id": "8a0d073d",
   "metadata": {},
   "outputs": [],
   "source": [
    "# Plot the stationarized data\n",
    "plt.figure(figsize = (15,5), dpi = 100)\n",
    "plt.plot(data_diff, color = '#6C4471')"
   ]
  },
  {
   "cell_type": "code",
   "execution_count": null,
   "id": "7eb2f0fc",
   "metadata": {},
   "outputs": [],
   "source": [
    "# Perform a stationarity check\n",
    "dickey_fuller(data_diff)\n",
    "\n",
    "# The test statistic is below all critical values"
   ]
  },
  {
   "cell_type": "code",
   "execution_count": null,
   "id": "944efbf9",
   "metadata": {},
   "outputs": [],
   "source": [
    "# Plot out autocorrelations\n",
    "plot_acf(data_diff)\n",
    "plt.show()"
   ]
  },
  {
   "cell_type": "markdown",
   "id": "1936a079",
   "metadata": {},
   "source": [
    "### Interpretation:\n",
    "        The autocorrelation still looks the same. But now the the test statistic of the Dickey-Fuller test is \n",
    "        below the critical value (5%). This data is ready to move on to forecast modeling. "
   ]
  },
  {
   "cell_type": "markdown",
   "id": "c95f2e6d",
   "metadata": {},
   "source": [
    "## 7. BONUS: Forecasting with ARIMA"
   ]
  },
  {
   "cell_type": "code",
   "execution_count": null,
   "id": "4f658df8",
   "metadata": {},
   "outputs": [],
   "source": [
    "# Plot partial autocorrelations to determine parameter p\n",
    "plot_pacf(data_diff)\n",
    "plt.figure(figsize = (15,15), dpi = 300)\n",
    "plt.show()"
   ]
  },
  {
   "cell_type": "markdown",
   "id": "84557010",
   "metadata": {},
   "source": [
    "#### There are two high positive bars that indicate correlations. We'll make p = 2."
   ]
  },
  {
   "cell_type": "code",
   "execution_count": null,
   "id": "6e9e1831",
   "metadata": {},
   "outputs": [],
   "source": [
    "# Plot autocorrelations to determine parameter q\n",
    "plot_acf(data_diff)\n",
    "plt.figure(figsize = (15,5), dpi = 100)\n",
    "plt.show()"
   ]
  },
  {
   "cell_type": "markdown",
   "id": "64897d3b",
   "metadata": {},
   "source": [
    "#### There are five significant correlations that go beyond the blue border. We will try q = 3."
   ]
  },
  {
   "cell_type": "code",
   "execution_count": null,
   "id": "e9c1b332",
   "metadata": {},
   "outputs": [],
   "source": [
    "# Split the data\n",
    "train = data_diff['value'][:31]\n",
    "test = data_diff['value'][30:]"
   ]
  },
  {
   "cell_type": "code",
   "execution_count": null,
   "id": "da9a87a9",
   "metadata": {},
   "outputs": [],
   "source": [
    "# Plot the data subset\n",
    "plt.plot(train, label = 'training', color = '#6C4471')\n",
    "plt.plot(test, label = 'test', color = '#B9839A')\n",
    "plt.legend(loc = 'upper left', fontsize = 16)"
   ]
  },
  {
   "cell_type": "code",
   "execution_count": null,
   "id": "17091ef3",
   "metadata": {},
   "outputs": [],
   "source": [
    "# Import the model you need\n",
    "from statsmodels.tsa.api import ARIMA\n",
    "\n",
    "model = ARIMA(train, order = (2, 1, 3))  \n",
    "fitted = model.fit()  \n",
    "print(fitted.summary()) # Check model summary"
   ]
  },
  {
   "cell_type": "code",
   "execution_count": null,
   "id": "b04293e7",
   "metadata": {},
   "outputs": [],
   "source": [
    "# Forecast the data using the model\n",
    "fc = fitted.forecast(13, alpha = 0.05)  # 95% confidence interval\n",
    "conf = fitted.forecast(13, alpha = 0.05)"
   ]
  },
  {
   "cell_type": "code",
   "execution_count": null,
   "id": "e7593846",
   "metadata": {},
   "outputs": [],
   "source": [
    "# Calculate the standard error of the forecast data\n",
    "se = fc.sem()"
   ]
  },
  {
   "cell_type": "code",
   "execution_count": null,
   "id": "15d5ed34",
   "metadata": {},
   "outputs": [],
   "source": [
    "# Create a new dataframe to keep track of the confidence interval values\n",
    "d = {'lower': fc, 'upper': fc}\n",
    "confidence_intervals = pd.DataFrame(data = d)"
   ]
  },
  {
   "cell_type": "code",
   "execution_count": null,
   "id": "192ea732",
   "metadata": {},
   "outputs": [],
   "source": [
    "# Define a function to add/subtract the standard error from the forecast values\n",
    "def lower_interval(value):\n",
    "    return value - (se * 2)\n",
    "\n",
    "def upper_interval(value):\n",
    "    return value + (se * 2)\n",
    "\n",
    "# Calculate the confidence intervals\n",
    "confidence_intervals['lower'] = confidence_intervals['lower'].apply(lower_interval)\n",
    "confidence_intervals['upper'] = confidence_intervals['upper'].apply(upper_interval)"
   ]
  },
  {
   "cell_type": "code",
   "execution_count": null,
   "id": "9dfc7720",
   "metadata": {},
   "outputs": [],
   "source": [
    "# Check the output\n",
    "confidence_intervals"
   ]
  },
  {
   "cell_type": "code",
   "execution_count": null,
   "id": "6859cdba",
   "metadata": {},
   "outputs": [],
   "source": [
    "# Plot everything together\n",
    "plt.figure(figsize = (12,8), dpi = 100)\n",
    "plt.plot(train, label = 'training', color = '#6C4471')\n",
    "plt.plot(test, label = 'actual', color = '#B9839A')\n",
    "plt.plot(fc, label = 'forecast', color = '#2B1F3C')\n",
    "plt.plot(confidence_intervals['lower'], color = '#E8D2CC', alpha = 0.8)\n",
    "plt.plot(confidence_intervals['upper'], color = '#E8D2CC', alpha = 0.8)\n",
    "plt.fill_between(confidence_intervals.index, confidence_intervals['lower'], confidence_intervals['upper'], \n",
    "                 color = '#E8D2CC', alpha = 0.8)\n",
    "plt.title('Forecast vs Actuals')\n",
    "plt.legend(loc ='upper left', fontsize=14)\n",
    "plt.show()"
   ]
  },
  {
   "cell_type": "markdown",
   "id": "02071b12",
   "metadata": {},
   "source": [
    "### Interpretation:\n",
    "        After one round of log transformations, and adjusting the model parameters, I was able to get a \n",
    "        model that looks pretty close to forecasting the time series. The final model parameters were \n",
    "        p = 2, d = 1, q = 3.\n",
    "        \n",
    "        I am still unclear with how exactly these parameters affect the model and why changing the number could\n",
    "        improve the model's fit. In addition, when I first looked at stationarization, differencing increased \n",
    "        the variance in the data to a point that the confidence interval of the forecast model would never have  \n",
    "        covered the actual data. "
   ]
  },
  {
   "cell_type": "code",
   "execution_count": null,
   "id": "52aff555",
   "metadata": {},
   "outputs": [],
   "source": []
  }
 ],
 "metadata": {
  "kernelspec": {
   "display_name": "Python 3 (ipykernel)",
   "language": "python",
   "name": "python3"
  },
  "language_info": {
   "codemirror_mode": {
    "name": "ipython",
    "version": 3
   },
   "file_extension": ".py",
   "mimetype": "text/x-python",
   "name": "python",
   "nbconvert_exporter": "python",
   "pygments_lexer": "ipython3",
   "version": "3.11.8"
  }
 },
 "nbformat": 4,
 "nbformat_minor": 5
}
